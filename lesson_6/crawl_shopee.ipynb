{
 "cells": [
  {
   "cell_type": "markdown",
   "id": "e6d2b939-8ec8-49a2-b8e0-297b178730be",
   "metadata": {},
   "source": [
    "**Yêu cầu**\n",
    "* Vào trang shopee và đăng nhập (*nếu cần).\n",
    "* Crawl tất cả sản phẩm từ 1 phân loại hàng trên shopee. Ví dụ: [Thời trang nam](https://shopee.vn/Th%E1%BB%9Di-Trang-Nam-cat.11035567).\n",
    "* Thông tin cần crawl:\n",
    "  1. Thông tin cơ bản: tên sản phẩm, đánh giá sao, SL đánh giá, SL đã bán, khoảng giá;\n",
    "  2. Tất cả hình ảnh sản phẩm (hình kích cỡ lớn)\n",
    "  3. Phần \"Chi tiết sản phẩm\"\n",
    "  4. Phần \"Mô tả sản phẩm\"\n",
    "  5. Phần \"Đánh giá sản phẩm\": số lượng đánh giá theo số lượng sao (5 sao, 4 sao, 3 sao, ...)\n",
    "      * Chi tiết các đánh giá \"Có bình luận\": SL sao, ngày đánh giá, phân loại hàng, nội dung đánh giá.\n",
    "\n",
    "**Output mẫu**\n",
    "\n",
    "**thoi_trang_nam.json**\n",
    "```json\n",
    "[\n",
    "    {\n",
    "        \"product_name\": \"Áo thun Tia Sét, chất Cotton Co Dãn 4 Chiều -Hàng Hot Trend 2023\",\n",
    "        \"url\": \"https://shopee.vn/A%CC%81o-thun-Tia-S%C3%A9t-ch%E1%BA%A5t-Cotton-Co-Da%CC%83n-4-Chi%E1%BB%81u-H%C3%A0ng-Hot-Trend-2023-i.543220381.20069617451?sp_atk=9983d1ab-13fb-442f-b6b6-616b769c1ebf&xptdk=9983d1ab-13fb-442f-b6b6-616b769c1ebf\"\n",
    "        \"rating\": 4.5,\n",
    "        \"rating_count\": 826,\n",
    "        \"sale_count\": \"5k\",\n",
    "        \"price_range\": \"₫14.000 - ₫59.000\",\n",
    "        \n",
    "        \"product_images\": [\"vn-11134207-7qukw-lh89x8ppn702d1_tn.jpeg\", \"vn-11134207-7qukw-lh89x8ppq04y5d.jpeg\"],\n",
    "        \n",
    "        \"product_detail\": {\n",
    "            \"Danh mục\": [\"Shopee\", \"Men Clothes\", \"Tops\", \"T-shirts\"],\n",
    "            \"Thương hiệu\": \"noname\",\n",
    "            ...\n",
    "        },\n",
    "\n",
    "        \"product_description\": \"1. THÔNG TIN CHI TIẾT SẢN PHẨM ...\",\n",
    "        \"rating_scores\": {\n",
    "            \"5\": 666,\n",
    "            \"4\": 55,\n",
    "            \"3\", 27,\n",
    "            \"2\": 16,\n",
    "            \"1\": 49\n",
    "        },\n",
    "        \"ratings\": {\n",
    "            \"timestamp\": \"2023-03-01 18:10\",\n",
    "            \"variant\": \"Đen,X\",\n",
    "            \"review\": \"Shop giao hàng nhanh, phục vụ nhiệt tình, đóng hàng cẩn thận và chắc chắn. Áo đẹp nên mua nha mn. Tặng Shop 5 sao vì sự tư vấn nhiệt tình, siêu dễ thương luôn ạ.\"\n",
    "        }\n",
    "    }\n",
    "]\n",
    "```\n",
    "\n",
    "**image/**: chứa tất cả hình ảnh của các sản phẩm."
   ]
  },
  {
   "cell_type": "markdown",
   "id": "53d6a84e-bb18-45c4-b7a0-8d3d07c3825e",
   "metadata": {
    "execution": {
     "iopub.execute_input": "2023-09-22T04:58:15.609667Z",
     "iopub.status.busy": "2023-09-22T04:58:15.609296Z",
     "iopub.status.idle": "2023-09-22T04:58:15.615408Z",
     "shell.execute_reply": "2023-09-22T04:58:15.614623Z",
     "shell.execute_reply.started": "2023-09-22T04:58:15.609646Z"
    }
   },
   "source": [
    "**Tài liệu tham khảo**\n",
    "* Giả lập [nhập input](https://pythonexamples.org/python-selenium-enter-value-in-input-text/)\n",
    "* Giả lập [di chuyển chuột](https://www.selenium.dev/documentation/webdriver/actions_api/mouse/)\n",
    "* Giả lập [scroll đến element](https://stackoverflow.com/questions/41744368/scrolling-to-element-using-webdriver)"
   ]
  },
  {
   "cell_type": "markdown",
   "id": "55239520-014e-4ac5-b9da-d15786042017",
   "metadata": {},
   "source": [
    "# Configuration"
   ]
  },
  {
   "cell_type": "code",
   "execution_count": 1,
   "id": "85ebeb62-0426-4cdb-9139-b0f12697e2fc",
   "metadata": {
    "execution": {
     "iopub.execute_input": "2023-09-22T04:36:41.903222Z",
     "iopub.status.busy": "2023-09-22T04:36:41.902893Z",
     "iopub.status.idle": "2023-09-22T04:36:42.095698Z",
     "shell.execute_reply": "2023-09-22T04:36:42.095334Z",
     "shell.execute_reply.started": "2023-09-22T04:36:41.903197Z"
    }
   },
   "outputs": [],
   "source": [
    "import json\n",
    "import os\n",
    "import re\n",
    "from time import sleep\n",
    "\n",
    "import undetected_chromedriver as uc\n",
    "from bs4 import BeautifulSoup as BS\n",
    "from fake_useragent import UserAgent\n",
    "from selenium import webdriver\n",
    "from selenium.webdriver.chrome.service import Service\n",
    "from selenium.webdriver.common.by import By\n",
    "from selenium.webdriver.common.keys import Keys\n",
    "from tqdm import tqdm"
   ]
  },
  {
   "cell_type": "code",
   "execution_count": 2,
   "id": "750fb7a5-c283-48de-8f09-f24ad725b3e1",
   "metadata": {
    "execution": {
     "iopub.execute_input": "2023-09-22T04:37:30.858651Z",
     "iopub.status.busy": "2023-09-22T04:37:30.858078Z",
     "iopub.status.idle": "2023-09-22T04:37:30.862191Z",
     "shell.execute_reply": "2023-09-22T04:37:30.861392Z",
     "shell.execute_reply.started": "2023-09-22T04:37:30.858624Z"
    }
   },
   "outputs": [],
   "source": [
    "# Initialize browser\n",
    "# driver = "
   ]
  },
  {
   "cell_type": "markdown",
   "id": "4ca1147b-600f-47df-acdc-06d4ee37b01e",
   "metadata": {},
   "source": [
    "# "
   ]
  },
  {
   "cell_type": "code",
   "execution_count": null,
   "id": "98fc8f4b-9283-454e-8bfb-ebf6917c7c90",
   "metadata": {},
   "outputs": [],
   "source": []
  },
  {
   "cell_type": "code",
   "execution_count": null,
   "id": "fa3184cc-0956-48cc-afb1-93759a728269",
   "metadata": {},
   "outputs": [],
   "source": []
  },
  {
   "cell_type": "code",
   "execution_count": null,
   "id": "f6733115-e901-400f-b7aa-9d7affffa7b8",
   "metadata": {},
   "outputs": [],
   "source": []
  },
  {
   "cell_type": "code",
   "execution_count": null,
   "id": "2befca6c-9005-485f-bb78-f2026abb3f91",
   "metadata": {},
   "outputs": [],
   "source": []
  }
 ],
 "metadata": {
  "kernelspec": {
   "display_name": "python310",
   "language": "python",
   "name": "python310"
  },
  "language_info": {
   "codemirror_mode": {
    "name": "ipython",
    "version": 3
   },
   "file_extension": ".py",
   "mimetype": "text/x-python",
   "name": "python",
   "nbconvert_exporter": "python",
   "pygments_lexer": "ipython3",
   "version": "3.10.11"
  }
 },
 "nbformat": 4,
 "nbformat_minor": 5
}
