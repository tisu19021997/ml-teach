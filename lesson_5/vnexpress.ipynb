{
 "cells": [
  {
   "cell_type": "code",
   "execution_count": null,
   "metadata": {},
   "outputs": [],
   "source": [
    "import re\n",
    "import time\n",
    "from selenium import webdriver\n",
    "from selenium.webdriver.common.by import By\n",
    "from selenium.webdriver.common.keys import Keys"
   ]
  },
  {
   "cell_type": "code",
   "execution_count": null,
   "metadata": {},
   "outputs": [],
   "source": [
    "options = webdriver.ChromeOptions()\n",
    "driver = webdriver.Chrome(options=options)"
   ]
  },
  {
   "cell_type": "markdown",
   "metadata": {},
   "source": [
    "**Đến trang chủ**"
   ]
  },
  {
   "cell_type": "code",
   "execution_count": null,
   "metadata": {},
   "outputs": [],
   "source": [
    "url = 'https://vnexpress.net'\n",
    "driver.get(url)\n",
    "\n",
    "driver.execute_script(\n",
    "    'window.scrollTo({top: document.body.scrollHeight, behavior: \"smooth\"})')\n",
    "time.sleep(5)\n",
    "driver.execute_script('window.scrollTo({top: 0, behavior: \"smooth\"})')"
   ]
  },
  {
   "cell_type": "markdown",
   "metadata": {},
   "source": [
    "**Lấy link đến những bài viết**"
   ]
  },
  {
   "cell_type": "code",
   "execution_count": null,
   "metadata": {},
   "outputs": [],
   "source": [
    "POST_LINK_CLS = '.title-news a:not(.count_cmt)'\n",
    "\n",
    "post_links_el = driver.find_elements(By.CSS_SELECTOR, POST_LINK_CLS)\n",
    "post_links = [\n",
    "    el.get_attribute('href')\n",
    "    for el in post_links_el]\n",
    "print('Found', len(post_links), 'links.')\n",
    "post_links"
   ]
  },
  {
   "cell_type": "markdown",
   "metadata": {},
   "source": [
    "> Nhận xét: link của các post có những link không ở trang vnexpress, cần xử lý thêm."
   ]
  },
  {
   "cell_type": "code",
   "execution_count": null,
   "metadata": {},
   "outputs": [],
   "source": [
    "valid_post_links = []\n",
    "VNE_REGEX = '^https://vnexpress.net'\n",
    "for post_link in post_links:\n",
    "    if re.match(VNE_REGEX, post_link):\n",
    "        valid_post_links.append(post_link)\n",
    "    else:\n",
    "        print('Invalid link:', post_link)\n",
    "\n",
    "print('Total valid links:', len(valid_post_links))"
   ]
  },
  {
   "cell_type": "markdown",
   "metadata": {},
   "source": [
    "**Đi đến tất cả các trang và lấy tiêu đề + nội dung + hình thumbnail**\n",
    "\n",
    "Yêu cầu: tiêu đề và hình"
   ]
  },
  {
   "cell_type": "code",
   "execution_count": null,
   "metadata": {},
   "outputs": [],
   "source": [
    "import os\n",
    "import re\n",
    "from urllib import request\n",
    "from tqdm import tqdm\n",
    "from string import punctuation"
   ]
  },
  {
   "cell_type": "code",
   "execution_count": null,
   "metadata": {},
   "outputs": [],
   "source": [
    "POST_TITLE_CLS = '.sidebar-1 .title-detail'\n",
    "POST_CONTENT_CLS = 'article.fck_detail p.Normal'\n",
    "POST_IMG_CLS = '.fig-picture img[itemprop=\"contentUrl\"]'\n",
    "IMAGE_REGEX = r'([\\w-]+(?:.jpg|.png|.webm))'\n",
    "\n",
    "for post_link in tqdm(valid_post_links):\n",
    "    # Go to that link.\n",
    "    driver.get(post_link)\n",
    "    time.sleep(2)\n",
    "    # Get the things we need.\n",
    "    # Post title.\n",
    "    title = driver.find_element(By.CSS_SELECTOR, POST_TITLE_CLS)\n",
    "    # Post content.\n",
    "    contents_el = driver.find_elements(By.CSS_SELECTOR, POST_CONTENT_CLS)\n",
    "    contents = [content_el.get_attribute(\n",
    "        'innerText') for content_el in contents_el]\n",
    "    # Post images.\n",
    "    images_el = driver.find_elements(By.CSS_SELECTOR, POST_IMG_CLS)\n",
    "    images_src = [image_el.get_attribute('src') for image_el in images_el]\n",
    "    # Save images to local.\n",
    "    image_file_path = '/Users/minhquang/Desktop/ml/ml-teach/lesson_5/img'\n",
    "\n",
    "    for image_src in images_src:\n",
    "        image_file_name = re.search(IMAGE_REGEX, image_src)\n",
    "        if image_file_name:\n",
    "            image_file_name = image_file_name.group()\n",
    "            request.urlretrieve(image_src, os.path.join(\n",
    "                image_file_path, image_file_name))\n",
    "            print(f'Saved', image_file_name)\n",
    "\n",
    "    break"
   ]
  },
  {
   "cell_type": "code",
   "execution_count": null,
   "metadata": {},
   "outputs": [],
   "source": [
    "from selenium.webdriver.support import expected_conditions as EC\n",
    "from selenium.webdriver.support.ui import WebDriverWait\n",
    "from selenium.webdriver.common.action_chains import ActionChains"
   ]
  },
  {
   "cell_type": "code",
   "execution_count": null,
   "metadata": {},
   "outputs": [],
   "source": [
    "POST_TITLE_CLS = '.title-detail'\n",
    "POST_CONTENT_CLS = 'article.fck_detail p.Normal'\n",
    "POST_IMG_CLS = 'picture img[itemprop=\"contentUrl\"]'\n",
    "IMAGE_URL_REGEX = r'https:\\/\\/[\\w\\-\\./]+(?:.jpg|.png|.webm)'\n",
    "IMAGE_REGEX = r'([\\w-]+(?:.jpg|.png|.webm))'\n",
    "\n",
    "\n",
    "def title_to_slug(title):\n",
    "    # Remove punctuations.\n",
    "    title_ = re.sub(rf'[{punctuation}]', '', title)\n",
    "    # Replace duplicated spaces with one space.\n",
    "    title_ = re.sub(r'\\s+', ' ', title_)\n",
    "    title_slug = '-'.join(title_.lower().split(' '))\n",
    "    return title_slug\n",
    "\n",
    "\n",
    "for post_link in valid_post_links:\n",
    "    try:\n",
    "        # Go to that link.\n",
    "        driver.get(post_link)\n",
    "        driver.maximize_window()\n",
    "        driver.implicitly_wait(5)\n",
    "\n",
    "        # Scroll to end of page.\n",
    "        driver.execute_script(\n",
    "            'window.scrollTo({top: document.body.scrollHeight, behavior: \"smooth\"})')\n",
    "        # driver.execute_script('window.scrollTo({top: 0, behavior: \"smooth\"})')\n",
    "\n",
    "        # Get the things we need.\n",
    "        # Post title.\n",
    "        title = driver.find_element(\n",
    "            By.CSS_SELECTOR, POST_TITLE_CLS).get_attribute('innerText')\n",
    "        title_slug = title_to_slug(title)\n",
    "\n",
    "        # Post content.\n",
    "        contents_el = driver.find_elements(By.CSS_SELECTOR, POST_CONTENT_CLS)\n",
    "        contents = [content_el.get_attribute(\n",
    "            'innerText') for content_el in contents_el]\n",
    "\n",
    "        # Post images.\n",
    "        images_el = driver.find_elements(By.CSS_SELECTOR, POST_IMG_CLS)\n",
    "        # images_el = [image for image in WebDriverWait(driver, 10).until(EC.visibility_of_all_elements_located((By.CSS_SELECTOR, POST_IMG_CLS)))]\n",
    "        # driver.execute_script('arguments[0].scrollIntoView({block: \"center\", behavior: \"smooth\"});', images_el[-1])\n",
    "        images_src = list(set([image_el.get_attribute('src')\n",
    "                        for image_el in images_el]))\n",
    "        print('Found', len(images_src), 'images.')\n",
    "        # Save images to local.\n",
    "        image_file_path = '/Users/minhquang/Desktop/ml/ml-teach/lesson_5/img'\n",
    "\n",
    "        for i, image_src in enumerate(images_src):\n",
    "            image_file_name = re.search(IMAGE_REGEX, image_src)\n",
    "            if image_file_name:\n",
    "                image_file_name = image_file_name.group()\n",
    "                image_save_path = os.path.join(\n",
    "                    image_file_path, image_file_name)\n",
    "                print(f'Saving', image_src)\n",
    "                _, res = request.urlretrieve(image_src, image_save_path)\n",
    "                # Get image format (png, jpg, ...).\n",
    "                image_type = res.get_content_subtype()\n",
    "                # Rename the saved file to correct format.\n",
    "                new_image_save_path = os.path.join(\n",
    "                    image_file_path, title_slug + '-' + str(i) + f'.{image_type}')\n",
    "                os.rename(image_save_path, new_image_save_path)\n",
    "    except Exception as e:\n",
    "        print('Error ====>' e)"
   ]
  },
  {
   "cell_type": "code",
   "execution_count": null,
   "metadata": {},
   "outputs": [],
   "source": [
    "from multiprocessing import Pool\n",
    "\n",
    "# TODO: implement save image using multiprocessing starmap.\n",
    "# May need this to do multiprocessing on urlretrieve: https://stackoverflow.com/questions/49022363/request-urlretrieve-in-multiprocessing-python-gets-stuck\n",
    "\n",
    "\n",
    "def save_image_multi(image_src, index, title_slug):\n",
    "    image_file_name = re.search(IMAGE_REGEX, image_src)\n",
    "\n",
    "    if image_file_name:\n",
    "        image_file_name = image_file_name.group()\n",
    "        image_save_path = os.path.join(\n",
    "            image_file_path, image_file_name)\n",
    "        print(f'Saving', image_src)\n",
    "        _, res = request.urlretrieve(image_src, image_save_path)\n",
    "        # Get image format (png, jpg, ...).\n",
    "        image_type = res.get_content_subtype()\n",
    "        # Rename the saved file to correct format.\n",
    "        new_image_save_path = os.path.join(\n",
    "            image_file_path, title_slug + '-' + str(index) + f'.{image_type}')\n",
    "        os.rename(image_save_path, new_image_save_path)"
   ]
  },
  {
   "cell_type": "markdown",
   "metadata": {},
   "source": []
  }
 ],
 "metadata": {
  "kernelspec": {
   "display_name": "ml",
   "language": "python",
   "name": "python3"
  },
  "language_info": {
   "codemirror_mode": {
    "name": "ipython",
    "version": 3
   },
   "file_extension": ".py",
   "mimetype": "text/x-python",
   "name": "python",
   "nbconvert_exporter": "python",
   "pygments_lexer": "ipython3",
   "version": "3.9.15"
  },
  "orig_nbformat": 4
 },
 "nbformat": 4,
 "nbformat_minor": 2
}
