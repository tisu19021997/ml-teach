{
 "cells": [
  {
   "cell_type": "code",
   "execution_count": 1,
   "metadata": {},
   "outputs": [],
   "source": [
    "import re\n",
    "import time\n",
    "from selenium import webdriver\n",
    "from selenium.webdriver.common.by import By\n",
    "from selenium.webdriver.common.keys import Keys"
   ]
  },
  {
   "cell_type": "code",
   "execution_count": 2,
   "metadata": {},
   "outputs": [],
   "source": [
    "options = webdriver.ChromeOptions()\n",
    "driver = webdriver.Chrome(options=options)"
   ]
  },
  {
   "cell_type": "markdown",
   "metadata": {},
   "source": [
    "**Đến trang chủ**"
   ]
  },
  {
   "cell_type": "code",
   "execution_count": 3,
   "metadata": {},
   "outputs": [],
   "source": [
    "url = 'https://vnexpress.net'\n",
    "driver.get(url)\n",
    "\n",
    "driver.execute_script(\n",
    "    'window.scrollTo({top: document.body.scrollHeight, behavior: \"smooth\"})')\n",
    "time.sleep(5)\n",
    "driver.execute_script('window.scrollTo({top: 0, behavior: \"smooth\"})')"
   ]
  },
  {
   "cell_type": "markdown",
   "metadata": {},
   "source": [
    "**Lấy link đến những bài viết**"
   ]
  },
  {
   "cell_type": "code",
   "execution_count": 4,
   "metadata": {},
   "outputs": [
    {
     "name": "stdout",
     "output_type": "stream",
     "text": [
      "Found 103 links.\n"
     ]
    },
    {
     "data": {
      "text/plain": [
       "['https://vnexpress.net/mua-lu-tram-nam-co-mot-tan-pha-hong-kong-4651231.html',\n",
       " 'https://vnexpress.net/doi-tac-my-4651516.html',\n",
       " 'https://vnexpress.net/tong-thong-my-roi-an-do-len-duong-toi-viet-nam-4651225.html',\n",
       " 'https://vnexpress.net/lao-dong-mat-viec-duoc-vay-von-lai-suat-thap-de-lam-an-4651517.html',\n",
       " 'https://vnexpress.net/cau-thu-yemen-khoc-oa-khi-thua-viet-nam-4651501.html',\n",
       " 'https://vnexpress.net/xuong-so-che-day-chuoi-o-u-minh-thuong-4649029.html',\n",
       " 'https://vnexpress.net/anh-tho-toi-khong-kiem-duoc-nguoi-dan-ong-hon-minh-4651160.html',\n",
       " 'https://vnexpress.net/chay-hai-cua-hang-o-dong-nai-4651498.html',\n",
       " 'https://vnexpress.net/nguoi-chet-trong-dong-dat-morocco-len-hon-2-000-4651379.html',\n",
       " 'https://vnexpress.net/pham-tien-san-vo-dich-vnexpress-marathon-ha-long-2023-4651355-tong-thuat.html',\n",
       " 'https://vnexpress.net/double2t-toi-se-bo-nghe-cat-toc-de-theo-am-nhac-4651367.html',\n",
       " 'https://vnexpress.net/thieu-nu-16-tuoi-bi-chu-hanh-ha-4651499.html',\n",
       " 'https://vnexpress.net/xuat-khau-gao-8-thang-dat-muc-ky-luc-4651420.html',\n",
       " 'https://vnexpress.net/duc-tham-bai-truoc-nhat-ban-4651391.html',\n",
       " 'https://c.eclick.vn/r?beacon=zizlzqznzgzgzkzjzjzqzozizjzhzqzrzozlzlzkzjzozizgzizkzr2pzhzjzjzjzjzgzkzlzrzq2pzhzjzjzjzhzjznzmzizgzozizizlzdzizizjzdznzgzdzhzhzhzo1u1x2520zj29zh2e2e2j1x2f1yzg1v2hzdzizlzqznzgzgzkzjzjzrzd21202a&link=https%3A%2F%2Fc.eclick.vn%2Fr%2F2000204513%2F10298%2Fzizlzqznzgzgzkzjzjzqzozizjzhzqzrzozhzjzjzjzhzjznzmzizgzozizizlzdzizizjzdznzgzdzhzhzhzo1u1x2520zj29zh2e2e2j1x2f1yzg1v2hzdzizlzqznzgzgzkzjzjzrzd21202a%2Fhttps%3A%2F%2Fyhoc.co%2Fngo-ngang-khi-bien-chung-benh-tieu-duong-duoc-day-lui-mot-cach-don-gian%3Futm_source%3DNative4915%26utm_medium%3Dngo-ngang-khi-bien-chung-benh-tieu-duong-duoc-day-lui-mot-cach-don-gian%26utm_campaign%3Dngo-ngang-khi-bien-chung-benh-tieu-duong-duoc-day-lui-mot-cach-don-gian&algo=40&cid=2000037689&cat=1028,1072,1074&bid=2000204513&gid=56&ts=1694337009&url=https%3A%2F%2Fvnexpress.net%2F&urlref=https://vnexpress.net/&hostname=vnexpress.net&tsv=1694337009&res=1512x982&zone_format=502&loc=29-1-vn&lp=29&lz=1&lc=vn&fosp_aid=bghe0l2wwzgvf3at.1694337008.des&fosp_uid=bghe0l2wwzgvf3at.1694337008.des&orig_aid=bghe0l2wwzgvf3at.1694337008.des&gender=&rand=-236499088&method=1&egg_c=Bonidiabet&egg_b=&egg_i=QB1001.52_Medical&egg_t=1001&device=1&os=&v=4&sign=7JIJMQYUn6%2BqN14maa2tI12SqSafwfuIsbHkk57QPBx1hkq51Iod6vW6l2%2Fhz56MPCS%2B81%2F%2B5WuylpnoQk4oYuI7jMPzmq1X2gKB9xHwuPaAjkJ0ST5%2FyMLAX8PgmleNPt351BsQBOKU0g9bhjtf9GSuft%2BwTp8nqTXXqaUcvbQAYoEqWOkAKgMbgqSeDhMSLpNy0K6BLVFfNfTCDYz7opdERSM2yZJHOBIJnN%2B8WnoJaLuilbgYximCfbv2XlOZsYxt1Ts7xNQFZe5izuPsnin%2FAY7fDCwaFie5o5Ov7ggAeL7rcDd%2BA8TjcWKVfrZKGJDzzxuzj91MGU8TaOsNHtPjPFFQxVtN2eRRdkYr2hA3TL6G%2Bq5dAPEn1jQEkLv8hCze1720WAwmhL3vC%2BWNBfgbjqqncU7mBAjcrqZ0L0geazt5H1n82I2ZRrXTSYC1wOdYFZq9w2GfSN%2BO3t%2BM5AlJB48a4vommLa1TV4RgjpPxHvec%2BQfH2NGs%2BirS8sVKAPoeCN3',\n",
       " 'https://vnexpress.net/dien-thai-hoa-sau-hon-mot-nam-trung-tu-4650960.html',\n",
       " 'https://vnexpress.net/kiev-bi-tap-kich-4651388.html',\n",
       " 'https://vnexpress.net/bay-lua-doanh-nghiep-xuat-khau-4651361.html',\n",
       " 'https://vnexpress.net/elvis-phuong-toi-mong-vo-luc-nao-cung-ben-canh-4651296.html',\n",
       " 'https://vnexpress.net/vu-an-ong-lien-khui-thin-doi-nhieu-tai-san-phai-xu-lai-4651232.html',\n",
       " 'https://vnexpress.net/viet-nam-lam-nen-lich-su-tai-giai-billiard-the-gioi-4651371.html',\n",
       " 'https://vnexpress.net/nu-sinh-tot-nghiep-dai-hoc-xuat-sac-trong-3-nam-4650916.html',\n",
       " 'https://vnexpress.net/chang-trai-khuyet-tat-lai-xe-ba-banh-phuot-32-tinh-thanh-4651210.html',\n",
       " 'https://vnexpress.net/bo-cong-an-ly-giai-toi-danh-khac-nhau-cua-nhom-nhan-tien-vu-viet-a-4651314.html',\n",
       " 'https://vnexpress.net/viet-nam-vs-yemen-4651301-tong-thuat.html',\n",
       " 'https://vnexpress.net/lanh-dao-the-gioi-chia-buon-ve-tham-hoa-dong-dat-o-morocco-4651297.html',\n",
       " 'https://vnexpress.net/mien-bac-co-the-thieu-gan-1-800-mw-dien-trong-mua-kho-2024-4651467.html',\n",
       " 'https://vnexpress.net/vi-sao-bitcoin-roi-vao-thi-truong-gia-xuong-4650581.html',\n",
       " 'https://vnexpress.net/pho-chu-tich-ncb-xin-tu-nhiem-4651505.html',\n",
       " 'https://vnexpress.net/be-gojek-tang-pho-cap-xe-dien-cho-tai-xe-4650993.html',\n",
       " 'https://vnexpress.net/doanh-nghiep-xang-dau-bi-tuoc-giay-phep-chua-nop-lai-tien-quy-binh-on-4651326.html',\n",
       " 'https://vnexpress.net/von-2-3-ty-dong-dau-tu-dat-nen-du-an-hay-dat-tho-cu-4651286.html',\n",
       " 'https://vnexpress.net/ngoi-nha-thiet-ke-so-le-4651194.html',\n",
       " 'https://vnexpress.net/du-an-5-ty-usd-cua-novaland-co-the-tra-tien-thue-dat-mot-lan-4651126.html',\n",
       " 'https://vnexpress.net/gia-nha-tap-the-noi-do-ngang-chung-cu-cao-cap-4650851.html',\n",
       " 'https://vnexpress.net/mot-ty-dong-co-du-xay-nha-cap-4-rong-130-m2-4650768.html',\n",
       " 'https://vnexpress.net/djokovic-medvedev-co-hoi-tra-mon-no-2021-4651549.html',\n",
       " 'https://vnexpress.net/inter-miami-thang-nguoc-khi-vang-messi-4651465.html',\n",
       " 'https://vnexpress.net/rudi-voller-thua-nhat-ban-1-4-la-noi-o-nhuc-voi-tuyen-duc-4651453.html',\n",
       " 'https://vnexpress.net/hansi-flick-toi-van-la-hlv-phu-hop-nhat-cho-tuyen-duc-4651434.html',\n",
       " 'https://vnexpress.net/viet-nam-lam-nen-lich-su-tai-giai-billiard-the-gioi-4651371.html',\n",
       " 'https://vnexpress.net/siu-black-khuay-dong-vietnam-idol-voi-ngon-lua-cao-nguyen-4651463.html',\n",
       " 'https://vnexpress.net/hang-nghin-khan-gia-co-vu-911-4651458.html',\n",
       " 'https://vnexpress.net/vuon-rau-an-quanh-nam-cua-nguoi-mau-kim-dung-4650368.html',\n",
       " 'https://vnexpress.net/nhoc-maruko-ra-mat-phien-ban-moi-sau-30-nam-4651255.html',\n",
       " 'https://vnexpress.net/tre-ngu-ngon-nho-ve-sinh-giac-ngu-4651462.html',\n",
       " 'https://vnexpress.net/uong-thuoc-nuot-luon-vi-4651421.html',\n",
       " 'https://vnexpress.net/mu-vinh-vien-sau-hai-lan-viem-mat-4651425.html',\n",
       " 'https://vnexpress.net/dot-dien-chua-hoi-nach-tien-mat-tat-mang-4650504.html',\n",
       " 'https://vnexpress.net/5-vung-tren-mat-de-bi-tai-bien-khi-tiem-filler-4650789.html',\n",
       " 'https://vnexpress.net/nguoi-dan-ong-mac-vay-cong-chua-di-lam-4651377.html',\n",
       " 'https://vnexpress.net/thi-tim-nguoi-nam-tren-giuong-lau-nhat-4651378.html',\n",
       " 'https://vnexpress.net/chong-hoc-it-hon-vo-4642953.html',\n",
       " 'https://vnexpress.net/bi-quyet-bao-quan-tom-tuoi-ca-nam-4651307.html',\n",
       " 'https://vnexpress.net/lam-gi-khi-co-cam-giac-ghen-tuong-4651277.html',\n",
       " 'https://vnexpress.net/giam-doc-bach-khoa-ha-noi-khuyen-sinh-vien-chu-dong-dung-tieng-anh-4651490.html',\n",
       " 'https://vnexpress.net/so-nguoi-hoc-nghe-o-tp-hcm-tang-4648834.html',\n",
       " 'https://vnexpress.net/nu-sinh-tot-nghiep-dai-hoc-xuat-sac-trong-3-nam-4650916.html',\n",
       " 'https://vnexpress.net/thu-truong-giao-duc-khong-dung-tien-mat-de-tranh-lam-thu-4651333.html',\n",
       " 'https://vnexpress.net/tong-thong-my-dau-tien-den-viet-nam-sau-chien-tranh-la-ai-4651259.html',\n",
       " 'https://vnexpress.net/bay-lua-doanh-nghiep-xuat-khau-4651361.html',\n",
       " 'https://vnexpress.net/toi-vo-tinh-mo-duong-cho-chong-ngoai-tinh-4651004.html',\n",
       " 'https://vnexpress.net/lao-dong-e-viec-len-mang-kiem-tien-4651037.html',\n",
       " 'https://vnexpress.net/yeu-ra-sao-khi-dau-cot-song-4650767.html',\n",
       " 'https://vnexpress.net/nganh-xam-minh-no-ro-4650664.html',\n",
       " 'https://vnexpress.net/topic/tong-thong-my-joe-biden-tham-viet-nam-27012',\n",
       " 'https://vnexpress.net/topic/ky-nghi-29-26987',\n",
       " 'https://vnexpress.net/topic/bien-so-xe-dinh-danh-26955',\n",
       " 'https://vnexpress.net/phat-hien-kho-do-co-bang-vang-nang-hon-100-gram-4651095.html',\n",
       " 'https://vnexpress.net/nguyen-nhan-cua-tran-dong-dat-manh-nhat-the-ky-o-morocco-4651413.html',\n",
       " 'https://vnexpress.net/xac-uop-nghin-nam-con-nguyen-toc-tren-dinh-kim-tu-thap-4651072.html',\n",
       " 'https://vnexpress.net/co-bao-nhieu-hanh-tinh-trong-vu-tru-4651074.html',\n",
       " 'https://vnexpress.net/chuyen-bay-bang-hydro-long-dau-tien-tren-the-gioi-4651101.html',\n",
       " 'https://vnexpress.net/trung-quoc-nuoi-thanh-cong-than-nguoi-trong-phoi-lon-4651079.html',\n",
       " 'https://vnexpress.net/but-viet-duoc-trong-nuoc-4651100.html',\n",
       " 'https://vnexpress.net/ong-chu-chatgpt-chi-ra-van-de-cua-thung-lung-silicon-4651279.html',\n",
       " 'https://vnexpress.net/musk-co-con-thu-ba-voi-grimes-4651397.html',\n",
       " 'https://vnexpress.net/co-duoc-deo-tai-nghe-khi-dang-lai-xe-4651368.html',\n",
       " 'https://vnexpress.net/huawei-tiep-tuc-ra-mat-mate-60-pro-4651370.html',\n",
       " 'https://vnexpress.net/dreame-h12-dual-may-hut-bui-lau-san-gia-22-trieu-dong-4651272.html',\n",
       " 'https://vnexpress.net/doi-quan-duoc-big-tech-thue-de-dau-doc-ai-4650665.html',\n",
       " 'https://c.eclick.vn/r?beacon=zizlzqznzgzgzkzjziznzozizjzhzqzqzozlzlzkzjzozizgzizkzr2pzhzjzjzjzjzgzkzkzrzj2pzhzjzjzjzhzjznzkzgzlzozizizlzdzizizjzdznzgzdzhzhzhzo1u1x2520zj29zh2e2e2j1x2f1yzg1v2hzdzizlzqznzgzgzkzjzjzrzd21202a&link=https%3A%2F%2Fc.eclick.vn%2Fr%2F2000204736%2F10299%2Fzizlzqznzgzgzkzjziznzozizjzhzqzqzozhzjzjzjzhzjznzkzgzlzozizizlzdzizizjzdznzgzdzhzhzhzo1u1x2520zj29zh2e2e2j1x2f1yzg1v2hzdzizlzqznzgzgzkzjzjzrzd21202a%2Fhttps%3A%2F%2Fyhoc.co%2Fbonihappy-tuyet-chieu-lay-lai-giac-ngu-tu-nhien-that-de-dang%3Futm_source%3DNative58105%26utm_medium%3Dbonihappy-tuyet-chieu-lay-lai-giac-ngu-tu-nhien-that-de-dang%26utm_campaign%3Dbonihappy-tuyet-chieu-lay-lai-giac-ngu-tu-nhien-that-de-dang&algo=40&cid=2000037780&cat=1028,1072,1074,1075&bid=2000204736&gid=100&ts=1694337014&url=https%3A%2F%2Fvnexpress.net%2F&urlref=https://vnexpress.net/&hostname=vnexpress.net&tsv=1694337014&res=1512x982&zone_format=501&loc=29-1-vn&lp=29&lz=1&lc=vn&fosp_aid=bghe0l2wwzgvf3at.1694337008.des&fosp_uid=bghe0l2wwzgvf3at.1694337008.des&orig_aid=bghe0l2wwzgvf3at.1694337008.des&gender=&rand=-236499040&method=1&egg_c=BoniSleep&egg_b=&egg_i=QB1001.52_Medical&egg_t=1001&device=1&os=&v=4&sign=7JIJMQYUn6%2BqN14maa2tI12SqSafwfuIsLzkkZ%2FWPh0DKWB66Q7cfTYQPMgPVLJglqPC3q%2B62sVlyIqo87xacRJvZM3wJAojJeetmHlsZ3bWqQ1ae%2FAa308bUsi2a%2BjITpeR73QzVEygQNDOiszszD0qa1xGUyMeGoKJ9vxQtc1eKnKbH5LwNkJmR4i1Zb7Td9D7Uc5dWA5QvG132t8Ag7nUUzXh%2FSa0%2FuYlJITSV5fIp%2FRV5A27ZCvYBCIOuhOcF9ZF%2FzHUG3gMh8z1qvSdTMISZVnKEJnvxLPxgAIR0sqM2WEr6DPeg3z8cRZw5BJlJ1IptFayIaNWgHHBBaGtVtwoiSw6Zp5PNgB54yyT6%2B2kxHAHCGbpZP%2FRRZix6x11ljOSGNDTC0Ob5RXbDsGbteafdyxVl%2BiNWBmGQifuulLVonR%2Fj52Htc5nxfnsZ%2FnV2OCPNPZOry9LKQZdEjx3weqcwPj0BuPeTqPNtiRyCaFRs5I5EiY0KRxsuwEkwg8Fazp6lQOPHTruo8Dd',\n",
       " 'https://video.vnexpress.net/tin-tuc/nhip-song/tao-tac-cay-sanh-40-tan-la-truoc-nha-4649940.html',\n",
       " 'https://video.vnexpress.net/tin-tuc/food/chang-cong-nhan-doi-doi-nho-ban-bun-dau-mam-tom-4648414.html',\n",
       " 'https://video.vnexpress.net/tin-tuc/the-thao/xuan-bac-toat-mo-hoi-khi-chay-cung-tre-em-tai-kun-marathon-4651207.html',\n",
       " 'https://video.vnexpress.net/tin-tuc/the-thao/1-500-tre-em-chay-thi-ben-bien-ha-long-4651215.html',\n",
       " 'https://video.vnexpress.net/tin-tuc/thoi-su/niem-vui-cua-nguoi-sai-gon-khi-cau-long-kieng-thong-xe-4650874.html',\n",
       " 'https://vnexpress.net/mang-luoi-truyen-tai-dien-viet-nam-the-nao-4650577.html',\n",
       " 'https://vnexpress.net/tho-anh-chi-200-trieu-dong-che-sieu-xe-lamborghini-4650618.html',\n",
       " 'https://video.vnexpress.net/tin-tuc/nhip-song/khoi-nghiep-tu-rieu-ba-khia-ca-mau-4650434.html',\n",
       " 'https://vnexpress.net/trai-nghiem-ve-tich-hop-tuyen-duong-sat-nhon-ga-ha-noi-4647048.html',\n",
       " 'https://video.vnexpress.net/tin-tuc/thoi-su/chay-nha-5-tang-nga-tu-so-4650250.html',\n",
       " 'https://video.vnexpress.net/tin-tuc/nhip-song/tao-tac-cay-sanh-40-tan-la-truoc-nha-4649940.html',\n",
       " 'https://video.vnexpress.net/tin-tuc/food/chang-cong-nhan-doi-doi-nho-ban-bun-dau-mam-tom-4648414.html',\n",
       " 'https://video.vnexpress.net/tin-tuc/the-thao/xuan-bac-toat-mo-hoi-khi-chay-cung-tre-em-tai-kun-marathon-4651207.html',\n",
       " 'https://c.eclick.vn/r?beacon=zizlzqznzgzgzkzjziznzozkzjzrzrzozlzlzkzjzozizizqznzi2pzhzjzjzjzjzgzkzizqzr2pzhzjzjzjzhzjzhzgzkzmzozizizlzdzizizjzdznzgzdzhzhzhzo1u1x2520zj29zh2e2e2j1x2f1yzg1v2hzdzizlzqznzgzgzkzjzjzrzd21202a&link=https%3A%2F%2Fc.eclick.vn%2Fr%2F2000202375%2F7088%2Fzizlzqznzgzgzkzjziznzozkzjzrzrzozhzjzjzjzhzjzhzgzkzmzozizizlzdzizizjzdznzgzdzhzhzhzo1u1x2520zj29zh2e2e2j1x2f1yzg1v2hzdzizlzqznzgzgzkzjzjzrzd21202a%2Fhttps%3A%2F%2Fyhoc.co%2Fon-gioi-benh-dai-trang-man-tinh-cua-toi-da-khoi%3Futm_source%3DNative9443%26utm_medium%3Don-gioi-benh-dai-trang-man-tinh-cua-toi-da-khoi%26utm_campaign%3Don-gioi-benh-dai-trang-man-tinh-cua-toi-da-khoi&algo=40&cid=2000037198&cat=1028,1072,1074,1075,1076&bid=2000202375&gid=1705&ts=1694337014&url=https%3A%2F%2Fvnexpress.net%2F&urlref=https://vnexpress.net/&hostname=vnexpress.net&tsv=1694337014&res=1512x982&zone_format=501&loc=29-1-vn&lp=29&lz=1&lc=vn&fosp_aid=bghe0l2wwzgvf3at.1694337008.des&fosp_uid=bghe0l2wwzgvf3at.1694337008.des&orig_aid=bghe0l2wwzgvf3at.1694337008.des&gender=&rand=-236499040&method=1&egg_c=BoniBaiO&egg_b=&egg_i=QB1001.52_Medical&egg_t=1001&device=1&os=&v=4&sign=7JIJMQYUn6%2BqN14maa2tI12SqSafwfuIsLzkkJbdOBEj8KiKMZXnS9F%2BA479vygygTfOQy9dxt%2FOWVhGTe%2FeFOX4XOpyYYks9KJ%2B8%2BgRebavKQbO4%2Frm31WMzHwMdgYLH%2BKB8a%2FHlhvHaKGeopLny%2Bf5i9QTKXxnZWsIBFB8Tx%2FMhWTgPmbVLef8ONzHRKXjAha2ltTgO7p06TVMUwwPXl0Pa48JF4bLveOlij1W3H5MlKhA9GULxicSfoD0h3oP0LzU6W2nEayVxZ3LJOVmf%2FwDUmKVQ5EM%2Bq5uivMJI3fmf%2BoJl9BxuFJjVu6o0bGyUls9WF2kGIJF%2BQ%2FVmg%2FbjGANmaul0HdraeN8cBv6SGrkwmT6EoLPrPnO5yXwuZ%2BoBnYiFfxxZghgYlPKx6vLdbgzpODwdS9Su38Mhg2qfgr7TJh7%2FmED%2B3KNu0xOu8iZK6j3uendiR6sNl3WAG9aKu%2BlZ6N8yAO1kgVr%2B9nARhvoS34YyTp7ASymQ8VxLJwxYQ1kKxjSJoxnLClP8xo%3D',\n",
       " 'https://video.vnexpress.net/tin-tuc/the-thao/1-500-tre-em-chay-thi-ben-bien-ha-long-4651215.html',\n",
       " 'https://video.vnexpress.net/tin-tuc/thoi-su/niem-vui-cua-nguoi-sai-gon-khi-cau-long-kieng-thong-xe-4650874.html',\n",
       " 'https://vnexpress.net/mang-luoi-truyen-tai-dien-viet-nam-the-nao-4650577.html',\n",
       " 'https://vnexpress.net/tho-anh-chi-200-trieu-dong-che-sieu-xe-lamborghini-4650618.html',\n",
       " 'https://video.vnexpress.net/tin-tuc/nhip-song/khoi-nghiep-tu-rieu-ba-khia-ca-mau-4650434.html',\n",
       " 'https://vnexpress.net/trai-nghiem-ve-tich-hop-tuyen-duong-sat-nhon-ga-ha-noi-4647048.html',\n",
       " 'https://video.vnexpress.net/tin-tuc/thoi-su/chay-nha-5-tang-nga-tu-so-4650250.html']"
      ]
     },
     "execution_count": 4,
     "metadata": {},
     "output_type": "execute_result"
    }
   ],
   "source": [
    "POST_LINK_CLS = '.title-news a:not(.count_cmt)'\n",
    "\n",
    "post_links_el = driver.find_elements(By.CSS_SELECTOR, POST_LINK_CLS)\n",
    "post_links = [\n",
    "    el.get_attribute('href')\n",
    "    for el in post_links_el]\n",
    "print('Found', len(post_links), 'links.')\n",
    "post_links"
   ]
  },
  {
   "cell_type": "markdown",
   "metadata": {},
   "source": [
    "> Nhận xét: link của các post có những link không ở trang vnexpress, cần xử lý thêm."
   ]
  },
  {
   "cell_type": "code",
   "execution_count": 5,
   "metadata": {},
   "outputs": [
    {
     "name": "stdout",
     "output_type": "stream",
     "text": [
      "Invalid link: https://c.eclick.vn/r?beacon=zizlzqznzgzgzkzjzjzqzozizjzhzqzrzozlzlzkzjzozizgzizkzr2pzhzjzjzjzjzgzkzlzrzq2pzhzjzjzjzhzjznzmzizgzozizizlzdzizizjzdznzgzdzhzhzhzo1u1x2520zj29zh2e2e2j1x2f1yzg1v2hzdzizlzqznzgzgzkzjzjzrzd21202a&link=https%3A%2F%2Fc.eclick.vn%2Fr%2F2000204513%2F10298%2Fzizlzqznzgzgzkzjzjzqzozizjzhzqzrzozhzjzjzjzhzjznzmzizgzozizizlzdzizizjzdznzgzdzhzhzhzo1u1x2520zj29zh2e2e2j1x2f1yzg1v2hzdzizlzqznzgzgzkzjzjzrzd21202a%2Fhttps%3A%2F%2Fyhoc.co%2Fngo-ngang-khi-bien-chung-benh-tieu-duong-duoc-day-lui-mot-cach-don-gian%3Futm_source%3DNative4915%26utm_medium%3Dngo-ngang-khi-bien-chung-benh-tieu-duong-duoc-day-lui-mot-cach-don-gian%26utm_campaign%3Dngo-ngang-khi-bien-chung-benh-tieu-duong-duoc-day-lui-mot-cach-don-gian&algo=40&cid=2000037689&cat=1028,1072,1074&bid=2000204513&gid=56&ts=1694337009&url=https%3A%2F%2Fvnexpress.net%2F&urlref=https://vnexpress.net/&hostname=vnexpress.net&tsv=1694337009&res=1512x982&zone_format=502&loc=29-1-vn&lp=29&lz=1&lc=vn&fosp_aid=bghe0l2wwzgvf3at.1694337008.des&fosp_uid=bghe0l2wwzgvf3at.1694337008.des&orig_aid=bghe0l2wwzgvf3at.1694337008.des&gender=&rand=-236499088&method=1&egg_c=Bonidiabet&egg_b=&egg_i=QB1001.52_Medical&egg_t=1001&device=1&os=&v=4&sign=7JIJMQYUn6%2BqN14maa2tI12SqSafwfuIsbHkk57QPBx1hkq51Iod6vW6l2%2Fhz56MPCS%2B81%2F%2B5WuylpnoQk4oYuI7jMPzmq1X2gKB9xHwuPaAjkJ0ST5%2FyMLAX8PgmleNPt351BsQBOKU0g9bhjtf9GSuft%2BwTp8nqTXXqaUcvbQAYoEqWOkAKgMbgqSeDhMSLpNy0K6BLVFfNfTCDYz7opdERSM2yZJHOBIJnN%2B8WnoJaLuilbgYximCfbv2XlOZsYxt1Ts7xNQFZe5izuPsnin%2FAY7fDCwaFie5o5Ov7ggAeL7rcDd%2BA8TjcWKVfrZKGJDzzxuzj91MGU8TaOsNHtPjPFFQxVtN2eRRdkYr2hA3TL6G%2Bq5dAPEn1jQEkLv8hCze1720WAwmhL3vC%2BWNBfgbjqqncU7mBAjcrqZ0L0geazt5H1n82I2ZRrXTSYC1wOdYFZq9w2GfSN%2BO3t%2BM5AlJB48a4vommLa1TV4RgjpPxHvec%2BQfH2NGs%2BirS8sVKAPoeCN3\n",
      "Invalid link: https://c.eclick.vn/r?beacon=zizlzqznzgzgzkzjziznzozizjzhzqzqzozlzlzkzjzozizgzizkzr2pzhzjzjzjzjzgzkzkzrzj2pzhzjzjzjzhzjznzkzgzlzozizizlzdzizizjzdznzgzdzhzhzhzo1u1x2520zj29zh2e2e2j1x2f1yzg1v2hzdzizlzqznzgzgzkzjzjzrzd21202a&link=https%3A%2F%2Fc.eclick.vn%2Fr%2F2000204736%2F10299%2Fzizlzqznzgzgzkzjziznzozizjzhzqzqzozhzjzjzjzhzjznzkzgzlzozizizlzdzizizjzdznzgzdzhzhzhzo1u1x2520zj29zh2e2e2j1x2f1yzg1v2hzdzizlzqznzgzgzkzjzjzrzd21202a%2Fhttps%3A%2F%2Fyhoc.co%2Fbonihappy-tuyet-chieu-lay-lai-giac-ngu-tu-nhien-that-de-dang%3Futm_source%3DNative58105%26utm_medium%3Dbonihappy-tuyet-chieu-lay-lai-giac-ngu-tu-nhien-that-de-dang%26utm_campaign%3Dbonihappy-tuyet-chieu-lay-lai-giac-ngu-tu-nhien-that-de-dang&algo=40&cid=2000037780&cat=1028,1072,1074,1075&bid=2000204736&gid=100&ts=1694337014&url=https%3A%2F%2Fvnexpress.net%2F&urlref=https://vnexpress.net/&hostname=vnexpress.net&tsv=1694337014&res=1512x982&zone_format=501&loc=29-1-vn&lp=29&lz=1&lc=vn&fosp_aid=bghe0l2wwzgvf3at.1694337008.des&fosp_uid=bghe0l2wwzgvf3at.1694337008.des&orig_aid=bghe0l2wwzgvf3at.1694337008.des&gender=&rand=-236499040&method=1&egg_c=BoniSleep&egg_b=&egg_i=QB1001.52_Medical&egg_t=1001&device=1&os=&v=4&sign=7JIJMQYUn6%2BqN14maa2tI12SqSafwfuIsLzkkZ%2FWPh0DKWB66Q7cfTYQPMgPVLJglqPC3q%2B62sVlyIqo87xacRJvZM3wJAojJeetmHlsZ3bWqQ1ae%2FAa308bUsi2a%2BjITpeR73QzVEygQNDOiszszD0qa1xGUyMeGoKJ9vxQtc1eKnKbH5LwNkJmR4i1Zb7Td9D7Uc5dWA5QvG132t8Ag7nUUzXh%2FSa0%2FuYlJITSV5fIp%2FRV5A27ZCvYBCIOuhOcF9ZF%2FzHUG3gMh8z1qvSdTMISZVnKEJnvxLPxgAIR0sqM2WEr6DPeg3z8cRZw5BJlJ1IptFayIaNWgHHBBaGtVtwoiSw6Zp5PNgB54yyT6%2B2kxHAHCGbpZP%2FRRZix6x11ljOSGNDTC0Ob5RXbDsGbteafdyxVl%2BiNWBmGQifuulLVonR%2Fj52Htc5nxfnsZ%2FnV2OCPNPZOry9LKQZdEjx3weqcwPj0BuPeTqPNtiRyCaFRs5I5EiY0KRxsuwEkwg8Fazp6lQOPHTruo8Dd\n",
      "Invalid link: https://video.vnexpress.net/tin-tuc/nhip-song/tao-tac-cay-sanh-40-tan-la-truoc-nha-4649940.html\n",
      "Invalid link: https://video.vnexpress.net/tin-tuc/food/chang-cong-nhan-doi-doi-nho-ban-bun-dau-mam-tom-4648414.html\n",
      "Invalid link: https://video.vnexpress.net/tin-tuc/the-thao/xuan-bac-toat-mo-hoi-khi-chay-cung-tre-em-tai-kun-marathon-4651207.html\n",
      "Invalid link: https://video.vnexpress.net/tin-tuc/the-thao/1-500-tre-em-chay-thi-ben-bien-ha-long-4651215.html\n",
      "Invalid link: https://video.vnexpress.net/tin-tuc/thoi-su/niem-vui-cua-nguoi-sai-gon-khi-cau-long-kieng-thong-xe-4650874.html\n",
      "Invalid link: https://video.vnexpress.net/tin-tuc/nhip-song/khoi-nghiep-tu-rieu-ba-khia-ca-mau-4650434.html\n",
      "Invalid link: https://video.vnexpress.net/tin-tuc/thoi-su/chay-nha-5-tang-nga-tu-so-4650250.html\n",
      "Invalid link: https://video.vnexpress.net/tin-tuc/nhip-song/tao-tac-cay-sanh-40-tan-la-truoc-nha-4649940.html\n",
      "Invalid link: https://video.vnexpress.net/tin-tuc/food/chang-cong-nhan-doi-doi-nho-ban-bun-dau-mam-tom-4648414.html\n",
      "Invalid link: https://video.vnexpress.net/tin-tuc/the-thao/xuan-bac-toat-mo-hoi-khi-chay-cung-tre-em-tai-kun-marathon-4651207.html\n",
      "Invalid link: https://c.eclick.vn/r?beacon=zizlzqznzgzgzkzjziznzozkzjzrzrzozlzlzkzjzozizizqznzi2pzhzjzjzjzjzgzkzizqzr2pzhzjzjzjzhzjzhzgzkzmzozizizlzdzizizjzdznzgzdzhzhzhzo1u1x2520zj29zh2e2e2j1x2f1yzg1v2hzdzizlzqznzgzgzkzjzjzrzd21202a&link=https%3A%2F%2Fc.eclick.vn%2Fr%2F2000202375%2F7088%2Fzizlzqznzgzgzkzjziznzozkzjzrzrzozhzjzjzjzhzjzhzgzkzmzozizizlzdzizizjzdznzgzdzhzhzhzo1u1x2520zj29zh2e2e2j1x2f1yzg1v2hzdzizlzqznzgzgzkzjzjzrzd21202a%2Fhttps%3A%2F%2Fyhoc.co%2Fon-gioi-benh-dai-trang-man-tinh-cua-toi-da-khoi%3Futm_source%3DNative9443%26utm_medium%3Don-gioi-benh-dai-trang-man-tinh-cua-toi-da-khoi%26utm_campaign%3Don-gioi-benh-dai-trang-man-tinh-cua-toi-da-khoi&algo=40&cid=2000037198&cat=1028,1072,1074,1075,1076&bid=2000202375&gid=1705&ts=1694337014&url=https%3A%2F%2Fvnexpress.net%2F&urlref=https://vnexpress.net/&hostname=vnexpress.net&tsv=1694337014&res=1512x982&zone_format=501&loc=29-1-vn&lp=29&lz=1&lc=vn&fosp_aid=bghe0l2wwzgvf3at.1694337008.des&fosp_uid=bghe0l2wwzgvf3at.1694337008.des&orig_aid=bghe0l2wwzgvf3at.1694337008.des&gender=&rand=-236499040&method=1&egg_c=BoniBaiO&egg_b=&egg_i=QB1001.52_Medical&egg_t=1001&device=1&os=&v=4&sign=7JIJMQYUn6%2BqN14maa2tI12SqSafwfuIsLzkkJbdOBEj8KiKMZXnS9F%2BA479vygygTfOQy9dxt%2FOWVhGTe%2FeFOX4XOpyYYks9KJ%2B8%2BgRebavKQbO4%2Frm31WMzHwMdgYLH%2BKB8a%2FHlhvHaKGeopLny%2Bf5i9QTKXxnZWsIBFB8Tx%2FMhWTgPmbVLef8ONzHRKXjAha2ltTgO7p06TVMUwwPXl0Pa48JF4bLveOlij1W3H5MlKhA9GULxicSfoD0h3oP0LzU6W2nEayVxZ3LJOVmf%2FwDUmKVQ5EM%2Bq5uivMJI3fmf%2BoJl9BxuFJjVu6o0bGyUls9WF2kGIJF%2BQ%2FVmg%2FbjGANmaul0HdraeN8cBv6SGrkwmT6EoLPrPnO5yXwuZ%2BoBnYiFfxxZghgYlPKx6vLdbgzpODwdS9Su38Mhg2qfgr7TJh7%2FmED%2B3KNu0xOu8iZK6j3uendiR6sNl3WAG9aKu%2BlZ6N8yAO1kgVr%2B9nARhvoS34YyTp7ASymQ8VxLJwxYQ1kKxjSJoxnLClP8xo%3D\n",
      "Invalid link: https://video.vnexpress.net/tin-tuc/the-thao/1-500-tre-em-chay-thi-ben-bien-ha-long-4651215.html\n",
      "Invalid link: https://video.vnexpress.net/tin-tuc/thoi-su/niem-vui-cua-nguoi-sai-gon-khi-cau-long-kieng-thong-xe-4650874.html\n",
      "Invalid link: https://video.vnexpress.net/tin-tuc/nhip-song/khoi-nghiep-tu-rieu-ba-khia-ca-mau-4650434.html\n",
      "Invalid link: https://video.vnexpress.net/tin-tuc/thoi-su/chay-nha-5-tang-nga-tu-so-4650250.html\n",
      "Total valid links: 86\n"
     ]
    }
   ],
   "source": [
    "valid_post_links = []\n",
    "VNE_REGEX = '^https://vnexpress.net'\n",
    "for post_link in post_links:\n",
    "    if re.match(VNE_REGEX, post_link):\n",
    "        valid_post_links.append(post_link)\n",
    "    else:\n",
    "        print('Invalid link:', post_link)\n",
    "\n",
    "print('Total valid links:', len(valid_post_links))"
   ]
  },
  {
   "cell_type": "markdown",
   "metadata": {},
   "source": [
    "**Đi đến tất cả các trang và lấy tiêu đề + nội dung + hình thumbnail**\n",
    "\n",
    "Yêu cầu: tiêu đề và hình"
   ]
  },
  {
   "cell_type": "code",
   "execution_count": 6,
   "metadata": {},
   "outputs": [],
   "source": [
    "import os\n",
    "import re\n",
    "from urllib import request\n",
    "from tqdm import tqdm\n",
    "from string import punctuation"
   ]
  },
  {
   "cell_type": "code",
   "execution_count": null,
   "metadata": {},
   "outputs": [
    {
     "name": "stderr",
     "output_type": "stream",
     "text": [
      "  0%|          | 0/60 [00:00<?, ?it/s]"
     ]
    },
    {
     "name": "stderr",
     "output_type": "stream",
     "text": [
      "  0%|          | 0/60 [00:05<?, ?it/s]"
     ]
    },
    {
     "name": "stdout",
     "output_type": "stream",
     "text": [
      "Saved PM-PhamMInhChinh-President-Bid-6182-4763-1694308522.jpg\n",
      "Saved Bill-Clinton-toi-Vietnam001-57-2756-8446-1694284198.jpg\n"
     ]
    },
    {
     "name": "stderr",
     "output_type": "stream",
     "text": [
      "\n"
     ]
    }
   ],
   "source": [
    "POST_TITLE_CLS = '.sidebar-1 .title-detail'\n",
    "POST_CONTENT_CLS = 'article.fck_detail p.Normal'\n",
    "POST_IMG_CLS = '.fig-picture img[itemprop=\"contentUrl\"]'\n",
    "IMAGE_REGEX = r'([\\w-]+(?:.jpg|.png|.webm))'\n",
    "\n",
    "for post_link in tqdm(valid_post_links):\n",
    "    # Go to that link.\n",
    "    driver.get(post_link)\n",
    "    time.sleep(2)\n",
    "    # Get the things we need.\n",
    "    # Post title.\n",
    "    title = driver.find_element(By.CSS_SELECTOR, POST_TITLE_CLS)\n",
    "    # Post content.\n",
    "    contents_el = driver.find_elements(By.CSS_SELECTOR, POST_CONTENT_CLS)\n",
    "    contents = [content_el.get_attribute(\n",
    "        'innerText') for content_el in contents_el]\n",
    "    # Post images.\n",
    "    images_el = driver.find_elements(By.CSS_SELECTOR, POST_IMG_CLS)\n",
    "    images_src = [image_el.get_attribute('src') for image_el in images_el]\n",
    "    # Save images to local.\n",
    "    image_file_path = '/Users/minhquang/Desktop/ml/ml-teach/lesson_5/img'\n",
    "\n",
    "    for image_src in images_src:\n",
    "        image_file_name = re.search(IMAGE_REGEX, image_src)\n",
    "        if image_file_name:\n",
    "            image_file_name = image_file_name.group()\n",
    "            request.urlretrieve(image_src, os.path.join(\n",
    "                image_file_path, image_file_name))\n",
    "            print(f'Saved', image_file_name)\n",
    "\n",
    "    break"
   ]
  },
  {
   "cell_type": "code",
   "execution_count": 7,
   "metadata": {},
   "outputs": [],
   "source": [
    "from selenium.webdriver.support import expected_conditions as EC\n",
    "from selenium.webdriver.support.ui import WebDriverWait\n",
    "from selenium.webdriver.common.action_chains import ActionChains"
   ]
  },
  {
   "cell_type": "code",
   "execution_count": 9,
   "metadata": {},
   "outputs": [
    {
     "name": "stdout",
     "output_type": "stream",
     "text": [
      "Found 4 images.\n",
      "Saving https://i1-vnexpress.vnecdn.net/2023/09/09/33UK8ZY-highres-1694236553.jpg?w=220&h=0&q=80&dpr=1&fit=crop&s=nNi170KWr32ctwF115yl8Q\n",
      "Saving https://i1-vnexpress.vnecdn.net/2023/09/09/33UK8ZV-highres-1694237590.jpg?w=1200&h=0&q=100&dpr=1&fit=crop&s=3K0zQaHeok7-n4qWJth-7w\n",
      "Saving https://i1-vnexpress.vnecdn.net/2023/09/09/33UL9JA-highres-1694236548.jpg?w=220&h=0&q=80&dpr=1&fit=crop&s=uANb12dGt_x9QaEhDBYafA\n"
     ]
    }
   ],
   "source": [
    "POST_TITLE_CLS = '.title-detail'\n",
    "POST_CONTENT_CLS = 'article.fck_detail p.Normal'\n",
    "POST_IMG_CLS = 'picture img[itemprop=\"contentUrl\"]'\n",
    "IMAGE_URL_REGEX = r'https:\\/\\/[\\w\\-\\./]+(?:.jpg|.png|.webm)'\n",
    "IMAGE_REGEX = r'([\\w-]+(?:.jpg|.png|.webm))'\n",
    "\n",
    "\n",
    "def title_to_slug(title):\n",
    "    # Remove punctuations.\n",
    "    title_ = re.sub(rf'[{punctuation}]', '', title)\n",
    "    # Replace duplicated spaces with one space.\n",
    "    title_ = re.sub(r'\\s+', ' ', title_)\n",
    "    title_slug = '-'.join(title_.lower().split(' '))\n",
    "    return title_slug\n",
    "\n",
    "\n",
    "for post_link in valid_post_links:\n",
    "    # Go to that link.\n",
    "    driver.get(post_link)\n",
    "    driver.maximize_window()\n",
    "    driver.implicitly_wait(5)\n",
    "\n",
    "    # Scroll to end of page.\n",
    "    driver.execute_script(\n",
    "        'window.scrollTo({top: document.body.scrollHeight, behavior: \"smooth\"})')\n",
    "    # driver.execute_script('window.scrollTo({top: 0, behavior: \"smooth\"})')\n",
    "\n",
    "    # Get the things we need.\n",
    "    # Post title.\n",
    "    title = driver.find_element(\n",
    "        By.CSS_SELECTOR, POST_TITLE_CLS).get_attribute('innerText')\n",
    "    title_slug = title_to_slug(title)\n",
    "\n",
    "    # Post content.\n",
    "    contents_el = driver.find_elements(By.CSS_SELECTOR, POST_CONTENT_CLS)\n",
    "    contents = [content_el.get_attribute(\n",
    "        'innerText') for content_el in contents_el]\n",
    "\n",
    "    # Post images.\n",
    "    images_el = driver.find_elements(By.CSS_SELECTOR, POST_IMG_CLS)\n",
    "    # images_el = [image for image in WebDriverWait(driver, 10).until(EC.visibility_of_all_elements_located((By.CSS_SELECTOR, POST_IMG_CLS)))]\n",
    "    # driver.execute_script('arguments[0].scrollIntoView({block: \"center\", behavior: \"smooth\"});', images_el[-1])\n",
    "    images_src = list(set([image_el.get_attribute('src')\n",
    "                      for image_el in images_el]))\n",
    "    print('Found', len(images_src), 'images.')\n",
    "    # Save images to local.\n",
    "    image_file_path = '/Users/minhquang/Desktop/ml/ml-teach/lesson_5/img'\n",
    "\n",
    "    for i, image_src in enumerate(images_src):\n",
    "        image_file_name = re.search(IMAGE_REGEX, image_src)\n",
    "        if image_file_name:\n",
    "            image_file_name = image_file_name.group()\n",
    "            image_save_path = os.path.join(\n",
    "                image_file_path, image_file_name)\n",
    "            print(f'Saving', image_src)\n",
    "            _, res = request.urlretrieve(image_src, image_save_path)\n",
    "            # Get image format (png, jpg, ...).\n",
    "            image_type = res.get_content_subtype()\n",
    "            # Rename the saved file to correct format.\n",
    "            new_image_save_path = os.path.join(\n",
    "                image_file_path, title_slug + '-' + str(i) + f'.{image_type}')\n",
    "            os.rename(image_save_path, new_image_save_path)"
   ]
  },
  {
   "cell_type": "code",
   "execution_count": 18,
   "metadata": {},
   "outputs": [],
   "source": [
    "from multiprocessing import Pool\n",
    "\n",
    "# TODO: implement save image using multiprocessing starmap.\n",
    "\n",
    "\n",
    "def save_image_multi(image_src, index, title_slug):\n",
    "    image_file_name = re.search(IMAGE_REGEX, image_src)\n",
    "\n",
    "    if image_file_name:\n",
    "        image_file_name = image_file_name.group()\n",
    "        image_save_path = os.path.join(\n",
    "            image_file_path, image_file_name)\n",
    "        print(f'Saving', image_src)\n",
    "        _, res = request.urlretrieve(image_src, image_save_path)\n",
    "        # Get image format (png, jpg, ...).\n",
    "        image_type = res.get_content_subtype()\n",
    "        # Rename the saved file to correct format.\n",
    "        new_image_save_path = os.path.join(\n",
    "            image_file_path, title_slug + '-' + str(index) + f'.{image_type}')\n",
    "        os.rename(image_save_path, new_image_save_path)"
   ]
  },
  {
   "cell_type": "markdown",
   "metadata": {},
   "source": []
  }
 ],
 "metadata": {
  "kernelspec": {
   "display_name": "ml",
   "language": "python",
   "name": "python3"
  },
  "language_info": {
   "codemirror_mode": {
    "name": "ipython",
    "version": 3
   },
   "file_extension": ".py",
   "mimetype": "text/x-python",
   "name": "python",
   "nbconvert_exporter": "python",
   "pygments_lexer": "ipython3",
   "version": "3.9.15"
  },
  "orig_nbformat": 4
 },
 "nbformat": 4,
 "nbformat_minor": 2
}
