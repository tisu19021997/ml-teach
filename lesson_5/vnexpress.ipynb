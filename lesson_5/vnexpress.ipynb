{
 "cells": [
  {
   "cell_type": "code",
   "execution_count": 1,
   "metadata": {},
   "outputs": [],
   "source": [
    "import re\n",
    "import time\n",
    "from selenium import webdriver\n",
    "from selenium.webdriver.common.by import By\n",
    "from selenium.webdriver.common.keys import Keys"
   ]
  },
  {
   "cell_type": "code",
   "execution_count": 17,
   "metadata": {},
   "outputs": [],
   "source": [
    "options = webdriver.ChromeOptions()\n",
    "driver = webdriver.Chrome(options=options)"
   ]
  },
  {
   "cell_type": "markdown",
   "metadata": {},
   "source": [
    "**Đến trang chủ**"
   ]
  },
  {
   "cell_type": "code",
   "execution_count": 18,
   "metadata": {},
   "outputs": [],
   "source": [
    "url = 'https://vnexpress.net'\n",
    "driver.get(url)\n",
    "\n",
    "driver.execute_script(\n",
    "    'window.scrollTo({top: document.body.scrollHeight, behavior: \"smooth\"})')\n",
    "time.sleep(5)\n",
    "driver.execute_script('window.scrollTo({top: 0, behavior: \"smooth\"})')"
   ]
  },
  {
   "cell_type": "markdown",
   "metadata": {},
   "source": [
    "**Lấy link đến những bài viết**"
   ]
  },
  {
   "cell_type": "code",
   "execution_count": 19,
   "metadata": {},
   "outputs": [
    {
     "name": "stdout",
     "output_type": "stream",
     "text": [
      "Found 26 links.\n"
     ]
    },
    {
     "data": {
      "text/plain": [
       "['https://vnexpress.net/mua-lu-tram-nam-co-mot-tan-pha-hong-kong-4651231.html',\n",
       " 'https://vnexpress.net/qua-cua-tinh-ban-4651198.html',\n",
       " 'https://vnexpress.net/tong-thong-my-roi-an-do-len-duong-toi-viet-nam-4651225.html',\n",
       " 'https://vnexpress.net/lao-dong-mat-viec-duoc-vay-von-lai-suat-thap-de-lam-an-4651517.html',\n",
       " 'https://vnexpress.net/cau-thu-yemen-khoc-oa-khi-thua-viet-nam-4651501.html',\n",
       " 'https://vnexpress.net/xuong-so-che-day-chuoi-o-u-minh-thuong-4649029.html',\n",
       " 'https://vnexpress.net/anh-tho-toi-khong-kiem-duoc-nguoi-dan-ong-hon-minh-4651160.html',\n",
       " 'https://vnexpress.net/chay-hai-cua-hang-o-dong-nai-4651498.html',\n",
       " 'https://vnexpress.net/nguoi-chet-trong-dong-dat-morocco-len-hon-2-000-4651379.html',\n",
       " 'https://vnexpress.net/pham-tien-san-vo-dich-vnexpress-marathon-ha-long-2023-4651355-tong-thuat.html',\n",
       " 'https://vnexpress.net/double2t-toi-se-bo-nghe-cat-toc-de-theo-am-nhac-4651367.html',\n",
       " 'https://vnexpress.net/thieu-nu-16-tuoi-bi-chu-hanh-ha-4651499.html',\n",
       " 'https://vnexpress.net/xuat-khau-gao-8-thang-dat-muc-ky-luc-4651420.html',\n",
       " 'https://vnexpress.net/duc-tham-bai-truoc-nhat-ban-4651391.html',\n",
       " 'https://c.eclick.vn/r?beacon=zizlzqznzgzgzlzgzrzqzozizjzhzqzrzozlzlzkzjzozizrzmzhzr2pzhzjzjzjzjzgzkzrzmzn2pzhzjzjzjzhzjznzrzrznzozizizlzdzizizjzdznzgzdzhzhzhzo2l1u1v232a1uzr2fzg2lzqzhzj1vzl1yzdzizlzqznzgzgzlzgzrzrzd21202a&link=https%3A%2F%2Fc.eclick.vn%2Fr%2F2000204884%2F10298%2Fzizlzqznzgzgzlzgzrzqzozizjzhzqzrzozhzjzjzjzhzjznzrzrznzozizizlzdzizizjzdznzgzdzhzhzhzo2l1u1v232a1uzr2fzg2lzqzhzj1vzl1yzdzizlzqznzgzgzlzgzrzrzd21202a%2Fhttps%3A%2F%2Fvnexpress.net%2Fso-hoa%2Flaptop-ho-tro-nhieu-tien-tich-cho-sinh-vien-4650387.html%3F&algo=40&cid=2000037854&cat=2223,2241,2242,2243,2244,2245&bid=2000204884&gid=2000204884&ts=1694336389&url=https%3A%2F%2Fvnexpress.net%2F&urlref=https://vnexpress.net/&hostname=vnexpress.net&tsv=1694336389&res=1512x982&zone_format=501&loc=29-1-vn&lp=29&lz=1&lc=vn&fosp_aid=xbajsb8v3x920a6f.1694336388.des&fosp_uid=xbajsb8v3x920a6f.1694336388.des&orig_aid=xbajsb8v3x920a6f.1694336388.des&gender=&rand=-236505292&method=1&egg_c=&egg_b=&egg_i=&egg_t=1001&device=1&os=&v=4&sign=7JIJMQYUn6%2BqN14maa2tI12SqSWfxfKItbHkl5%2FWOBwvaiIpEIkaNGL5Otbn4cZrQQ0frc1qH1J2bICzGvG5yTLJAQfuG0kXGGtuc4PYUsB2EPN%2B4UXW%2BfaYNuKU0wMiTP4MkizqzXPKT5yC20dT9NVofDSanTgGIph9RVohM531nhJhK14G%2BQl1gJVz%2Bhp60RDFkaDqXdmqo6zQDyHikkyfDl6ObZmkPtoDVhMvSqTNg9YxN0V7v3dj%2FHsVMjBVWwkMOLi1w0gMqlk0i1nOha8qcbGTXC1IIbP8be8Uak%2Fo6MDnVGwhfIj1KABvbXmzrhCL8sKZJ3U84i3pK5KHj3GfRSAT4Ku7mWehpJeDMc0n82m3H8i7WoOTKLcb6NM6OvqnNR%2B1bb8Vy7Jv2yKfsOECIUiGdTzt6QXUGMlLommsAl%2BY%2FUHJ6l55oB5Ty8U7JyGryV35kGiHexSTOYdX6bPUCPX%2FFWIZO9SZSZM%2BYqEc30D6Mn655fznUCkwO6p%2F2zJxx2mWgjzvbNuxtYxxsAgTb0KVvWGYTDmmPZbqe%2B4v',\n",
       " 'https://vnexpress.net/dien-thai-hoa-sau-hon-mot-nam-trung-tu-4650960.html',\n",
       " 'https://vnexpress.net/kiev-bi-tap-kich-4651388.html',\n",
       " 'https://vnexpress.net/bay-lua-doanh-nghiep-xuat-khau-4651361.html',\n",
       " 'https://vnexpress.net/elvis-phuong-toi-mong-vo-luc-nao-cung-ben-canh-4651296.html',\n",
       " 'https://vnexpress.net/vu-an-ong-lien-khui-thin-doi-nhieu-tai-san-phai-xu-lai-4651232.html',\n",
       " 'https://vnexpress.net/viet-nam-lam-nen-lich-su-tai-giai-billiard-the-gioi-4651371.html',\n",
       " 'https://vnexpress.net/nu-sinh-tot-nghiep-dai-hoc-xuat-sac-trong-3-nam-4650916.html',\n",
       " 'https://vnexpress.net/chang-trai-khuyet-tat-lai-xe-ba-banh-phuot-32-tinh-thanh-4651210.html',\n",
       " 'https://vnexpress.net/bo-cong-an-ly-giai-toi-danh-khac-nhau-cua-nhom-nhan-tien-vu-viet-a-4651314.html',\n",
       " 'https://vnexpress.net/viet-nam-vs-yemen-4651301-tong-thuat.html',\n",
       " 'https://vnexpress.net/lanh-dao-the-gioi-chia-buon-ve-tham-hoa-dong-dat-o-morocco-4651297.html']"
      ]
     },
     "execution_count": 19,
     "metadata": {},
     "output_type": "execute_result"
    }
   ],
   "source": [
    "POST_LINK_CLS = '.title-news a:not(.count_cmt)'\n",
    "\n",
    "post_links_el = driver.find_elements(By.CSS_SELECTOR, POST_LINK_CLS)\n",
    "post_links = [\n",
    "    el.get_attribute('href')\n",
    "    for el in post_links_el]\n",
    "print('Found', len(post_links), 'links.')\n",
    "post_links"
   ]
  },
  {
   "cell_type": "markdown",
   "metadata": {},
   "source": [
    "> Nhận xét: link của các post có những link không ở trang vnexpress, cần xử lý thêm."
   ]
  },
  {
   "cell_type": "code",
   "execution_count": 20,
   "metadata": {},
   "outputs": [
    {
     "name": "stdout",
     "output_type": "stream",
     "text": [
      "Invalid link: https://c.eclick.vn/r?beacon=zizlzqznzgzgzlzgzrzqzozizjzhzqzrzozlzlzkzjzozizrzmzhzr2pzhzjzjzjzjzgzkzrzmzn2pzhzjzjzjzhzjznzrzrznzozizizlzdzizizjzdznzgzdzhzhzhzo2l1u1v232a1uzr2fzg2lzqzhzj1vzl1yzdzizlzqznzgzgzlzgzrzrzd21202a&link=https%3A%2F%2Fc.eclick.vn%2Fr%2F2000204884%2F10298%2Fzizlzqznzgzgzlzgzrzqzozizjzhzqzrzozhzjzjzjzhzjznzrzrznzozizizlzdzizizjzdznzgzdzhzhzhzo2l1u1v232a1uzr2fzg2lzqzhzj1vzl1yzdzizlzqznzgzgzlzgzrzrzd21202a%2Fhttps%3A%2F%2Fvnexpress.net%2Fso-hoa%2Flaptop-ho-tro-nhieu-tien-tich-cho-sinh-vien-4650387.html%3F&algo=40&cid=2000037854&cat=2223,2241,2242,2243,2244,2245&bid=2000204884&gid=2000204884&ts=1694336389&url=https%3A%2F%2Fvnexpress.net%2F&urlref=https://vnexpress.net/&hostname=vnexpress.net&tsv=1694336389&res=1512x982&zone_format=501&loc=29-1-vn&lp=29&lz=1&lc=vn&fosp_aid=xbajsb8v3x920a6f.1694336388.des&fosp_uid=xbajsb8v3x920a6f.1694336388.des&orig_aid=xbajsb8v3x920a6f.1694336388.des&gender=&rand=-236505292&method=1&egg_c=&egg_b=&egg_i=&egg_t=1001&device=1&os=&v=4&sign=7JIJMQYUn6%2BqN14maa2tI12SqSWfxfKItbHkl5%2FWOBwvaiIpEIkaNGL5Otbn4cZrQQ0frc1qH1J2bICzGvG5yTLJAQfuG0kXGGtuc4PYUsB2EPN%2B4UXW%2BfaYNuKU0wMiTP4MkizqzXPKT5yC20dT9NVofDSanTgGIph9RVohM531nhJhK14G%2BQl1gJVz%2Bhp60RDFkaDqXdmqo6zQDyHikkyfDl6ObZmkPtoDVhMvSqTNg9YxN0V7v3dj%2FHsVMjBVWwkMOLi1w0gMqlk0i1nOha8qcbGTXC1IIbP8be8Uak%2Fo6MDnVGwhfIj1KABvbXmzrhCL8sKZJ3U84i3pK5KHj3GfRSAT4Ku7mWehpJeDMc0n82m3H8i7WoOTKLcb6NM6OvqnNR%2B1bb8Vy7Jv2yKfsOECIUiGdTzt6QXUGMlLommsAl%2BY%2FUHJ6l55oB5Ty8U7JyGryV35kGiHexSTOYdX6bPUCPX%2FFWIZO9SZSZM%2BYqEc30D6Mn655fznUCkwO6p%2F2zJxx2mWgjzvbNuxtYxxsAgTb0KVvWGYTDmmPZbqe%2B4v\n",
      "Total valid links: 25\n"
     ]
    }
   ],
   "source": [
    "valid_post_links = []\n",
    "VNE_REGEX = '^https://vnexpress.net'\n",
    "for post_link in post_links:\n",
    "    if re.match(VNE_REGEX, post_link):\n",
    "        valid_post_links.append(post_link)\n",
    "    else:\n",
    "        print('Invalid link:', post_link)\n",
    "\n",
    "print('Total valid links:', len(valid_post_links))"
   ]
  },
  {
   "cell_type": "markdown",
   "metadata": {},
   "source": [
    "**Đi đến tất cả các trang và lấy tiêu đề + nội dung + hình thumbnail**\n",
    "\n",
    "Yêu cầu: tiêu đề và hình"
   ]
  },
  {
   "cell_type": "code",
   "execution_count": 21,
   "metadata": {},
   "outputs": [],
   "source": [
    "import os\n",
    "import re\n",
    "from urllib import request\n",
    "from tqdm import tqdm\n",
    "from string import punctuation"
   ]
  },
  {
   "cell_type": "code",
   "execution_count": null,
   "metadata": {},
   "outputs": [
    {
     "name": "stderr",
     "output_type": "stream",
     "text": [
      "  0%|          | 0/60 [00:00<?, ?it/s]"
     ]
    },
    {
     "name": "stderr",
     "output_type": "stream",
     "text": [
      "  0%|          | 0/60 [00:05<?, ?it/s]"
     ]
    },
    {
     "name": "stdout",
     "output_type": "stream",
     "text": [
      "Saved PM-PhamMInhChinh-President-Bid-6182-4763-1694308522.jpg\n",
      "Saved Bill-Clinton-toi-Vietnam001-57-2756-8446-1694284198.jpg\n"
     ]
    },
    {
     "name": "stderr",
     "output_type": "stream",
     "text": [
      "\n"
     ]
    }
   ],
   "source": [
    "POST_TITLE_CLS = '.sidebar-1 .title-detail'\n",
    "POST_CONTENT_CLS = 'article.fck_detail p.Normal'\n",
    "POST_IMG_CLS = '.fig-picture img[itemprop=\"contentUrl\"]'\n",
    "IMAGE_REGEX = r'([\\w-]+(?:.jpg|.png|.webm))'\n",
    "\n",
    "for post_link in tqdm(valid_post_links):\n",
    "    # Go to that link.\n",
    "    driver.get(post_link)\n",
    "    time.sleep(2)\n",
    "    # Get the things we need.\n",
    "    # Post title.\n",
    "    title = driver.find_element(By.CSS_SELECTOR, POST_TITLE_CLS)\n",
    "    # Post content.\n",
    "    contents_el = driver.find_elements(By.CSS_SELECTOR, POST_CONTENT_CLS)\n",
    "    contents = [content_el.get_attribute(\n",
    "        'innerText') for content_el in contents_el]\n",
    "    # Post images.\n",
    "    images_el = driver.find_elements(By.CSS_SELECTOR, POST_IMG_CLS)\n",
    "    images_src = [image_el.get_attribute('src') for image_el in images_el]\n",
    "    # Save images to local.\n",
    "    image_file_path = '/Users/minhquang/Desktop/ml/ml-teach/lesson_5/img'\n",
    "\n",
    "    for image_src in images_src:\n",
    "        image_file_name = re.search(IMAGE_REGEX, image_src)\n",
    "        if image_file_name:\n",
    "            image_file_name = image_file_name.group()\n",
    "            request.urlretrieve(image_src, os.path.join(\n",
    "                image_file_path, image_file_name))\n",
    "            print(f'Saved', image_file_name)\n",
    "\n",
    "    break"
   ]
  },
  {
   "cell_type": "code",
   "execution_count": 22,
   "metadata": {},
   "outputs": [],
   "source": [
    "from selenium.webdriver.support import expected_conditions as EC\n",
    "from selenium.webdriver.support.ui import WebDriverWait\n",
    "from selenium.webdriver.common.action_chains import ActionChains"
   ]
  },
  {
   "cell_type": "code",
   "execution_count": null,
   "metadata": {},
   "outputs": [],
   "source": []
  },
  {
   "cell_type": "code",
   "execution_count": null,
   "metadata": {},
   "outputs": [],
   "source": []
  },
  {
   "cell_type": "code",
   "execution_count": 23,
   "metadata": {},
   "outputs": [
    {
     "name": "stdout",
     "output_type": "stream",
     "text": [
      "Found 9 images.\n",
      "Saving https://i1-vnexpress.vnecdn.net/2023/09/09/33UM39L-highres-1694236682.jpg?w=1200&h=0&q=100&dpr=1&fit=crop&s=2ILm5PJqxTAldyn4-h_uOw\n"
     ]
    }
   ],
   "source": [
    "POST_TITLE_CLS = '.title-detail'\n",
    "POST_CONTENT_CLS = 'article.fck_detail p.Normal'\n",
    "POST_IMG_CLS = 'picture img[itemprop=\"contentUrl\"]'\n",
    "IMAGE_URL_REGEX = r'https:\\/\\/[\\w\\-\\./]+(?:.jpg|.png|.webm)'\n",
    "IMAGE_REGEX = r'([\\w-]+(?:.jpg|.png|.webm))'\n",
    "\n",
    "\n",
    "def title_to_slug(title):\n",
    "    # Remove punctuations.\n",
    "    title_ = re.sub(rf'[{punctuation}]', '', title)\n",
    "    # Replace duplicated spaces with one space.\n",
    "    title_ = re.sub(r'\\s+', ' ', title_)\n",
    "    title_slug = '-'.join(title_.lower().split(' '))\n",
    "    return title_slug\n",
    "\n",
    "\n",
    "for post_link in valid_post_links:\n",
    "    # Go to that link.\n",
    "    driver.get(post_link)\n",
    "    driver.maximize_window()\n",
    "    driver.implicitly_wait(5)\n",
    "\n",
    "    # Scroll to end of page.\n",
    "    driver.execute_script(\n",
    "        'window.scrollTo({top: document.body.scrollHeight, behavior: \"smooth\"})')\n",
    "    # driver.execute_script('window.scrollTo({top: 0, behavior: \"smooth\"})')\n",
    "\n",
    "    # Get the things we need.\n",
    "    # Post title.\n",
    "    title = driver.find_element(\n",
    "        By.CSS_SELECTOR, POST_TITLE_CLS).get_attribute('innerText')\n",
    "    title_slug = title_to_slug(title)\n",
    "\n",
    "    # Post content.\n",
    "    contents_el = driver.find_elements(By.CSS_SELECTOR, POST_CONTENT_CLS)\n",
    "    contents = [content_el.get_attribute(\n",
    "        'innerText') for content_el in contents_el]\n",
    "\n",
    "    # Post images.\n",
    "    images_el = driver.find_elements(By.CSS_SELECTOR, POST_IMG_CLS)\n",
    "    # images_el = [image for image in WebDriverWait(driver, 10).until(EC.visibility_of_all_elements_located((By.CSS_SELECTOR, POST_IMG_CLS)))]\n",
    "    # driver.execute_script('arguments[0].scrollIntoView({block: \"center\", behavior: \"smooth\"});', images_el[-1])\n",
    "    images_src = list(set([image_el.get_attribute('src')\n",
    "                      for image_el in images_el]))\n",
    "    print('Found', len(images_src), 'images.')\n",
    "    # Save images to local.\n",
    "    image_file_path = '/Users/minhquang/Desktop/ml/ml-teach/lesson_5/img'\n",
    "\n",
    "    for i, image_src in enumerate(images_src):\n",
    "        image_file_name = re.search(IMAGE_REGEX, image_src)\n",
    "        if image_file_name:\n",
    "            image_file_name = image_file_name.group()\n",
    "            image_save_path = os.path.join(\n",
    "                image_file_path, image_file_name)\n",
    "            print(f'Saving', image_src)\n",
    "            _, res = request.urlretrieve(image_src, image_save_path)\n",
    "            # Get image format (png, jpg, ...).\n",
    "            image_type = res.get_content_subtype()\n",
    "            # Rename the saved file to correct format.\n",
    "            new_image_save_path = os.path.join(\n",
    "                image_file_path, title_slug + '-' + str(i) + f'.{image_type}')\n",
    "            os.rename(image_save_path, new_image_save_path)\n",
    "        break\n",
    "    break"
   ]
  },
  {
   "cell_type": "code",
   "execution_count": 18,
   "metadata": {},
   "outputs": [],
   "source": [
    "from multiprocessing import Pool\n",
    "\n",
    "# TODO: implement save image using multiprocessing starmap.\n",
    "\n",
    "\n",
    "def save_image_multi(image_src, index, title_slug):\n",
    "    image_file_name = re.search(IMAGE_REGEX, image_src)\n",
    "\n",
    "    if image_file_name:\n",
    "        image_file_name = image_file_name.group()\n",
    "        image_save_path = os.path.join(\n",
    "            image_file_path, image_file_name)\n",
    "        print(f'Saving', image_src)\n",
    "        _, res = request.urlretrieve(image_src, image_save_path)\n",
    "        # Get image format (png, jpg, ...).\n",
    "        image_type = res.get_content_subtype()\n",
    "        # Rename the saved file to correct format.\n",
    "        new_image_save_path = os.path.join(\n",
    "            image_file_path, title_slug + '-' + str(index) + f'.{image_type}')\n",
    "        os.rename(image_save_path, new_image_save_path)"
   ]
  },
  {
   "cell_type": "markdown",
   "metadata": {},
   "source": []
  }
 ],
 "metadata": {
  "kernelspec": {
   "display_name": "ml",
   "language": "python",
   "name": "python3"
  },
  "language_info": {
   "codemirror_mode": {
    "name": "ipython",
    "version": 3
   },
   "file_extension": ".py",
   "mimetype": "text/x-python",
   "name": "python",
   "nbconvert_exporter": "python",
   "pygments_lexer": "ipython3",
   "version": "3.9.15"
  },
  "orig_nbformat": 4
 },
 "nbformat": 4,
 "nbformat_minor": 2
}
