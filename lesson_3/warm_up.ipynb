{
 "cells": [
  {
   "cell_type": "markdown",
   "metadata": {},
   "source": [
    "# Iteration"
   ]
  },
  {
   "cell_type": "markdown",
   "metadata": {},
   "source": [
    "**1: Looping through a List**\n",
    "* Viết function `sum_elements` nhận 1 `list` các integer và trả về tổng của các số trong `list`.\n"
   ]
  },
  {
   "cell_type": "code",
   "execution_count": null,
   "metadata": {},
   "outputs": [],
   "source": []
  },
  {
   "cell_type": "markdown",
   "metadata": {},
   "source": [
    "**2. Looping though a Dictionary**\n",
    "* Viết function `avarage_grades` nhận 1 dictionary của những học sinh và điểm của họ. Dictionary sẽ có dạng `{\"student1\": 10, \"student2\": 5}`. Tính toán và trả về điểm trung bình của tất cả học sinh trong lớp."
   ]
  },
  {
   "cell_type": "code",
   "execution_count": null,
   "metadata": {},
   "outputs": [],
   "source": []
  },
  {
   "cell_type": "markdown",
   "metadata": {},
   "source": [
    "**3. Loop through a nested List**\n",
    "\n",
    "* Viết function `flatten_list`, nhận vào input là `list` lồng của các số integer. Trả về list phẳng chứa tất cả các phần tử trong list theo thứ tự của `list` cũ. \n",
    "\n",
    "```python\n",
    "flatten_list([[1,2], [3,4], [5,6]]) \n",
    ">>> [1, 2, 3, 4, 5, 6]\n",
    "\n",
    "flatten_list([[0], [1], [2]]) \n",
    ">>> [0, 1, 2] \n",
    "```"
   ]
  },
  {
   "cell_type": "code",
   "execution_count": null,
   "metadata": {},
   "outputs": [],
   "source": []
  },
  {
   "cell_type": "markdown",
   "metadata": {},
   "source": [
    "**4. Loop through a nested Dict**\n",
    "\n",
    "* Viết function `count_books`, nhận input là `dict` lồng nhiều quyển sách theo phân loại khác nhau. Trả về 1) tổng số lượng sách trong `dict` 2) tổng số lượng sách theo từng phân loại.\n",
    "\n",
    "```python\n",
    "library = {\n",
    "    \"Fantasy\": {\"Book1\": 5, \"Book2\": 8, \"Book3\": 3},\n",
    "    \"Science Fiction\": {\"Book4\": 6, \"Book5\": 2, \"Book6\": 4}\n",
    "}\n",
    "\n",
    "count_book(library)\n",
    ">>> 28, {\"Fantasy\": 16, \"Science Fiction\": 12}\n",
    "```"
   ]
  },
  {
   "cell_type": "markdown",
   "metadata": {},
   "source": []
  },
  {
   "cell_type": "markdown",
   "metadata": {},
   "source": [
    "**5.Loop through a Dictionary of Lists**\n",
    "* Viết function `merge_lists` nhận một dictionary of list là input. Mỗi dictionary chứa các chuỗi có cùng độ dài, `key` là tên của cột. Gộp các chuỗi từ các dictionary thành 1 chuỗi duy nhất.\n",
    "\n",
    "```python\n",
    "data = {\n",
    "    \"column1\": [1, 2, 3],\n",
    "    \"column2\": [4, 5, 6],\n",
    "    \"column3\": [7, 8, 9]\n",
    "}\n",
    "\n",
    "merge_lists(data)\n",
    ">>> [[1, 2, 3], [4, 5, 6], [7, 8, 9]]\n",
    "```"
   ]
  },
  {
   "cell_type": "code",
   "execution_count": null,
   "metadata": {},
   "outputs": [],
   "source": []
  }
 ],
 "metadata": {
  "language_info": {
   "name": "python"
  },
  "orig_nbformat": 4
 },
 "nbformat": 4,
 "nbformat_minor": 2
}
