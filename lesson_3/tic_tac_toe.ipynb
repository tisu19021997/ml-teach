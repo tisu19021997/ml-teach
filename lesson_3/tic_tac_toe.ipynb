{
 "cells": [
  {
   "cell_type": "markdown",
   "metadata": {},
   "source": [
    "# Ca rô"
   ]
  },
  {
   "cell_type": "markdown",
   "metadata": {},
   "source": [
    "* Viết game caro 3x3 với các yêu cầu sau:\n",
    "    * Có 2 user, mỗi user sẽ lần lượt được đánh thông qua input từ bàn phím. User input vị trí của ô cần đánh, nếu ô đó còn trống, thì user sẽ được đánh. Ngược lại, nếu ô không trống chương trình sẽ bắt buộc user nhập lại.\n",
    "    * Mỗi bước đi của user: chương trình sẽ kiểm tra xem có user nào thắng hay không. Điều kiện thắng: 3 ô cùng loại thẳng hàng (ngang, dọc, chéo). In ra thông báo mỗi lần có 1 user thắng.\n",
    "    * Khi bàn cờ đã đầy nhưng ko có user nào thắng, ngừng cho phép input. In ra thông bào là không có user nào thắng.\n"
   ]
  },
  {
   "cell_type": "markdown",
   "metadata": {},
   "source": [
    "## Tạo bàn cờ"
   ]
  },
  {
   "cell_type": "code",
   "execution_count": 3,
   "metadata": {},
   "outputs": [
    {
     "data": {
      "text/plain": [
       "[['', '', '', '', ''],\n",
       " ['', '', '', '', ''],\n",
       " ['', '', '', '', ''],\n",
       " ['', '', '', '', ''],\n",
       " ['', '', '', '', '']]"
      ]
     },
     "execution_count": 3,
     "metadata": {},
     "output_type": "execute_result"
    }
   ],
   "source": [
    "def create_board(width=3, height=3):\n",
    "    board = [\n",
    "        ['' for _ in range(width)]\n",
    "        for _ in range(height)\n",
    "    ]\n",
    "    return board\n",
    "\n",
    "\n",
    "create_board(5, 5)"
   ]
  },
  {
   "cell_type": "markdown",
   "metadata": {},
   "source": [
    "## Nhận input user"
   ]
  },
  {
   "cell_type": "code",
   "execution_count": null,
   "metadata": {},
   "outputs": [],
   "source": []
  },
  {
   "cell_type": "markdown",
   "metadata": {},
   "source": [
    "## Kiểm tra điều kiện thắng"
   ]
  },
  {
   "cell_type": "code",
   "execution_count": null,
   "metadata": {},
   "outputs": [],
   "source": []
  },
  {
   "cell_type": "code",
   "execution_count": null,
   "metadata": {},
   "outputs": [],
   "source": []
  }
 ],
 "metadata": {
  "kernelspec": {
   "display_name": "ml",
   "language": "python",
   "name": "python3"
  },
  "language_info": {
   "codemirror_mode": {
    "name": "ipython",
    "version": 3
   },
   "file_extension": ".py",
   "mimetype": "text/x-python",
   "name": "python",
   "nbconvert_exporter": "python",
   "pygments_lexer": "ipython3",
   "version": "3.9.15"
  },
  "orig_nbformat": 4
 },
 "nbformat": 4,
 "nbformat_minor": 2
}
