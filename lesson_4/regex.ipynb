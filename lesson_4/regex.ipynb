{
 "cells": [
  {
   "cell_type": "code",
   "execution_count": 143,
   "metadata": {},
   "outputs": [],
   "source": [
    "import re"
   ]
  },
  {
   "cell_type": "markdown",
   "metadata": {},
   "source": [
    "Thêm phần phân biệt giữa không có *+ và string bth sử dụng các match trả về"
   ]
  },
  {
   "cell_type": "markdown",
   "metadata": {},
   "source": [
    "# raw vs standard `str`"
   ]
  },
  {
   "cell_type": "markdown",
   "metadata": {},
   "source": [
    "**Escape characters**"
   ]
  },
  {
   "cell_type": "code",
   "execution_count": 144,
   "metadata": {},
   "outputs": [
    {
     "name": "stdout",
     "output_type": "stream",
     "text": [
      "Hello\n",
      "\n",
      "\tHello\n"
     ]
    }
   ],
   "source": [
    "# \\n for new line\n",
    "print('Hello\\n')\n",
    "# \\t for tab\n",
    "print('\\tHello')"
   ]
  },
  {
   "cell_type": "code",
   "execution_count": 160,
   "metadata": {},
   "outputs": [
    {
     "name": "stdout",
     "output_type": "stream",
     "text": [
      "Hello\\n\n"
     ]
    }
   ],
   "source": [
    "# Escape the \\n to actually show \\n.\n",
    "print('Hello\\\\n')"
   ]
  },
  {
   "cell_type": "markdown",
   "metadata": {},
   "source": [
    "**Error escape characters**"
   ]
  },
  {
   "cell_type": "code",
   "execution_count": 145,
   "metadata": {},
   "outputs": [
    {
     "ename": "SyntaxError",
     "evalue": "(unicode error) 'unicodeescape' codec can't decode bytes in position 27-28: truncated \\UXXXXXXXX escape (2960096649.py, line 1)",
     "output_type": "error",
     "traceback": [
      "\u001b[0;36m  Cell \u001b[0;32mIn [145], line 1\u001b[0;36m\u001b[0m\n\u001b[0;31m    text = \"All files are located in C:\\Users\\John\\Documents\\file.txt and other directories.\"\u001b[0m\n\u001b[0m                                                                                             ^\u001b[0m\n\u001b[0;31mSyntaxError\u001b[0m\u001b[0;31m:\u001b[0m (unicode error) 'unicodeescape' codec can't decode bytes in position 27-28: truncated \\UXXXXXXXX escape\n"
     ]
    }
   ],
   "source": [
    "text = \"All files are located in C:\\Users\\John\\Documents\\file.txt and other directories.\""
   ]
  },
  {
   "cell_type": "markdown",
   "metadata": {},
   "source": [
    "**Escape special characters using another backslash**"
   ]
  },
  {
   "cell_type": "code",
   "execution_count": null,
   "metadata": {},
   "outputs": [
    {
     "data": {
      "text/plain": [
       "'All files are located in C:\\\\Users\\\\John\\\\Documents\\\\file.txt and other directories.'"
      ]
     },
     "execution_count": 74,
     "metadata": {},
     "output_type": "execute_result"
    }
   ],
   "source": [
    "# Escaping special characters using backslahses\n",
    "text = \"All files are located in C:\\\\Users\\John\\Documents\\\\file.txt and other directories.\"\n",
    "text"
   ]
  },
  {
   "cell_type": "markdown",
   "metadata": {},
   "source": [
    "**Raw string came to help**"
   ]
  },
  {
   "cell_type": "code",
   "execution_count": null,
   "metadata": {},
   "outputs": [
    {
     "data": {
      "text/plain": [
       "'All files are located in C:\\\\Users\\\\John\\\\Documents\\\\file.txt and other directories.'"
      ]
     },
     "execution_count": 85,
     "metadata": {},
     "output_type": "execute_result"
    }
   ],
   "source": [
    "# Auto backslash.\n",
    "text = r\"All files are located in C:\\Users\\John\\Documents\\file.txt and other directories.\"\n",
    "text"
   ]
  },
  {
   "cell_type": "markdown",
   "metadata": {},
   "source": [
    "# `re` library"
   ]
  },
  {
   "cell_type": "markdown",
   "metadata": {},
   "source": [
    "*findall* trả về list tất cả string phù hợp"
   ]
  },
  {
   "cell_type": "code",
   "execution_count": null,
   "metadata": {},
   "outputs": [
    {
     "data": {
      "text/plain": [
       "['Pineapple', 'apple']"
      ]
     },
     "execution_count": 42,
     "metadata": {},
     "output_type": "execute_result"
    }
   ],
   "source": [
    "re.findall(r'\\w*apple', 'Pineapple and apple')"
   ]
  },
  {
   "cell_type": "markdown",
   "metadata": {},
   "source": [
    "*match* trả về Match object nếu chuỗi bắt đầu bằng pattern"
   ]
  },
  {
   "cell_type": "code",
   "execution_count": null,
   "metadata": {},
   "outputs": [
    {
     "data": {
      "text/plain": [
       "<re.Match object; span=(0, 5), match='Apple'>"
      ]
     },
     "execution_count": 43,
     "metadata": {},
     "output_type": "execute_result"
    }
   ],
   "source": [
    "re.match(r'\\w*apple', 'Apple and pineapple', flags=re.IGNORECASE)"
   ]
  },
  {
   "cell_type": "code",
   "execution_count": null,
   "metadata": {},
   "outputs": [],
   "source": [
    "re.match(r'\\w*apple', 'Pineaple and apple')"
   ]
  },
  {
   "cell_type": "markdown",
   "metadata": {},
   "source": [
    "*finditer* trả về list các Match object phù hợp"
   ]
  },
  {
   "cell_type": "code",
   "execution_count": null,
   "metadata": {},
   "outputs": [
    {
     "data": {
      "text/plain": [
       "[<re.Match object; span=(0, 9), match='Pineapple'>,\n",
       " <re.Match object; span=(14, 19), match='apple'>]"
      ]
     },
     "execution_count": 45,
     "metadata": {},
     "output_type": "execute_result"
    }
   ],
   "source": [
    "list(re.finditer(r'\\w*apple', 'Pineapple and apple', flags=re.IGNORECASE))"
   ]
  },
  {
   "cell_type": "markdown",
   "metadata": {},
   "source": [
    "*search* \n",
    "* trả về 1 Match object phù hợp nếu có bất kỳ vị trí nào trong chuỗi phù hợp\n",
    "* trả về None nếu không có chuỗi phù hợp"
   ]
  },
  {
   "cell_type": "code",
   "execution_count": null,
   "metadata": {},
   "outputs": [
    {
     "data": {
      "text/plain": [
       "'apple'"
      ]
     },
     "execution_count": 46,
     "metadata": {},
     "output_type": "execute_result"
    }
   ],
   "source": [
    "result = re.search(r'apple', 'Pineapple and apple')\n",
    "result.group()"
   ]
  },
  {
   "cell_type": "code",
   "execution_count": null,
   "metadata": {},
   "outputs": [
    {
     "data": {
      "text/plain": [
       "True"
      ]
     },
     "execution_count": 47,
     "metadata": {},
     "output_type": "execute_result"
    }
   ],
   "source": [
    "re.search(r'lemon', 'Pineapple and apple') == None"
   ]
  },
  {
   "cell_type": "markdown",
   "metadata": {},
   "source": [
    "*sub* thay thế pattern bằng 1 string khác"
   ]
  },
  {
   "cell_type": "code",
   "execution_count": 206,
   "metadata": {},
   "outputs": [
    {
     "data": {
      "text/plain": [
       "'apple is also called appleade'"
      ]
     },
     "execution_count": 206,
     "metadata": {},
     "output_type": "execute_result"
    }
   ],
   "source": [
    "re.sub(r'lemon', 'apple', 'Lemon is also called lemonade', flags=re.IGNORECASE)"
   ]
  },
  {
   "cell_type": "markdown",
   "metadata": {},
   "source": [
    "# Metacharacters"
   ]
  },
  {
   "cell_type": "code",
   "execution_count": 146,
   "metadata": {},
   "outputs": [],
   "source": [
    "def run_test_case(test_cases, regex_pattern):\n",
    "    for test_case in test_cases:\n",
    "        print(\n",
    "            f\"Test case: {test_case:5} ===> Result: {re.findall(regex_pattern, test_case)}\")"
   ]
  },
  {
   "cell_type": "markdown",
   "metadata": {},
   "source": [
    "## Theo số lượng"
   ]
  },
  {
   "cell_type": "code",
   "execution_count": 147,
   "metadata": {},
   "outputs": [
    {
     "name": "stdout",
     "output_type": "stream",
     "text": [
      "Test case: a*b   ===> Result: ['a*b']\n",
      "Test case: a\n",
      "b   ===> Result: []\n"
     ]
    }
   ],
   "source": [
    "# Dot: match tất cả trừ ký tự newline.\n",
    "run_test_case(['a*b', 'a\\nb'], r'a.b')"
   ]
  },
  {
   "cell_type": "code",
   "execution_count": 148,
   "metadata": {},
   "outputs": [
    {
     "name": "stdout",
     "output_type": "stream",
     "text": [
      "Test case: abc   ===> Result: ['abc']\n",
      "Test case: abbbc ===> Result: ['abbbc']\n",
      "Test case: ac    ===> Result: ['ac']\n"
     ]
    }
   ],
   "source": [
    "# *: match 0 hoặc nhiều hơn các kí tự/nhóm trước đó\n",
    "run_test_case(['abc', 'abbbc', 'ac'], r'ab*c')"
   ]
  },
  {
   "cell_type": "code",
   "execution_count": 149,
   "metadata": {},
   "outputs": [
    {
     "name": "stdout",
     "output_type": "stream",
     "text": [
      "Test case: abc   ===> Result: ['abc']\n",
      "Test case: abbbc ===> Result: ['abbbc']\n",
      "Test case: ac    ===> Result: []\n"
     ]
    }
   ],
   "source": [
    "# +: match 1 hoặc nhiều hơn các kí tự/nhóm trước đó\n",
    "run_test_case(['abc', 'abbbc', 'ac'], r'ab+c')"
   ]
  },
  {
   "cell_type": "code",
   "execution_count": 150,
   "metadata": {},
   "outputs": [
    {
     "name": "stdout",
     "output_type": "stream",
     "text": [
      "Test case: abc   ===> Result: ['abc']\n",
      "Test case: abbc  ===> Result: []\n",
      "Test case: abbbbc ===> Result: []\n"
     ]
    }
   ],
   "source": [
    "# ?: match 0 hoặc 1 các kí tự/nhóm trước đó\n",
    "run_test_case(['abc', 'abbc', 'abbbbc'], r'ab?c')"
   ]
  },
  {
   "cell_type": "code",
   "execution_count": 151,
   "metadata": {},
   "outputs": [
    {
     "name": "stdout",
     "output_type": "stream",
     "text": [
      "Test case: abc   ===> Result: []\n",
      "Test case: abbc  ===> Result: []\n",
      "Test case: abbbbc ===> Result: ['abbbbc']\n"
     ]
    }
   ],
   "source": [
    "# {n}: match n lần các kí tự/nhóm trước đó\n",
    "run_test_case(['abc', 'abbc', 'abbbbc'], r'ab{4}c')"
   ]
  },
  {
   "cell_type": "code",
   "execution_count": 152,
   "metadata": {},
   "outputs": [
    {
     "name": "stdout",
     "output_type": "stream",
     "text": [
      "Test case: abc   ===> Result: []\n",
      "Test case: abbc  ===> Result: ['abbc']\n",
      "Test case: abbbbc ===> Result: ['abbbbc']\n"
     ]
    }
   ],
   "source": [
    "# {n,}: match >= n lần các kí tự/nhóm trước đó\n",
    "run_test_case(['abc', 'abbc', 'abbbbc'], r'ab{2,}c')"
   ]
  },
  {
   "cell_type": "code",
   "execution_count": 153,
   "metadata": {},
   "outputs": [
    {
     "name": "stdout",
     "output_type": "stream",
     "text": [
      "Test case: abc   ===> Result: []\n",
      "Test case: abbc  ===> Result: []\n",
      "Test case: abbbbc ===> Result: ['abbbbc']\n"
     ]
    }
   ],
   "source": [
    "# {n,m}: match từ n đếm m lần các kí tự/nhóm trước đó\n",
    "run_test_case(['abc', 'abbc', 'abbbbc'], r'ab{3,4}c')"
   ]
  },
  {
   "cell_type": "markdown",
   "metadata": {},
   "source": [
    "## Theo vị trí"
   ]
  },
  {
   "cell_type": "code",
   "execution_count": 154,
   "metadata": {},
   "outputs": [
    {
     "name": "stdout",
     "output_type": "stream",
     "text": [
      "Test case: abcde ===> Result: ['abc']\n",
      "Test case: deabc ===> Result: []\n"
     ]
    }
   ],
   "source": [
    "# ^: match vị trí bắt đầu của một chuỗi.\n",
    "run_test_case(['abcde', 'deabc'], r'^abc')"
   ]
  },
  {
   "cell_type": "code",
   "execution_count": 155,
   "metadata": {},
   "outputs": [
    {
     "name": "stdout",
     "output_type": "stream",
     "text": [
      "Test case: abcde ===> Result: []\n",
      "Test case: deabc ===> Result: ['abc']\n"
     ]
    }
   ],
   "source": [
    "# $: match vị trí kết thúc của một chuỗi.\n",
    "# Ngược lại với ^\n",
    "run_test_case(['abcde', 'deabc'], r'abc$')"
   ]
  },
  {
   "cell_type": "markdown",
   "metadata": {},
   "source": [
    "## Theo loại kí tự"
   ]
  },
  {
   "cell_type": "code",
   "execution_count": 157,
   "metadata": {},
   "outputs": [
    {
     "name": "stdout",
     "output_type": "stream",
     "text": [
      "Test case: 012345 ===> Result: ['0', '1', '2', '3', '4', '5']\n",
      "Test case: abc   ===> Result: []\n",
      "Test case: abc0  ===> Result: ['0']\n"
     ]
    }
   ],
   "source": [
    "# \\d: match tất cả số từ 0 đến 9\n",
    "run_test_case(['012345', 'abc', 'abc0'], r'\\d')"
   ]
  },
  {
   "cell_type": "code",
   "execution_count": 158,
   "metadata": {},
   "outputs": [
    {
     "name": "stdout",
     "output_type": "stream",
     "text": [
      "Test case: 012345 ===> Result: []\n",
      "Test case: abc   ===> Result: ['a', 'b', 'c']\n",
      "Test case: abc0  ===> Result: ['a', 'b', 'c']\n"
     ]
    }
   ],
   "source": [
    "# \\D: ngược lại với \\d\n",
    "run_test_case(['012345', 'abc', 'abc0'], r'\\D')"
   ]
  },
  {
   "cell_type": "code",
   "execution_count": null,
   "metadata": {},
   "outputs": [],
   "source": [
    "# \\w: match tất cả các chữ số\n",
    "run_test_case(['012345', 'abc', 'abc0'], r'\\w')"
   ]
  },
  {
   "cell_type": "code",
   "execution_count": 172,
   "metadata": {},
   "outputs": [
    {
     "name": "stdout",
     "output_type": "stream",
     "text": [
      "Test case: 01a a  ===> Result: [' ', ' ']\n",
      "Test case: abc   ===> Result: []\n",
      "Test case: abc0  ===> Result: []\n"
     ]
    }
   ],
   "source": [
    "# \\b: match các dấu cách\n",
    "run_test_case(['01a a ', 'abc', 'abc0'], r'\\s')"
   ]
  },
  {
   "cell_type": "markdown",
   "metadata": {},
   "source": [
    "## Theo nhóm/logic"
   ]
  },
  {
   "cell_type": "code",
   "execution_count": 174,
   "metadata": {},
   "outputs": [
    {
     "name": "stdout",
     "output_type": "stream",
     "text": [
      "Test case: abcde bcad ===> Result: ['abc', 'bca']\n",
      "Test case: bcad  ===> Result: ['bca']\n",
      "Test case: cabd  ===> Result: ['cab']\n"
     ]
    }
   ],
   "source": [
    "# |: điều kiện hoặc, match 1 trong những pattern\n",
    "run_test_case(['abcde bcad', 'bcad', 'cabd'], r'abc|bca|cab')"
   ]
  },
  {
   "cell_type": "markdown",
   "metadata": {},
   "source": [
    "**Group** giúp access đến những phần cần lấy trong chuỗi kết quả"
   ]
  },
  {
   "cell_type": "code",
   "execution_count": 191,
   "metadata": {},
   "outputs": [
    {
     "name": "stdout",
     "output_type": "stream",
     "text": [
      "Year: 2023, Month: 08, Day: 27\n",
      "Year: 2023, Month: 08, Day: 28\n"
     ]
    }
   ],
   "source": [
    "text = \"Today's date is 2023-08-27. Tomorrow is 2023/08/28. But 2023-08/29 is wrong.\"\n",
    "\n",
    "# \\d{4}: match tất cả số chính xác 4 lần\n",
    "# [-/]: match 2 ký tự - và /\n",
    "# \\d{2}: match tất cả số chính xác 2 lần\n",
    "# \\2: reference tới group thứ 2 ([-/])\n",
    "pattern = r'(\\d{4})([-/])(\\d{2})\\2(\\d{2})'\n",
    "\n",
    "matches = re.findall(pattern, text)\n",
    "for match in matches:\n",
    "    year, separator, month, day = match\n",
    "    print(f\"Year: {year}, Month: {month}, Day: {day}\")"
   ]
  },
  {
   "cell_type": "code",
   "execution_count": 193,
   "metadata": {},
   "outputs": [
    {
     "name": "stdout",
     "output_type": "stream",
     "text": [
      "['2023-08-27', '2023/08/28', '2023-08/29']\n"
     ]
    }
   ],
   "source": [
    "text = \"Today's date is 2023-08-27. Tomorrow is 2023/08/28. But 2023-08/29 is wrong.\"\n",
    "ungroup_pattern = r'\\d{4}[-/]\\d{2}[-/]\\d{2}'\n",
    "matches = re.findall(ungroup_pattern, text)\n",
    "\n",
    "print(matches)"
   ]
  },
  {
   "cell_type": "markdown",
   "metadata": {},
   "source": [
    "> Câu hỏi: Từng phần của công thức có ý nghĩa gì?"
   ]
  },
  {
   "cell_type": "code",
   "execution_count": 200,
   "metadata": {},
   "outputs": [
    {
     "data": {
      "text/plain": [
       "[('quangphamm', '1902', 'gmail', '.com')]"
      ]
     },
     "execution_count": 200,
     "metadata": {},
     "output_type": "execute_result"
    }
   ],
   "source": [
    "email = 'quangphamm1902@gmail.com'\n",
    "# [a-z]+\n",
    "# \\d+\n",
    "# @\n",
    "# gmail|yahoo\n",
    "# .com|.vn\n",
    "email_pattern = r'([a-z]+)(\\d+)@(gmail|yahoo)(.com|.vn)'\n",
    "\n",
    "re.findall(email_pattern, email)"
   ]
  },
  {
   "cell_type": "code",
   "execution_count": null,
   "metadata": {},
   "outputs": [],
   "source": []
  },
  {
   "cell_type": "markdown",
   "metadata": {},
   "source": [
    "# Exercises"
   ]
  },
  {
   "cell_type": "markdown",
   "metadata": {},
   "source": [
    "1. Viết function để check nếu chuỗi có chứa từ \"Python\" (trả về True, False)"
   ]
  },
  {
   "cell_type": "code",
   "execution_count": 213,
   "metadata": {},
   "outputs": [],
   "source": [
    "# Solution.\n",
    "def contains_python(s):\n",
    "    return bool(re.search(r'Python', s))"
   ]
  },
  {
   "cell_type": "code",
   "execution_count": 216,
   "metadata": {},
   "outputs": [
    {
     "ename": "AssertionError",
     "evalue": "",
     "output_type": "error",
     "traceback": [
      "\u001b[0;31m---------------------------------------------------------------------------\u001b[0m",
      "\u001b[0;31mAssertionError\u001b[0m                            Traceback (most recent call last)",
      "\u001b[1;32m/Users/minhquang/Desktop/ml/ml-teach/lesson_4/regex.ipynb Cell 55\u001b[0m in \u001b[0;36m4\n\u001b[1;32m      <a href='vscode-notebook-cell:/Users/minhquang/Desktop/ml/ml-teach/lesson_4/regex.ipynb#Y145sZmlsZQ%3D%3D?line=0'>1</a>\u001b[0m \u001b[39mdef\u001b[39;00m \u001b[39mcontains_python\u001b[39m(s):\n\u001b[1;32m      <a href='vscode-notebook-cell:/Users/minhquang/Desktop/ml/ml-teach/lesson_4/regex.ipynb#Y145sZmlsZQ%3D%3D?line=1'>2</a>\u001b[0m     \u001b[39mpass\u001b[39;00m \n\u001b[0;32m----> <a href='vscode-notebook-cell:/Users/minhquang/Desktop/ml/ml-teach/lesson_4/regex.ipynb#Y145sZmlsZQ%3D%3D?line=3'>4</a>\u001b[0m \u001b[39massert\u001b[39;00m contains_python(\u001b[39m'\u001b[39m\u001b[39mPython\u001b[39m\u001b[39m'\u001b[39m) \u001b[39m==\u001b[39m \u001b[39mTrue\u001b[39;00m\n",
      "\u001b[0;31mAssertionError\u001b[0m: "
     ]
    }
   ],
   "source": [
    "def contains_python(s):\n",
    "    pass\n",
    "\n",
    "\n",
    "assert contains_python('Python') == True"
   ]
  },
  {
   "cell_type": "markdown",
   "metadata": {},
   "source": [
    "2. Viết function để tìm tất cả những từ bắt đầu bằng chữ in hoa và sau đó là những chữ viết thường\n",
    "\n",
    "Ví dụ: `\"Python PHP Javascript\"` => `[\"Python\", \"Javascript\"]`"
   ]
  },
  {
   "cell_type": "code",
   "execution_count": null,
   "metadata": {},
   "outputs": [],
   "source": [
    "# Solution.\n",
    "def find_capitalize_words(s):\n",
    "    return re.findall(r'\\b[A-Z][a-z]*\\b', s)"
   ]
  },
  {
   "cell_type": "code",
   "execution_count": 212,
   "metadata": {},
   "outputs": [
    {
     "data": {
      "text/plain": [
       "['Python', 'Javascript']"
      ]
     },
     "execution_count": 212,
     "metadata": {},
     "output_type": "execute_result"
    }
   ],
   "source": [
    "def find_capitalize_words(s):\n",
    "    pass\n",
    "\n",
    "\n",
    "assert find_capitalize_words('Python PHP Javascript') == [\n",
    "    'Python', 'Javascript']"
   ]
  },
  {
   "cell_type": "markdown",
   "metadata": {},
   "source": [
    "3. Tìm tất cả các lần xuất hiện của chuỗi số số điện thoại xxx-xxx-xxxx.\n",
    "\n",
    "Ví dụ `\"Số điện thoại của tôi là 555-666-7777 và của cô ta là 555-999-1111\"` => `[\"555-666-7777\", \"555-999-1111\"]`"
   ]
  },
  {
   "cell_type": "code",
   "execution_count": 220,
   "metadata": {},
   "outputs": [],
   "source": [
    "# Solution.\n",
    "def find_phone_number(s):\n",
    "    return re.findall(r'\\b\\d{3}-\\d{3}-\\d{4}', s)"
   ]
  },
  {
   "cell_type": "code",
   "execution_count": 221,
   "metadata": {},
   "outputs": [
    {
     "ename": "AssertionError",
     "evalue": "",
     "output_type": "error",
     "traceback": [
      "\u001b[0;31m---------------------------------------------------------------------------\u001b[0m",
      "\u001b[0;31mAssertionError\u001b[0m                            Traceback (most recent call last)",
      "\u001b[1;32m/Users/minhquang/Desktop/ml/ml-teach/lesson_4/regex.ipynb Cell 61\u001b[0m in \u001b[0;36m4\n\u001b[1;32m      <a href='vscode-notebook-cell:/Users/minhquang/Desktop/ml/ml-teach/lesson_4/regex.ipynb#Y143sZmlsZQ%3D%3D?line=0'>1</a>\u001b[0m \u001b[39mdef\u001b[39;00m \u001b[39mfind_phone_number\u001b[39m(s):\n\u001b[1;32m      <a href='vscode-notebook-cell:/Users/minhquang/Desktop/ml/ml-teach/lesson_4/regex.ipynb#Y143sZmlsZQ%3D%3D?line=1'>2</a>\u001b[0m     \u001b[39mpass\u001b[39;00m\n\u001b[0;32m----> <a href='vscode-notebook-cell:/Users/minhquang/Desktop/ml/ml-teach/lesson_4/regex.ipynb#Y143sZmlsZQ%3D%3D?line=3'>4</a>\u001b[0m \u001b[39massert\u001b[39;00m find_phone_number(\u001b[39m'\u001b[39m\u001b[39mSố điện thoại của tôi là 555-666-7777 và của cô ta là 555-999-1111\u001b[39m\u001b[39m'\u001b[39m) \u001b[39m==\u001b[39m [\u001b[39m'\u001b[39m\u001b[39m555-666-7777\u001b[39m\u001b[39m'\u001b[39m, \u001b[39m'\u001b[39m\u001b[39m555-999-1111\u001b[39m\u001b[39m'\u001b[39m]\n",
      "\u001b[0;31mAssertionError\u001b[0m: "
     ]
    }
   ],
   "source": [
    "def find_phone_number(s):\n",
    "    pass\n",
    "\n",
    "\n",
    "assert find_phone_number(\n",
    "    'Số điện thoại của tôi là 555-666-7777 và của cô ta là 555-999-1111') == ['555-666-7777', '555-999-1111']"
   ]
  },
  {
   "cell_type": "markdown",
   "metadata": {},
   "source": [
    "4. Extract các phần của một địa chỉ: tên đường, phường, quận\n",
    "\n",
    "Ví dụ `\"18 Ngo Duc Ke, Phuong 12, Quan Binh Thanh\"` => `[\"Ngo Duc Ke\", \"12\", \"Binh Thanh\"]`"
   ]
  },
  {
   "cell_type": "code",
   "execution_count": 257,
   "metadata": {},
   "outputs": [
    {
     "data": {
      "text/plain": [
       "True"
      ]
     },
     "execution_count": 257,
     "metadata": {},
     "output_type": "execute_result"
    }
   ],
   "source": [
    "# Solution\n",
    "def extract_address_unit(s):\n",
    "    return re.findall(r'\\d+\\s([\\w\\s]+), Phường ([\\w\\s]+), Quận ([\\w\\s]+)', s)"
   ]
  },
  {
   "cell_type": "code",
   "execution_count": null,
   "metadata": {},
   "outputs": [],
   "source": [
    "def extract_address_unit(s):\n",
    "    pass\n",
    "\n",
    "\n",
    "assert extract_address_unit('Nhà tui ở 18 Ngô Đức Kế, Phường 12, Quận Bình Thạnh. Còn nhà ông ở 22 Võ Văn Tần, Phường 14, Quận 3') == [\n",
    "    ('Ngô Đức Kế', '12', 'Bình Thạnh'), ('Võ Văn Tần', '14', '3')]"
   ]
  },
  {
   "cell_type": "markdown",
   "metadata": {},
   "source": [
    "5. Che các chữ số của thẻ ngân hàng bằng chữ X ngoại trừ 4 số cuối.\n",
    "\n",
    "Ví dụ `\"My credit cards are 1234-5678-9101-1121 and 4321-8765-1098-7654` => `\"My credit cards are XXXX-XXXX-XXXX-1121 and XXXX-XXXX-XXXX-7654\"`\n",
    "\n",
    "---\n",
    "**Hint**: Sử dụng group và group reference để giữa lại 4 số cuối cùng."
   ]
  },
  {
   "cell_type": "code",
   "execution_count": 261,
   "metadata": {},
   "outputs": [],
   "source": [
    "# Solution.\n",
    "def hide_card_numbers(text):\n",
    "    return re.sub(r'\\d{4}-\\d{4}-\\d{4}-(\\d{4})', r'XXXX-XXXX-XXXX-\\1', text)"
   ]
  },
  {
   "cell_type": "code",
   "execution_count": 264,
   "metadata": {},
   "outputs": [],
   "source": [
    "def hide_card_numbers(text):\n",
    "    pass\n",
    "\n",
    "# assert redact_credit_cards('My credit cards are 1234-5678-9101-1121 and 4321-8765-1098-7654') == 'My credit cards are XXXX-XXXX-XXXX-1121 and XXXX-XXXX-XXXX-7654'"
   ]
  },
  {
   "cell_type": "markdown",
   "metadata": {},
   "source": [
    "6. Lấy giá trị của của các thẻ <p></p> \n",
    "\n",
    "Ví dụ: `\"<p>Tu Minh dang</p>\"` => `\"Tu Minh Dang\"`"
   ]
  },
  {
   "cell_type": "code",
   "execution_count": 284,
   "metadata": {},
   "outputs": [],
   "source": [
    "# Solution.\n",
    "def get_p_tag_content(text):\n",
    "    return re.findall(r'<p>([\\w\\s]+)<\\/p>', text)"
   ]
  },
  {
   "cell_type": "code",
   "execution_count": 286,
   "metadata": {},
   "outputs": [],
   "source": [
    "def get_p_tag_content(text):\n",
    "    pass\n",
    "\n",
    "\n",
    "assert get_p_tag_content('<p>Tu Minh Dang 12</p>') == ['Tu Minh Dang 12']"
   ]
  },
  {
   "cell_type": "code",
   "execution_count": null,
   "metadata": {},
   "outputs": [],
   "source": []
  }
 ],
 "metadata": {
  "kernelspec": {
   "display_name": "ml",
   "language": "python",
   "name": "ml"
  },
  "language_info": {
   "codemirror_mode": {
    "name": "ipython",
    "version": 3
   },
   "file_extension": ".py",
   "mimetype": "text/x-python",
   "name": "python",
   "nbconvert_exporter": "python",
   "pygments_lexer": "ipython3",
   "version": "3.9.15"
  },
  "orig_nbformat": 4
 },
 "nbformat": 4,
 "nbformat_minor": 2
}
