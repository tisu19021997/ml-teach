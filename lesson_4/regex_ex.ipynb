{
 "cells": [
  {
   "cell_type": "code",
   "execution_count": 1,
   "metadata": {},
   "outputs": [],
   "source": [
    "import re "
   ]
  },
  {
   "cell_type": "markdown",
   "metadata": {},
   "source": [
    "1. Tìm số lần xuất hiện của 1 từ bất kỳ trong đoạn văn sau:\n",
    "\n",
    "```\n",
    "# Input: \n",
    "\n",
    "\"path\"\n",
    "\"As I strolled down the winding forest path, I couldn't help but marvel at the beauty of nature surrounding me. The sunlight filtered through the dense canopy, casting dappled shadows on the path below. Each step I took seemed to connect me to a different part of the natural world, and I felt a profound sense of unity with the Earth. This path was not just a physical route but a journey of self-discovery, a path to inner peace and enlightenment. I was determined to follow this path with unwavering determination, for I knew that it would lead me to a brighter and more fulfilling future. The labyrinthine twists and turns of life's journey often lead us down unexpected pathways of growth and transformation.\"\n",
    "\n",
    "\n",
    "# Ouput: 5\n",
    "```"
   ]
  },
  {
   "cell_type": "code",
   "execution_count": 2,
   "metadata": {},
   "outputs": [
    {
     "data": {
      "text/plain": [
       "2"
      ]
     },
     "execution_count": 2,
     "metadata": {},
     "output_type": "execute_result"
    }
   ],
   "source": [
    "1+1"
   ]
  },
  {
   "cell_type": "code",
   "execution_count": null,
   "metadata": {},
   "outputs": [],
   "source": [
    "# Solution\n",
    "def count_frequency(word, text):\n",
    "    word_regex = rf'\\b{word}\\b'\n",
    "\n",
    "    return len(re.findall(word_regex, text))"
   ]
  },
  {
   "cell_type": "code",
   "execution_count": null,
   "metadata": {},
   "outputs": [],
   "source": [
    "def count_frequency(word, text):\n",
    "    pass"
   ]
  },
  {
   "cell_type": "code",
   "execution_count": null,
   "metadata": {},
   "outputs": [],
   "source": [
    "inp = \"As I strolled down the winding forest path, I couldn't help but marvel at the beauty of nature surrounding me. The sunlight filtered through the dense canopy, casting dappled shadows on the path below. Each step I took seemed to connect me to a different part of the natural world, and I felt a profound sense of unity with the Earth. This path was not just a physical route but a journey of self-discovery, a path to inner peace and enlightenment. I was determined to follow this path with unwavering determination, for I knew that it would lead me to a brighter and more fulfilling future. The labyrinthine twists and turns of life's journey often lead us down unexpected pathways of growth and transformation.\"\n",
    "count_frequency(\"path\", inp)"
   ]
  },
  {
   "cell_type": "markdown",
   "metadata": {},
   "source": [
    "2. Lọc tất link **/wiki** từ thẻ `a` trong đoạn html sau\n",
    "\n",
    "```\n",
    "<table class=\"vertical-navbox nowraplinks\" style=\"float:right;clear:right;width:22.0em;margin:0 0 1.0em 1.0em;background:#f9f9f9;border:1px solid #aaa;padding:0.2em;border-spacing:0.4em 0;text-align:center;line-height:1.4em;font-size:88%\"><tbody><tr><th style=\"padding:0.2em 0.4em 0.2em;font-size:145%;line-height:1.2em\"><a href=\"/wiki/Machine_learning\" title=\"Machine learning\">Machine learning</a> and<br /><a href=\"/wiki/Data_mining\" title=\"Data mining\">data mining</a></th></tr><tr><td style=\"padding:0.2em 0 0.4em;padding:0.25em 0.25em 0.75em;\"><a href=\"/wiki/File:Kernel_Machine.svg\" class=\"image\"><img alt=\"Kernel Machine.svg\" src=\"//upload.wikimedia.org/wikipedia/commons/thumb/f/fe/Kernel_Machine.svg/220px-Kernel_Machine.svg.png\" decoding=\"async\" width=\"220\" height=\"100\" srcset=\"//upload.wikimedia.org/wikipedia/commons/thumb/f/fe/Kernel_Machine.svg/330px-Kernel_Machine.svg.png 1.5x, //upload.wikimedia.org/wikipedia/commons/thumb/f/fe/Kernel_Machine.svg/440px-Kernel_Machine.svg.png 2x\" data-file-width=\"512\" data-file-height=\"233\" /></a></td></tr><tr><td style=\"padding:0 0.1em 0.4em\">\n",
    "<div class=\"NavFrame collapsed\" style=\"border:none;padding:0\"><div class=\"NavHead\" style=\"font-size:105%;background:transparent;text-align:left\">Problems</div><div class=\"NavContent\" style=\"font-size:105%;padding:0.2em 0 0.4em;text-align:center\"><div class=\"hlist\">\n",
    "<ul><li><a href=\"/wiki/Statistical_classification\" title=\"Statistical classification\">Classification</a></li>\n",
    "<li><a href=\"/wiki/Cluster_analysis\" title=\"Cluster analysis\">Clustering</a></li>\n",
    "<li><a href=\"/wiki/Regression_analysis\" title=\"Regression analysis\">Regression</a></li>\n",
    "<li><a href=\"/wiki/Anomaly_detection\" title=\"Anomaly detection\">Anomaly detection</a></li>\n",
    "<li><a href=\"/wiki/Automated_machine_learning\" title=\"Automated machine learning\">AutoML</a></li>\n",
    "<li><a href=\"/wiki/Association_rule_learning\" title=\"Association rule learning\">Association rules</a></li>\n",
    "<li><a href=\"/wiki/Reinforcement_learning\" title=\"Reinforcement learning\">Reinforcement learning</a></li>\n",
    "<li><a href=\"/wiki/Structured_prediction\" title=\"Structured prediction\">Structured prediction</a></li>\n",
    "<li><a href=\"/wiki/Feature_engineering\" title=\"Feature engineering\">Feature engineering</a></li>\n",
    "<li><a href=\"/wiki/Feature_learning\" title=\"Feature learning\">Feature learning</a></li>\n",
    "<li><a href=\"/wiki/Online_machine_learning\" title=\"Online machine learning\">Online learning</a></li>\n",
    "<li><a href=\"/wiki/Semi-supervised_learning\" title=\"Semi-supervised learning\">Semi-supervised learning</a></li>\n",
    "<li><a href=\"/wiki/Unsupervised_learning\" title=\"Unsupervised learning\">Unsupervised learning</a></li>\n",
    "<li><a href=\"/wiki/Learning_to_rank\" title=\"Learning to rank\">Learning to rank</a></li>\n",
    "<li><a href=\"/wiki/Grammar_induction\" title=\"Grammar induction\">Grammar induction</a></li></ul>\n",
    "</div></div></div></td>\n",
    "</tr><tr><td style=\"padding:0 0.1em 0.4em\">\n",
    "<div class=\"NavFrame collapsed\" style=\"border:none;padding:0\"><div class=\"NavHead\" style=\"font-size:105%;background:transparent;text-align:left\"><div style=\"padding:0.1em 0;line-height:1.2em;\"><a href=\"/wiki/Supervised_learning\" title=\"Supervised learning\">Supervised learning</a><br /><style data-mw-deduplicate=\"TemplateStyles:r886047488\">.mw-parser-output .nobold{font-weight:normal}</style><span class=\"nobold\"><span style=\"font-size:85%;\">(<b><a href=\"/wiki/Statistical_classification\" title=\"Statistical classification\">classification</a></b>&#160;&#8226;&#32;<b><a href=\"/wiki/Regression_analysis\" title=\"Regression analysis\">regression</a></b>)</span></span> </div></div><div class=\"NavContent\" style=\"font-size:105%;padding:0.2em 0 0.4em;text-align:center\"><div class=\"hlist\">\n",
    "<ul><li><a href=\"/wiki/Decision_tree_learning\" title=\"Decision tree learning\">Decision trees /wiki</a></li>\n",
    "<li><a href=\"/wiki/Ensemble_learning\" title=\"Ensemble learning\">Ensembles</a>\n",
    "</div></div></div></td></table>\n",
    "```"
   ]
  },
  {
   "cell_type": "code",
   "execution_count": null,
   "metadata": {},
   "outputs": [],
   "source": [
    "# Solution\n",
    "def parse_wiki_link(html):\n",
    "    wiki_regex = r'\"(/wiki/[\\w-]*)\"'\n",
    "    return re.findall(wiki_regex, html)"
   ]
  },
  {
   "cell_type": "code",
   "execution_count": null,
   "metadata": {},
   "outputs": [],
   "source": [
    "inp = \"\"\"\n",
    "<table class=\"vertical-navbox nowraplinks\" style=\"float:right;clear:right;width:22.0em;margin:0 0 1.0em 1.0em;background:#f9f9f9;border:1px solid #aaa;padding:0.2em;border-spacing:0.4em 0;text-align:center;line-height:1.4em;font-size:88%\"><tbody><tr><th style=\"padding:0.2em 0.4em 0.2em;font-size:145%;line-height:1.2em\"><a href=\"/wiki/Machine_learning\" title=\"Machine learning\">Machine learning</a> and<br /><a href=\"/wiki/Data_mining\" title=\"Data mining\">data mining</a></th></tr><tr><td style=\"padding:0.2em 0 0.4em;padding:0.25em 0.25em 0.75em;\"><a href=\"/wiki/File:Kernel_Machine.svg\" class=\"image\"><img alt=\"Kernel Machine.svg\" src=\"//upload.wikimedia.org/wikipedia/commons/thumb/f/fe/Kernel_Machine.svg/220px-Kernel_Machine.svg.png\" decoding=\"async\" width=\"220\" height=\"100\" srcset=\"//upload.wikimedia.org/wikipedia/commons/thumb/f/fe/Kernel_Machine.svg/330px-Kernel_Machine.svg.png 1.5x, //upload.wikimedia.org/wikipedia/commons/thumb/f/fe/Kernel_Machine.svg/440px-Kernel_Machine.svg.png 2x\" data-file-width=\"512\" data-file-height=\"233\" /></a></td></tr><tr><td style=\"padding:0 0.1em 0.4em\">\n",
    "<div class=\"NavFrame collapsed\" style=\"border:none;padding:0\"><div class=\"NavHead\" style=\"font-size:105%;background:transparent;text-align:left\">Problems</div><div class=\"NavContent\" style=\"font-size:105%;padding:0.2em 0 0.4em;text-align:center\"><div class=\"hlist\">\n",
    "<ul><li><a href=\"/wiki/Statistical_classification\" title=\"Statistical classification\">Classification</a></li>\n",
    "<li><a href=\"/wiki/Cluster_analysis\" title=\"Cluster analysis\">Clustering</a></li>\n",
    "<li><a href=\"/wiki/Regression_analysis\" title=\"Regression analysis\">Regression</a></li>\n",
    "<li><a href=\"/wiki/Anomaly_detection\" title=\"Anomaly detection\">Anomaly detection</a></li>\n",
    "<li><a href=\"/wiki/Automated_machine_learning\" title=\"Automated machine learning\">AutoML</a></li>\n",
    "<li><a href=\"/wiki/Association_rule_learning\" title=\"Association rule learning\">Association rules</a></li>\n",
    "<li><a href=\"/wiki/Reinforcement_learning\" title=\"Reinforcement learning\">Reinforcement learning</a></li>\n",
    "<li><a href=\"/wiki/Structured_prediction\" title=\"Structured prediction\">Structured prediction</a></li>\n",
    "<li><a href=\"/wiki/Feature_engineering\" title=\"Feature engineering\">Feature engineering</a></li>\n",
    "<li><a href=\"/wiki/Feature_learning\" title=\"Feature learning\">Feature learning</a></li>\n",
    "<li><a href=\"/wiki/Online_machine_learning\" title=\"Online machine learning\">Online learning</a></li>\n",
    "<li><a href=\"/wiki/Semi-supervised_learning\" title=\"Semi-supervised learning\">Semi-supervised learning</a></li>\n",
    "<li><a href=\"/wiki/Unsupervised_learning\" title=\"Unsupervised learning\">Unsupervised learning</a></li>\n",
    "<li><a href=\"/wiki/Learning_to_rank\" title=\"Learning to rank\">Learning to rank</a></li>\n",
    "<li><a href=\"/wiki/Grammar_induction\" title=\"Grammar induction\">Grammar induction</a></li></ul>\n",
    "</div></div></div></td>\n",
    "</tr><tr><td style=\"padding:0 0.1em 0.4em\">\n",
    "<div class=\"NavFrame collapsed\" style=\"border:none;padding:0\"><div class=\"NavHead\" style=\"font-size:105%;background:transparent;text-align:left\"><div style=\"padding:0.1em 0;line-height:1.2em;\"><a href=\"/wiki/Supervised_learning\" title=\"Supervised learning\">Supervised learning</a><br /><style data-mw-deduplicate=\"TemplateStyles:r886047488\">.mw-parser-output .nobold{font-weight:normal}</style><span class=\"nobold\"><span style=\"font-size:85%;\">(<b><a href=\"/wiki/Statistical_classification\" title=\"Statistical classification\">classification</a></b>&#160;&#8226;&#32;<b><a href=\"/wiki/Regression_analysis\" title=\"Regression analysis\">regression</a></b>)</span></span> </div></div><div class=\"NavContent\" style=\"font-size:105%;padding:0.2em 0 0.4em;text-align:center\"><div class=\"hlist\">\n",
    "<ul><li><a href=\"/wiki/Decision_tree_learning\" title=\"Decision tree learning\">Decision trees /wiki</a></li>\n",
    "<li><a href=\"/wiki/Ensemble_learning\" title=\"Ensemble learning\">Ensembles</a>\n",
    "<ul><li><a href=\"/wiki/Bootstrap_aggregating\" title=\"Bootstrap aggregating\">Bagging</a></li>\n",
    "</div></div></div></td></table>\n",
    "\"\"\""
   ]
  },
  {
   "cell_type": "code",
   "execution_count": null,
   "metadata": {},
   "outputs": [],
   "source": [
    "def parse_wiki_link(html):\n",
    "    pass"
   ]
  },
  {
   "cell_type": "code",
   "execution_count": null,
   "metadata": {},
   "outputs": [],
   "source": [
    "print(parse_wiki_link(inp))"
   ]
  },
  {
   "cell_type": "markdown",
   "metadata": {},
   "source": [
    "3. Lọc tất cả email có trong đoạn văn sau, biết rằng các domain email có thể có thuộc [yahoo, gmail, outlook].\n",
    "\n",
    "```\n",
    "# Input: \"Contact me at john.doe@gmail.com or johnsupport@yahoo.com or chu.nhoc.thich.choi@yahoo.com.vn for more information. For private emails, please contact johncena@outlook.com or johncena@hotmail.com\"\n",
    "# Output: [\"john.doe@gmail.com\", \"johnsupport@yahoo.com\", \"chu.nhoc.thich.choi@yahoo.com.vn\"]\n",
    "```"
   ]
  },
  {
   "cell_type": "code",
   "execution_count": null,
   "metadata": {},
   "outputs": [],
   "source": [
    "# Solution.\n",
    "def parse_emails(text):\n",
    "    parse_regex = r'[\\w\\.]+@(?:gmail|yahoo|outlook)\\.com(?:\\.vn)*'\n",
    "    return re.findall(parse_regex, text)"
   ]
  },
  {
   "cell_type": "code",
   "execution_count": null,
   "metadata": {},
   "outputs": [],
   "source": [
    "def parse_emails(text):\n",
    "    pass"
   ]
  },
  {
   "cell_type": "code",
   "execution_count": null,
   "metadata": {},
   "outputs": [],
   "source": [
    "inp = \"Contact me at john.doe@gmail.com or johnsupport@yahoo.com or chu.nhoc.thich.choi@yahoo.com.vn for more information. For private emails, please contact johncena@outlook.com or johncena@hotmail.com\"\n",
    "print(parse_emails(inp))\n",
    "\n",
    "assert parse_emails(inp) == ['john.doe@gmail.com', 'johnsupport@yahoo.com',\n",
    "                             'chu.nhoc.thich.choi@yahoo.com.vn', 'johncena@outlook.com']"
   ]
  },
  {
   "cell_type": "markdown",
   "metadata": {},
   "source": [
    "4. Viết 1 function làm sạch input 5 bước: đổi input thành lowercase, loại bỏ các kí tự không phải chữ, bỏ các từ \"và\", \"hoặc\", loại bỏ các từ có độ dài <2 và loại bỏ các space dư thừa."
   ]
  },
  {
   "cell_type": "code",
   "execution_count": null,
   "metadata": {},
   "outputs": [],
   "source": [
    "# Solution\n",
    "def preprocess(text):\n",
    "    ptext = text.lower()\n",
    "    # print('After lower ==>', ptext)\n",
    "    ptext = re.sub(r'[^a-zA-Z\\u00C0-\\u024F]', ' ', ptext)\n",
    "    # print('After remove not alphabet ==>', ptext)\n",
    "    ptext = re.sub(r'và|hoặc', '', ptext)\n",
    "    # print('After remove và, hoặc ==>', ptext)\n",
    "    pwords = []\n",
    "    for word in ptext.split():\n",
    "        if len(word) >= 2:\n",
    "            pwords.append(word)\n",
    "    ptext = ' '.join(pwords)\n",
    "    return ptext.strip()\n",
    "\n",
    "\n",
    "preprocess(\"Tôi và anh tuy 1 nhưng mà là 2.\")"
   ]
  },
  {
   "cell_type": "code",
   "execution_count": null,
   "metadata": {},
   "outputs": [],
   "source": [
    "def preprocess(text):\n",
    "    ptext = text\n",
    "    return ptext"
   ]
  },
  {
   "cell_type": "code",
   "execution_count": null,
   "metadata": {},
   "outputs": [],
   "source": [
    "print(preprocess(\"Tôi và anh tuy 1 nhưng mà là 2.\"))\n",
    "\n",
    "assert preprocess(\n",
    "    \"Tôi và anh tuy 1 nhưng mà là 2.\") == 'tôi anh tuy nhưng mà là'"
   ]
  },
  {
   "cell_type": "code",
   "execution_count": null,
   "metadata": {},
   "outputs": [],
   "source": []
  }
 ],
 "metadata": {
  "kernelspec": {
   "display_name": "Python311",
   "language": "python",
   "name": "python3"
  },
  "language_info": {
   "codemirror_mode": {
    "name": "ipython",
    "version": 3
   },
   "file_extension": ".py",
   "mimetype": "text/x-python",
   "name": "python",
   "nbconvert_exporter": "python",
   "pygments_lexer": "ipython3",
   "version": "3.11.4"
  }
 },
 "nbformat": 4,
 "nbformat_minor": 4
}
