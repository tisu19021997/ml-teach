{
 "cells": [
  {
   "cell_type": "code",
   "execution_count": 6,
   "metadata": {},
   "outputs": [],
   "source": [
    "from IPython.display import clear_output"
   ]
  },
  {
   "cell_type": "code",
   "execution_count": 1,
   "metadata": {},
   "outputs": [
    {
     "name": "stdout",
     "output_type": "stream",
     "text": [
      "[' ', ' ', ' ']\n",
      "[' ', ' ', ' ']\n",
      "[' ', ' ', ' ']\n"
     ]
    }
   ],
   "source": [
    "def create_board():\n",
    "    return [\n",
    "        [' ' for _ in range(3)]\n",
    "        for _ in range(3)\n",
    "    ]\n",
    "\n",
    "\n",
    "# Print the board to check\n",
    "board = create_board()\n",
    "for row in board:\n",
    "    print(row)"
   ]
  },
  {
   "cell_type": "code",
   "execution_count": 2,
   "metadata": {},
   "outputs": [],
   "source": [
    "def get_user_input(board, player):\n",
    "    while True:\n",
    "        try:\n",
    "            row = int(input(f'Player {player}, enter your row (0-2): '))\n",
    "            col = int(input(f'Player {player}, enter your column (0-2): '))\n",
    "            if row in range(3) and col in range(3) and board[row][col] == ' ':\n",
    "                return row, col\n",
    "            else:\n",
    "                print('Invalid input or spot is taken, try again.')\n",
    "        except ValueError as e:\n",
    "            print(e)\n",
    "            print('Input must be a number, try again.')"
   ]
  },
  {
   "cell_type": "code",
   "execution_count": 3,
   "metadata": {},
   "outputs": [],
   "source": [
    "def make_move(board, row, col, player):\n",
    "    board[row][col] = player"
   ]
  },
  {
   "cell_type": "code",
   "execution_count": 4,
   "metadata": {},
   "outputs": [],
   "source": [
    "def check_winner(board):\n",
    "    # Check rows\n",
    "    for row in board:\n",
    "        if row[0] == row[1] == row[2] != ' ':\n",
    "            return row[0]\n",
    "\n",
    "    # Check columns\n",
    "    for col in range(3):\n",
    "        if board[0][col] == board[1][col] == board[2][col] != ' ':\n",
    "            return board[0][col]\n",
    "\n",
    "    # Check diagonals\n",
    "    if board[0][0] == board[1][1] == board[2][2] != ' ':\n",
    "        return board[0][0]\n",
    "    if board[0][2] == board[1][1] == board[2][0] != ' ':\n",
    "        return board[0][2]\n",
    "\n",
    "    return None"
   ]
  },
  {
   "cell_type": "code",
   "execution_count": 9,
   "metadata": {},
   "outputs": [
    {
     "name": "stdout",
     "output_type": "stream",
     "text": [
      "Turn 9\n",
      "X O X\n",
      "X X O\n",
      "O X O\n",
      "\n",
      "Game draw!\n"
     ]
    }
   ],
   "source": [
    "def print_board(board):\n",
    "    for row in board:\n",
    "        print(' '.join(row))\n",
    "    print()\n",
    "\n",
    "\n",
    "def main():\n",
    "    board = create_board()\n",
    "    player_symbols = ['X', 'O']\n",
    "    turn = 0\n",
    "\n",
    "    while True:\n",
    "        if turn == 9:\n",
    "            print('Game draw!')\n",
    "            break\n",
    "\n",
    "        row, col = get_user_input(board, player_symbols[turn % 2])\n",
    "        clear_output(wait=True)\n",
    "\n",
    "        make_move(board, row, col, player_symbols[turn % 2])\n",
    "        winner = check_winner(board)\n",
    "        if winner:\n",
    "            print(f'Player {winner} wins!')\n",
    "            print_board(board)\n",
    "            break\n",
    "        print(f'Turn {turn+1}')\n",
    "        print_board(board)\n",
    "        turn += 1\n",
    "\n",
    "\n",
    "if __name__ == '__main__':\n",
    "    main()"
   ]
  },
  {
   "cell_type": "code",
   "execution_count": null,
   "metadata": {},
   "outputs": [],
   "source": []
  }
 ],
 "metadata": {
  "kernelspec": {
   "display_name": "ml",
   "language": "python",
   "name": "ml"
  },
  "language_info": {
   "codemirror_mode": {
    "name": "ipython",
    "version": 3
   },
   "file_extension": ".py",
   "mimetype": "text/x-python",
   "name": "python",
   "nbconvert_exporter": "python",
   "pygments_lexer": "ipython3",
   "version": "3.9.15"
  },
  "orig_nbformat": 4
 },
 "nbformat": 4,
 "nbformat_minor": 2
}
