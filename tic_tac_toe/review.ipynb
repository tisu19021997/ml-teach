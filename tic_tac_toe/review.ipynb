{
 "cells": [
  {
   "cell_type": "markdown",
   "metadata": {},
   "source": [
    "# List, nested list, list comprehension"
   ]
  },
  {
   "cell_type": "code",
   "execution_count": null,
   "metadata": {},
   "outputs": [],
   "source": [
    "my_list = ['a', 'b', 'c']\n",
    "nested_list = [['x', 'x', 'x'], ['o', 'o', 'o']]\n",
    "\n",
    "# Loop qua 1 list.\n",
    "# Cách 1: loop thẳng qua các phần tử trong list.\n",
    "for el in my_list:\n",
    "    print(el)  # \"a\"\n",
    "\n",
    "print('\\n')\n",
    "for sub_list in nested_list:\n",
    "    print(sub_list)  # [\"x\", \"x\", \"x\"]\n",
    "\n",
    "    for el in sub_list:\n",
    "        print(el)  # \"x\"\n",
    "\n",
    "print('\\n')\n",
    "# Cách 2: loop qua index của list sử dụng range và len.\n",
    "for i in range(len(my_list)):\n",
    "    print(i)  # 0\n",
    "    print(my_list[i])  # \"a\"\n",
    "print('\\n')\n",
    "\n",
    "for i in range(len(nested_list)):\n",
    "    print(i)  # 0\n",
    "    print(nested_list[i])  # [\"x\", \"x\", \"x\"]"
   ]
  },
  {
   "cell_type": "code",
   "execution_count": null,
   "metadata": {},
   "outputs": [],
   "source": [
    "list_1 = [1, 2, 3, 4, 5]\n",
    "[x*2 for x in list_1]  # [2, 4, 6, 8, 10]"
   ]
  },
  {
   "cell_type": "markdown",
   "metadata": {},
   "source": [
    "# User input, error input handling"
   ]
  },
  {
   "cell_type": "code",
   "execution_count": null,
   "metadata": {},
   "outputs": [],
   "source": [
    "while True:\n",
    "    try:\n",
    "        user_input = input(\"Hãy nhập số nguyên a\")\n",
    "        result = int(user_input) * 1024\n",
    "        print(f\"Kết quả là: {result}\")\n",
    "        break\n",
    "    except:\n",
    "        print(\n",
    "            f\"Input cần phải là số nguyên. Tuy nhiên, bạn đã nhập '{user_input}'. Vui lòng nhập lại.\")"
   ]
  },
  {
   "cell_type": "markdown",
   "metadata": {},
   "source": [
    "# Function, return value"
   ]
  },
  {
   "cell_type": "code",
   "execution_count": null,
   "metadata": {},
   "outputs": [],
   "source": [
    "def add(a, b):\n",
    "    return a + b\n",
    "\n",
    "\n",
    "def multiply(a, b):\n",
    "    return a * b\n",
    "\n",
    "\n",
    "a = 100\n",
    "b = 200\n",
    "\n",
    "add_result = add(a, b)  # 100 + 200\n",
    "mul_result = multiply(add_result, a)  # 300 * 100\n",
    "\n",
    "add_result, mul_result"
   ]
  },
  {
   "cell_type": "code",
   "execution_count": null,
   "metadata": {},
   "outputs": [],
   "source": [
    "def move():\n",
    "    x = input(\"Nhập x\")\n",
    "    y = input(\"Nhập y\")\n",
    "    return x, y"
   ]
  },
  {
   "cell_type": "markdown",
   "metadata": {},
   "source": [
    "# Condition statements (if/elif/else)"
   ]
  },
  {
   "cell_type": "code",
   "execution_count": null,
   "metadata": {},
   "outputs": [],
   "source": [
    "weather = \"raining\"\n",
    "\n",
    "if weather == \"raining\":\n",
    "    print(\"Wear a raincoat\")\n",
    "elif weather == \"cold\":\n",
    "    print(\"Wear a jacket\")\n",
    "else:\n",
    "    print(\"Wear a t-shirt\")"
   ]
  },
  {
   "cell_type": "code",
   "execution_count": null,
   "metadata": {},
   "outputs": [],
   "source": [
    "age = int(input(\"Nhập tuổi của bạn\"))\n",
    "\n",
    "if 1 <= age <= 18:\n",
    "    print(\"Bạn còn con nít.\")\n",
    "elif 19 <= age <= 27:\n",
    "    print(\"Bạn già rồi đấy.\")\n",
    "else:\n",
    "    print(\"Làm biếng viết tiếp\")"
   ]
  }
 ],
 "metadata": {
  "kernelspec": {
   "display_name": "ml",
   "language": "python",
   "name": "python3"
  },
  "language_info": {
   "codemirror_mode": {
    "name": "ipython",
    "version": 3
   },
   "file_extension": ".py",
   "mimetype": "text/x-python",
   "name": "python",
   "nbconvert_exporter": "python",
   "pygments_lexer": "ipython3",
   "version": "3.9.15"
  },
  "orig_nbformat": 4
 },
 "nbformat": 4,
 "nbformat_minor": 2
}
