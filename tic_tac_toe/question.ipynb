{
 "cells": [
  {
   "cell_type": "markdown",
   "metadata": {},
   "source": [
    "# Cờ Caro"
   ]
  },
  {
   "cell_type": "markdown",
   "metadata": {},
   "source": [
    "* Nội dung: code 1 game cờ caro 3x3 cho phép 2 người chơi sử dụng input để đi các nước đi của mình."
   ]
  },
  {
   "cell_type": "markdown",
   "metadata": {},
   "source": [
    "## 1. Tạo bàn cờ trống 3x3\n",
    "\n",
    "* Bàn cờ 3x3 có thể được biểu diễn bằng 2 list lồng nhau (list of list), có độ dài là 3."
   ]
  },
  {
   "cell_type": "markdown",
   "metadata": {},
   "source": [
    "<details>\n",
    "    <summary>Gợi ý 1</summary>\n",
    "\n",
    "    * Sử dụng 2 vòng loop hoặc list comprehension để tạo nhanh bàn cờ.\n",
    "</details>"
   ]
  },
  {
   "cell_type": "markdown",
   "metadata": {},
   "source": [
    "<details>\n",
    "    <summary>Gợi ý 2</summary>\n",
    "\n",
    "    * Giá trị của mỗi ô trong bàn cờ mới là một khoảng trống.\n",
    "</details>"
   ]
  },
  {
   "cell_type": "code",
   "execution_count": null,
   "metadata": {},
   "outputs": [],
   "source": [
    "def create_board():\n",
    "    # Code ở đây.\n",
    "    board = \n",
    "    return board\n",
    "\n",
    "# Print the board to check.\n",
    "board = create_board()\n",
    "\n",
    "def print_board(board):\n",
    "    for row in board:\n",
    "        print(' '.join(row))\n",
    "    print()\n",
    "\n",
    "print_board(board)"
   ]
  },
  {
   "cell_type": "markdown",
   "metadata": {},
   "source": [
    "## 2. Nhận input vị trí cần đánh từ user\n",
    "\n",
    "* Nhận 2 input từ user và trả về vị trí hàng `i` và cột `j`\n",
    "\n",
    "* Các điều kiện cần check:\n",
    "    1. Vị trí `board[i][j]` chưa được đánh \n",
    "    2. Vị trí phải nằm trong bàn cờ 3x3\n",
    "    3. Input phải là số"
   ]
  },
  {
   "cell_type": "markdown",
   "metadata": {},
   "source": [
    "<details>\n",
    "    <summary>Gợi ý 1</summary>\n",
    "\n",
    "    * Sử dụng `try...except ValueError` để handle các lỗi liên quan đến kiểu dữ liệu.\n",
    "</details>"
   ]
  },
  {
   "cell_type": "markdown",
   "metadata": {},
   "source": [
    "<details>\n",
    "    <summary>Gợi ý 2</summary>\n",
    "\n",
    "    * Vị trí chưa được đánh: `board[i][j] == \" \"`\n",
    "</details>"
   ]
  },
  {
   "cell_type": "code",
   "execution_count": null,
   "metadata": {},
   "outputs": [],
   "source": [
    "def get_user_input(board):\n",
    "    # Code ở đây.\n",
    "    return i, j"
   ]
  },
  {
   "cell_type": "markdown",
   "metadata": {},
   "source": [
    "## 3. Thực hiện 1 nước đi\n",
    "\n",
    "* Tạo function nhận vào `board`, `i`, `j` và dấu của player hiện tại `player_symbol` (x hoặc y)\n",
    "* Thay đổi giá trị `board[i][j]` bằng dấu của player đó"
   ]
  },
  {
   "cell_type": "markdown",
   "metadata": {},
   "source": [
    "<details>\n",
    "    <summary>Gợi ý 1</summary>\n",
    "\n",
    "    * Cách để thay đổi 1 phần tử trong list: `list[i][j] = value`\n",
    "</details>"
   ]
  },
  {
   "cell_type": "code",
   "execution_count": null,
   "metadata": {},
   "outputs": [],
   "source": [
    "def make_move(board, row, col, player):\n",
    "    pass"
   ]
  },
  {
   "cell_type": "markdown",
   "metadata": {},
   "source": [
    "## 4. Check điều kiện thắng\n",
    "\n",
    "* 3 điều kiện thắng: hàng ngang, hàng dọc và đường chéo."
   ]
  },
  {
   "cell_type": "markdown",
   "metadata": {},
   "source": [
    "<details>\n",
    "    <summary>Gợi ý 1</summary>\n",
    "\n",
    "    * Sử dụng vòng loop để duyệt qua từng hàng/cột của bàn cờ.\n",
    "</details>"
   ]
  },
  {
   "cell_type": "markdown",
   "metadata": {},
   "source": [
    "<details>\n",
    "    <summary>Gợi ý 2</summary>\n",
    "\n",
    "    * Sử dụng thẳng index của các vị trí ở đường chéo để check điều kiện thắng.\n",
    "</details>"
   ]
  },
  {
   "cell_type": "code",
   "execution_count": null,
   "metadata": {},
   "outputs": [],
   "source": [
    "def check_winner(board):\n",
    "    # Check rows\n",
    "\n",
    "    # Check columns\n",
    "\n",
    "    # Check diagonals\n",
    "\n",
    "    return None"
   ]
  },
  {
   "cell_type": "code",
   "execution_count": null,
   "metadata": {},
   "outputs": [],
   "source": []
  },
  {
   "cell_type": "markdown",
   "metadata": {},
   "source": [
    "## 5. Lắp ghép\n",
    "\n",
    "1. Đầu tiên tạo một bàn cờ 3x3 rỗng sử dụng `create_board`, 2 người chơi `[\"x\", \"o\"]`\n",
    "\n",
    "2. Cho phép user nhập input cho đến khi có người chiến thắng (sử dụng `while`)\n",
    "\n",
    "3. Với mỗi lần 1 user đi một nước, kiểm tra các điều kiện thắng:\n",
    "    * Nếu thỏa, trả về ký hiệu của người chơi thắng cuộc và dừng chương trình.\n",
    "    * Nếu không thỏa, lặp lại bước 2"
   ]
  },
  {
   "cell_type": "code",
   "execution_count": null,
   "metadata": {},
   "outputs": [],
   "source": [
    "def main():\n",
    "    pass\n",
    "\n",
    "\n",
    "if __name__ == '__main__':\n",
    "    main()"
   ]
  },
  {
   "cell_type": "markdown",
   "metadata": {},
   "source": []
  }
 ],
 "metadata": {
  "kernelspec": {
   "display_name": "ml",
   "language": "python",
   "name": "python3"
  },
  "language_info": {
   "codemirror_mode": {
    "name": "ipython",
    "version": 3
   },
   "file_extension": ".py",
   "mimetype": "text/x-python",
   "name": "python",
   "nbconvert_exporter": "python",
   "pygments_lexer": "ipython3",
   "version": "3.9.15"
  },
  "orig_nbformat": 4
 },
 "nbformat": 4,
 "nbformat_minor": 2
}
