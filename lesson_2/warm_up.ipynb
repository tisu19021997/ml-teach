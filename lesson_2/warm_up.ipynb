{
 "cells": [
  {
   "cell_type": "markdown",
   "metadata": {},
   "source": [
    "# Conditionals"
   ]
  },
  {
   "cell_type": "markdown",
   "metadata": {},
   "source": [
    "* Write any sample code using `if` - `elif` - `else`"
   ]
  },
  {
   "cell_type": "code",
   "execution_count": null,
   "metadata": {},
   "outputs": [],
   "source": [
    "# Your code here."
   ]
  },
  {
   "cell_type": "markdown",
   "metadata": {},
   "source": [
    "* Optimize the code below to use only 4 comparisons"
   ]
  },
  {
   "cell_type": "code",
   "execution_count": null,
   "metadata": {},
   "outputs": [],
   "source": [
    "def categorize_numbers(numbers):\n",
    "    categories = []\n",
    "    for num in numbers:\n",
    "        if num < 0:\n",
    "            categories.append(\"Negative\")\n",
    "        elif num >= 0 and num < 10:\n",
    "            categories.append(\"Small Positive\")\n",
    "        elif num >= 10 and num < 50:\n",
    "            categories.append(\"Medium Positive\")\n",
    "        elif num >= 50 and num < 100:\n",
    "            categories.append(\"Large Positive\")\n",
    "        elif num >= 100:\n",
    "            categories.append(\"Huge Positive\")\n",
    "    return categories\n",
    "\n",
    "\n",
    "def new_categorize_numbers(numbers):\n",
    "    pass\n",
    "\n",
    "\n",
    "assert new_categorize_numbers(\n",
    "    [99, 100, 5, -5]) == categorize_numbers([99, 100, 5, -5])"
   ]
  },
  {
   "cell_type": "markdown",
   "metadata": {},
   "source": [
    "* Question: Give an example of a `list`, `dict` and how to create an empty `list` and empty `dict`\n",
    "* Answer:\n",
    "    * `list`\n",
    "    * `dict`\n",
    "    "
   ]
  },
  {
   "cell_type": "markdown",
   "metadata": {},
   "source": [
    "* Write a function to check if a list of is still in stock (`quantity` > `0`)\n",
    "    * Print \"Apple is in stock\" if \"Apple\" quantity in storage > 0\n",
    "    * If quantity == 0, print \"Apple isn't in stock\"\n",
    "    * If can't find the product in storage, print \"Apple not found in storage\""
   ]
  },
  {
   "cell_type": "code",
   "execution_count": null,
   "metadata": {},
   "outputs": [],
   "source": [
    "products = ['Apple', 'Banana', 'Orange', 'Lime', 'Lemon']\n",
    "storage = [\n",
    "    {'product_name': 'Apple', 'product_quantity': 0},\n",
    "    {'product_name': 'Banana', 'product_quantity': 12},\n",
    "    {'product_name': 'Orange', 'product_quantity': 124},\n",
    "    {'product_name': 'Lemon', 'product_quantity': 73}\n",
    "]"
   ]
  },
  {
   "cell_type": "code",
   "execution_count": null,
   "metadata": {},
   "outputs": [],
   "source": [
    "# Solution 1\n",
    "for product in products:\n",
    "    found = False\n",
    "\n",
    "    for storage_product in storage:\n",
    "        product_name = storage_product['product_name']\n",
    "        product_quantity = storage_product['product_quantity']\n",
    "\n",
    "        if product_name == product:\n",
    "            found = True\n",
    "            if product_quantity > 0:\n",
    "                print(f'{product} is in stock')\n",
    "            else:\n",
    "                print(f'{product} is not in stock')\n",
    "    if not found:\n",
    "        print(f'{product} not found in storage')"
   ]
  },
  {
   "cell_type": "code",
   "execution_count": null,
   "metadata": {},
   "outputs": [],
   "source": [
    "# Solution 2\n",
    "products_in_storage = set([product['product_name'] for product in storage])\n",
    "\n",
    "for product in products:\n",
    "    if product not in products_in_storage:\n",
    "        print(f'{product} not found in storage')\n",
    "\n",
    "    for storage_product in storage:\n",
    "        product_name = storage_product['product_name']\n",
    "        product_quantity = storage_product['product_quantity']\n",
    "\n",
    "        if product_name == product:\n",
    "            found = True\n",
    "            if product_quantity > 0:\n",
    "                print(f'{product} is in stock')\n",
    "            else:\n",
    "                print(f'{product} is not in stock')"
   ]
  },
  {
   "cell_type": "markdown",
   "metadata": {},
   "source": [
    "* Write a function to check if a list of product stock status\n",
    "    * Return a `dict` includes 2 information: `{\"product_name\":\"status\"}`\n",
    "    * \"status\" can be one of \"out-of-stock\", \"in-stock\", \"not-found\"\n",
    "    * For example, if Apple has quantity of 10. Output: `{\"Apple\": \"in-stock\"}`"
   ]
  },
  {
   "cell_type": "code",
   "execution_count": null,
   "metadata": {},
   "outputs": [],
   "source": [
    "# Solution\n",
    "products_status = {}\n",
    "for product in products:\n",
    "    found = False\n",
    "\n",
    "    for storage_product in storage:\n",
    "        product_name = storage_product['product_name']\n",
    "        product_quantity = storage_product['product_quantity']\n",
    "\n",
    "        if product_name == product:\n",
    "            found = True\n",
    "            if product_quantity > 0:\n",
    "                products_status[product] = 'in-stock'\n",
    "            else:\n",
    "                products_status[product] = 'out-of-stock'\n",
    "    if not found:\n",
    "        products_status[product] = 'not-found'"
   ]
  },
  {
   "cell_type": "markdown",
   "metadata": {},
   "source": [
    "* Write a function to count and print 1 to 100, then finally print \"Happy new year!\""
   ]
  },
  {
   "cell_type": "code",
   "execution_count": null,
   "metadata": {},
   "outputs": [],
   "source": [
    "# Solution\n",
    "def happy_new_year():\n",
    "    for cnt in range(100):\n",
    "        print(cnt + 1)\n",
    "    print('Happy new year! 🎆')\n",
    "\n",
    "\n",
    "happy_new_year()"
   ]
  },
  {
   "cell_type": "markdown",
   "metadata": {},
   "source": [
    "* Write a function that convert the 3rd character of a word to uppercase\n",
    "    * If length of the word <3, uppercase the last letter."
   ]
  },
  {
   "cell_type": "code",
   "execution_count": null,
   "metadata": {},
   "outputs": [],
   "source": [
    "# Solution 1\n",
    "def special_upper(word):\n",
    "    if len(word) < 3:\n",
    "        return word[0:-1] + word[-1].upper()\n",
    "    return word[0:2] + word[2].upper() + word[3:]\n",
    "\n",
    "# Solution 2\n",
    "\n",
    "\n",
    "def special_upper2(word):\n",
    "    new_char = ''\n",
    "    if len(word) < 3:\n",
    "        for idx, char in enumerate(word):\n",
    "            if idx == len(word):\n",
    "                char = char.upper()\n",
    "            # this is repeated.\n",
    "            new_char += char\n",
    "    else:\n",
    "        for idx, char in enumerate(word):\n",
    "            if idx == 2:\n",
    "                char = char.upper()\n",
    "            # this is repeated.\n",
    "            new_char += char\n",
    "    return new_char\n",
    "\n",
    "\n",
    "print(special_upper('bottles'), special_upper2('bottles'))\n",
    "print(special_upper('gay'), special_upper2('gay'))"
   ]
  },
  {
   "cell_type": "markdown",
   "metadata": {},
   "source": []
  }
 ],
 "metadata": {
  "kernelspec": {
   "display_name": "ml",
   "language": "python",
   "name": "python3"
  },
  "language_info": {
   "codemirror_mode": {
    "name": "ipython",
    "version": 3
   },
   "file_extension": ".py",
   "mimetype": "text/x-python",
   "name": "python",
   "nbconvert_exporter": "python",
   "pygments_lexer": "ipython3",
   "version": "3.9.15"
  },
  "orig_nbformat": 4
 },
 "nbformat": 4,
 "nbformat_minor": 2
}
