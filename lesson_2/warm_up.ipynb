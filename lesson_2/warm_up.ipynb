{
 "cells": [
  {
   "cell_type": "markdown",
   "metadata": {},
   "source": [
    "# Conditionals"
   ]
  },
  {
   "cell_type": "markdown",
   "metadata": {},
   "source": [
    "* Write any sample code using `if` - `elif` - `else`"
   ]
  },
  {
   "cell_type": "code",
   "execution_count": null,
   "metadata": {},
   "outputs": [],
   "source": [
    "# Your code here."
   ]
  },
  {
   "cell_type": "markdown",
   "metadata": {},
   "source": [
    "* Optimize the code below to use only 4 comparisons"
   ]
  },
  {
   "cell_type": "code",
   "execution_count": null,
   "metadata": {},
   "outputs": [],
   "source": [
    "def categorize_numbers(numbers):\n",
    "    categories = []\n",
    "    for num in numbers:\n",
    "        if num < 0:\n",
    "            categories.append(\"Negative\")\n",
    "        elif num >= 0 and num < 10:\n",
    "            categories.append(\"Small Positive\")\n",
    "        elif num >= 10 and num < 50:\n",
    "            categories.append(\"Medium Positive\")\n",
    "        elif num >= 50 and num < 100:\n",
    "            categories.append(\"Large Positive\")\n",
    "        elif num >= 100:\n",
    "            categories.append(\"Huge Positive\")\n",
    "    return categories\n",
    "\n",
    "\n",
    "def new_categorize_numbers(numbers):\n",
    "    pass\n",
    "\n",
    "\n",
    "assert new_categorize_numbers(\n",
    "    [99, 100, 5, -5]) == categorize_numbers([99, 100, 5, -5])"
   ]
  },
  {
   "cell_type": "markdown",
   "metadata": {},
   "source": [
    "* Question: Give an example of a `list`, `dict` and how to create an empty `list` and empty `dict`\n",
    "* Answer:\n",
    "    * `list`\n",
    "    * `dict`\n",
    "    "
   ]
  },
  {
   "cell_type": "markdown",
   "metadata": {},
   "source": [
    "* Write a function to check if a list of is still in stock (`quantity` > `0`)\n",
    "    * Print \"Apple is in stock\" if \"Apple\" quantity in storage > 0\n",
    "    * If quantity == 0, print \"Apple isn't in stock\"\n",
    "    * If can't find the product in storage, print \"Apple not found in storage\""
   ]
  },
  {
   "cell_type": "code",
   "execution_count": 1,
   "metadata": {},
   "outputs": [],
   "source": [
    "products = ['Apple', 'Banana', 'Orange', 'Lime', 'Lemon']\n",
    "storage = [\n",
    "    {'product_name': 'Apple', 'product_quantity': 0},\n",
    "    {'product_name': 'Banana', 'product_quantity': 12},\n",
    "    {'product_name': 'Orange', 'product_quantity': 124},\n",
    "    {'product_name': 'Lemon', 'product_quantity': 73}\n",
    "]"
   ]
  },
  {
   "cell_type": "code",
   "execution_count": 7,
   "metadata": {},
   "outputs": [
    {
     "name": "stdout",
     "output_type": "stream",
     "text": [
      "Apple is not in stock\n",
      "Banana is in stock\n",
      "Orange is in stock\n",
      "Lime not found in storage\n",
      "Lemon is in stock\n"
     ]
    }
   ],
   "source": [
    "# Solution 1\n",
    "for product in products:\n",
    "    found = False\n",
    "\n",
    "    for storage_product in storage:\n",
    "        product_name = storage_product['product_name']\n",
    "        product_quantity = storage_product['product_quantity']\n",
    "\n",
    "        if product_name == product:\n",
    "            found = True\n",
    "            if product_quantity > 0:\n",
    "                print(f'{product} is in stock')\n",
    "            else:\n",
    "                print(f'{product} is not in stock')\n",
    "    if not found:\n",
    "        print(f'{product} not found in storage')"
   ]
  },
  {
   "cell_type": "code",
   "execution_count": 6,
   "metadata": {},
   "outputs": [
    {
     "name": "stdout",
     "output_type": "stream",
     "text": [
      "Apple is not in stock\n",
      "Banana is in stock\n",
      "Orange is in stock\n",
      "Lime not found in storage\n",
      "Lemon is in stock\n"
     ]
    }
   ],
   "source": [
    "# NEW SOLUTION\n",
    "for product_name in products:\n",
    "    storage_size = len(storage)\n",
    "    for i, storage_product in enumerate(storage):\n",
    "        s_product_name = storage_product['product_name']\n",
    "        s_quant = storage_product['product_quantity']\n",
    "\n",
    "        if s_product_name == product_name:\n",
    "            if s_quant > 0:\n",
    "                print(f'{product_name} is in stock')\n",
    "            else:\n",
    "                print(f'{product_name} is not in stock')\n",
    "            break\n",
    "        elif i+1 == storage_size:\n",
    "            print(f'{product_name} not found in storage')"
   ]
  },
  {
   "cell_type": "markdown",
   "metadata": {},
   "source": [
    "* Write a function to check if a list of product stock status\n",
    "    * Return a `dict` includes 2 information: `{\"product_name\":\"status\"}`\n",
    "    * \"status\" can be one of \"out-of-stock\", \"in-stock\", \"not-found\"\n",
    "    * For example, if Apple has quantity of 10. Output: `{\"Apple\": \"in-stock\"}`"
   ]
  },
  {
   "cell_type": "code",
   "execution_count": null,
   "metadata": {},
   "outputs": [],
   "source": [
    "# Solution\n",
    "products_status = {}\n",
    "for product in products:\n",
    "    found = False\n",
    "\n",
    "    for storage_product in storage:\n",
    "        product_name = storage_product['product_name']\n",
    "        product_quantity = storage_product['product_quantity']\n",
    "\n",
    "        if product_name == product:\n",
    "            found = True\n",
    "            if product_quantity > 0:\n",
    "                products_status[product] = 'in-stock'\n",
    "            else:\n",
    "                products_status[product] = 'out-of-stock'\n",
    "    if not found:\n",
    "        products_status[product] = 'not-found'"
   ]
  },
  {
   "cell_type": "markdown",
   "metadata": {},
   "source": [
    "* Write a function to count and print 1 to 100, then finally print \"Happy new year!\""
   ]
  },
  {
   "cell_type": "code",
   "execution_count": null,
   "metadata": {},
   "outputs": [],
   "source": [
    "# Solution\n",
    "def happy_new_year():\n",
    "    for cnt in range(100):\n",
    "        print(cnt + 1)\n",
    "    print('Happy new year! 🎆')\n",
    "\n",
    "\n",
    "happy_new_year()"
   ]
  },
  {
   "cell_type": "markdown",
   "metadata": {},
   "source": [
    "* Write a function that convert the 3rd character of a word to uppercase\n",
    "    * If length of the word <3, uppercase the last letter."
   ]
  },
  {
   "cell_type": "code",
   "execution_count": null,
   "metadata": {},
   "outputs": [],
   "source": [
    "# Solution 1\n",
    "def special_upper(word):\n",
    "    if len(word) < 3:\n",
    "        return word[0:-1] + word[-1].upper()\n",
    "    return word[0:2] + word[2].upper() + word[3:]\n",
    "\n",
    "# Solution 2\n",
    "\n",
    "\n",
    "def special_upper2(word):\n",
    "    new_char = ''\n",
    "    if len(word) < 3:\n",
    "        for idx, char in enumerate(word):\n",
    "            if idx == len(word):\n",
    "                char = char.upper()\n",
    "            # this is repeated.\n",
    "            new_char += char\n",
    "    else:\n",
    "        for idx, char in enumerate(word):\n",
    "            if idx == 2:\n",
    "                char = char.upper()\n",
    "            # this is repeated.\n",
    "            new_char += char\n",
    "    return new_char\n",
    "\n",
    "\n",
    "print(special_upper('bottles'), special_upper2('bottles'))\n",
    "print(special_upper('gay'), special_upper2('gay'))"
   ]
  },
  {
   "cell_type": "markdown",
   "metadata": {},
   "source": []
  },
  {
   "cell_type": "markdown",
   "metadata": {},
   "source": [
    "# Extra"
   ]
  },
  {
   "cell_type": "markdown",
   "metadata": {},
   "source": [
    "1. Cho 1 list các integer `nums` và biến integer `target`, trả lại 2 số trong `nums` có tổng bằng `target`"
   ]
  },
  {
   "cell_type": "code",
   "execution_count": 1,
   "metadata": {},
   "outputs": [],
   "source": [
    "def two_sum(nums, target):\n",
    "    pass"
   ]
  },
  {
   "cell_type": "code",
   "execution_count": 2,
   "metadata": {},
   "outputs": [
    {
     "ename": "AssertionError",
     "evalue": "",
     "output_type": "error",
     "traceback": [
      "\u001b[0;31m---------------------------------------------------------------------------\u001b[0m",
      "\u001b[0;31mAssertionError\u001b[0m                            Traceback (most recent call last)",
      "\u001b[1;32m/Users/minhquang/Desktop/ml/teach/lesson_2/warm_up.ipynb Cell 21\u001b[0m in \u001b[0;36m1\n\u001b[0;32m----> <a href='vscode-notebook-cell:/Users/minhquang/Desktop/ml/teach/lesson_2/warm_up.ipynb#X40sZmlsZQ%3D%3D?line=0'>1</a>\u001b[0m \u001b[39massert\u001b[39;00m two_sum([\u001b[39m2\u001b[39m, \u001b[39m7\u001b[39m, \u001b[39m11\u001b[39m, \u001b[39m15\u001b[39m], \u001b[39m9\u001b[39m) \u001b[39m==\u001b[39m [\u001b[39m0\u001b[39m, \u001b[39m1\u001b[39m]\n\u001b[1;32m      <a href='vscode-notebook-cell:/Users/minhquang/Desktop/ml/teach/lesson_2/warm_up.ipynb#X40sZmlsZQ%3D%3D?line=1'>2</a>\u001b[0m \u001b[39massert\u001b[39;00m two_sum([\u001b[39m3\u001b[39m, \u001b[39m2\u001b[39m, \u001b[39m4\u001b[39m], \u001b[39m6\u001b[39m) \u001b[39m==\u001b[39m [\u001b[39m1\u001b[39m, \u001b[39m2\u001b[39m]\n\u001b[1;32m      <a href='vscode-notebook-cell:/Users/minhquang/Desktop/ml/teach/lesson_2/warm_up.ipynb#X40sZmlsZQ%3D%3D?line=2'>3</a>\u001b[0m \u001b[39massert\u001b[39;00m two_sum([\u001b[39m3\u001b[39m, \u001b[39m3\u001b[39m], \u001b[39m6\u001b[39m) \u001b[39m==\u001b[39m [\u001b[39m0\u001b[39m, \u001b[39m1\u001b[39m]\n",
      "\u001b[0;31mAssertionError\u001b[0m: "
     ]
    }
   ],
   "source": [
    "assert two_sum([2, 7, 11, 15], 9) == [0, 1]\n",
    "assert two_sum([3, 2, 4], 6) == [1, 2]\n",
    "assert two_sum([3, 3], 6) == [0, 1]"
   ]
  },
  {
   "cell_type": "code",
   "execution_count": 3,
   "metadata": {},
   "outputs": [],
   "source": [
    "# Solution\n",
    "def two_sum(nums, target):\n",
    "    for i in range(len(nums)):\n",
    "        for j in range(i+1, len(nums)):\n",
    "            if nums[i] + nums[j] == target:\n",
    "                return [i, j]"
   ]
  },
  {
   "cell_type": "markdown",
   "metadata": {},
   "source": [
    "2. Cho 1 integer được biểu diễn bằng chuỗi của các chữ số trong integer đó `digits`. Chuỗi này ko gồm số 0 ở đầu. Tăng integer này lên 1 và trả về chuỗi mới biểu diễn các digits trong integer mới.\n",
    "\n",
    "Ví dụ\n",
    "```\n",
    "Input: digits = [1,2,3]\n",
    "Output: [1,2,4]\n",
    "Explanation: The array represents the integer 123.\n",
    "Incrementing by one gives 123 + 1 = 124.\n",
    "Thus, the result should be [1,2,4].\n",
    "```\n",
    "```\n",
    "Input: digits = [9]\n",
    "Output: [1,0]\n",
    "Explanation: The array represents the integer 9.\n",
    "Incrementing by one gives 9 + 1 = 10.\n",
    "Thus, the result should be [1,0].\n",
    "```"
   ]
  },
  {
   "cell_type": "code",
   "execution_count": 4,
   "metadata": {},
   "outputs": [],
   "source": [
    "def plus_one(digits):\n",
    "    pass"
   ]
  },
  {
   "cell_type": "code",
   "execution_count": 5,
   "metadata": {},
   "outputs": [
    {
     "ename": "AssertionError",
     "evalue": "",
     "output_type": "error",
     "traceback": [
      "\u001b[0;31m---------------------------------------------------------------------------\u001b[0m",
      "\u001b[0;31mAssertionError\u001b[0m                            Traceback (most recent call last)",
      "\u001b[1;32m/Users/minhquang/Desktop/ml/teach/lesson_2/warm_up.ipynb Cell 25\u001b[0m in \u001b[0;36m1\n\u001b[0;32m----> <a href='vscode-notebook-cell:/Users/minhquang/Desktop/ml/teach/lesson_2/warm_up.ipynb#X65sZmlsZQ%3D%3D?line=0'>1</a>\u001b[0m \u001b[39massert\u001b[39;00m plus_one([\u001b[39m1\u001b[39m, \u001b[39m2\u001b[39m, \u001b[39m3\u001b[39m]) \u001b[39m==\u001b[39m [\u001b[39m1\u001b[39m, \u001b[39m2\u001b[39m, \u001b[39m4\u001b[39m]\n\u001b[1;32m      <a href='vscode-notebook-cell:/Users/minhquang/Desktop/ml/teach/lesson_2/warm_up.ipynb#X65sZmlsZQ%3D%3D?line=1'>2</a>\u001b[0m \u001b[39massert\u001b[39;00m plus_one([\u001b[39m9\u001b[39m]) \u001b[39m==\u001b[39m [\u001b[39m1\u001b[39m, \u001b[39m0\u001b[39m]\n",
      "\u001b[0;31mAssertionError\u001b[0m: "
     ]
    }
   ],
   "source": [
    "assert plus_one([1, 2, 3]) == [1, 2, 4]\n",
    "assert plus_one([9]) == [1, 0]"
   ]
  },
  {
   "cell_type": "code",
   "execution_count": 6,
   "metadata": {},
   "outputs": [],
   "source": [
    "# Solution\n",
    "def plus_one(digits):\n",
    "    digits_int = int(''.join([str(digit) for digit in digits]))\n",
    "    digits_int += 1\n",
    "    digits = str(digits_int)\n",
    "    return [int(digit) for digit in digits]"
   ]
  },
  {
   "cell_type": "markdown",
   "metadata": {},
   "source": [
    "4. Cho 1 list không rỗng `nums`, mỗi phần tử xuất hiện 2 lần trừ 1 phần tử. Tìm phần tử đó.\n",
    "\n",
    "```\n",
    "Example 1:\n",
    "Input: nums = [2,2,1]\n",
    "Output: 1\n",
    "\n",
    "Example 2:\n",
    "Input: nums = [4,1,2,1,2]\n",
    "Output: 4\n",
    "\n",
    "Example 3:\n",
    "Input: nums = [1]\n",
    "Output: 1\n",
    "```"
   ]
  },
  {
   "cell_type": "code",
   "execution_count": 7,
   "metadata": {},
   "outputs": [],
   "source": [
    "def single_number(nums):\n",
    "    pass"
   ]
  },
  {
   "cell_type": "code",
   "execution_count": 8,
   "metadata": {},
   "outputs": [
    {
     "ename": "AssertionError",
     "evalue": "",
     "output_type": "error",
     "traceback": [
      "\u001b[0;31m---------------------------------------------------------------------------\u001b[0m",
      "\u001b[0;31mAssertionError\u001b[0m                            Traceback (most recent call last)",
      "\u001b[1;32m/Users/minhquang/Desktop/ml/teach/lesson_2/warm_up.ipynb Cell 29\u001b[0m in \u001b[0;36m1\n\u001b[0;32m----> <a href='vscode-notebook-cell:/Users/minhquang/Desktop/ml/teach/lesson_2/warm_up.ipynb#X54sZmlsZQ%3D%3D?line=0'>1</a>\u001b[0m \u001b[39massert\u001b[39;00m single_number([\u001b[39m2\u001b[39m, \u001b[39m2\u001b[39m, \u001b[39m1\u001b[39m]) \u001b[39m==\u001b[39m \u001b[39m1\u001b[39m\n\u001b[1;32m      <a href='vscode-notebook-cell:/Users/minhquang/Desktop/ml/teach/lesson_2/warm_up.ipynb#X54sZmlsZQ%3D%3D?line=1'>2</a>\u001b[0m \u001b[39massert\u001b[39;00m single_number([\u001b[39m4\u001b[39m, \u001b[39m1\u001b[39m, \u001b[39m2\u001b[39m, \u001b[39m1\u001b[39m, \u001b[39m2\u001b[39m]) \u001b[39m==\u001b[39m \u001b[39m4\u001b[39m\n\u001b[1;32m      <a href='vscode-notebook-cell:/Users/minhquang/Desktop/ml/teach/lesson_2/warm_up.ipynb#X54sZmlsZQ%3D%3D?line=2'>3</a>\u001b[0m \u001b[39massert\u001b[39;00m single_number([\u001b[39m1\u001b[39m]) \u001b[39m==\u001b[39m \u001b[39m1\u001b[39m\n",
      "\u001b[0;31mAssertionError\u001b[0m: "
     ]
    }
   ],
   "source": [
    "assert single_number([2, 2, 1]) == 1\n",
    "assert single_number([4, 1, 2, 1, 2]) == 4\n",
    "assert single_number([1]) == 1"
   ]
  },
  {
   "cell_type": "code",
   "execution_count": 9,
   "metadata": {},
   "outputs": [],
   "source": [
    "# Solution\n",
    "def single_number(nums):\n",
    "    repeat_times = {}\n",
    "    for num in nums:\n",
    "        if num in repeat_times:\n",
    "            repeat_times[num] += 1\n",
    "        else:\n",
    "            repeat_times[num] = 1\n",
    "    for key, value in repeat_times.items():\n",
    "        if value == 1:\n",
    "            return key"
   ]
  },
  {
   "cell_type": "markdown",
   "metadata": {},
   "source": [
    "5. Cho chuỗi `nums` chứa `n` phần tử khác nhau từ range `[0, n]`. Trả về số duy nhất từ range mà ko tồn tại trong chuỗi.\n",
    "\n",
    "```\n",
    "Example 1:\n",
    "\n",
    "Input: nums = [3,0,1]\n",
    "Output: 2\n",
    "Explanation: n = 3 since there are 3 numbers, so all numbers are in the range [0,3]. 2 is the missing number in the range since it does not appear in nums.\n",
    "Example 2:\n",
    "\n",
    "Input: nums = [0,1]\n",
    "Output: 2\n",
    "Explanation: n = 2 since there are 2 numbers, so all numbers are in the range [0,2]. 2 is the missing number in the range since it does not appear in nums.\n",
    "Example 3:\n",
    "\n",
    "Input: nums = [9,6,4,2,3,5,7,0,1]\n",
    "Output: 8\n",
    "Explanation: n = 9 since there are 9 numbers, so all numbers are in the range [0,9]. 8 is the missing number in the range since it does not appear in nums.\n",
    "```"
   ]
  },
  {
   "cell_type": "code",
   "execution_count": 10,
   "metadata": {},
   "outputs": [],
   "source": [
    "def missing_number(nums):\n",
    "    pass"
   ]
  },
  {
   "cell_type": "code",
   "execution_count": 11,
   "metadata": {},
   "outputs": [
    {
     "ename": "AssertionError",
     "evalue": "",
     "output_type": "error",
     "traceback": [
      "\u001b[0;31m---------------------------------------------------------------------------\u001b[0m",
      "\u001b[0;31mAssertionError\u001b[0m                            Traceback (most recent call last)",
      "\u001b[1;32m/Users/minhquang/Desktop/ml/teach/lesson_2/warm_up.ipynb Cell 33\u001b[0m in \u001b[0;36m1\n\u001b[0;32m----> <a href='vscode-notebook-cell:/Users/minhquang/Desktop/ml/teach/lesson_2/warm_up.ipynb#X64sZmlsZQ%3D%3D?line=0'>1</a>\u001b[0m \u001b[39massert\u001b[39;00m missing_number([\u001b[39m3\u001b[39m, \u001b[39m0\u001b[39m, \u001b[39m1\u001b[39m]) \u001b[39m==\u001b[39m \u001b[39m2\u001b[39m\n\u001b[1;32m      <a href='vscode-notebook-cell:/Users/minhquang/Desktop/ml/teach/lesson_2/warm_up.ipynb#X64sZmlsZQ%3D%3D?line=1'>2</a>\u001b[0m \u001b[39massert\u001b[39;00m missing_number([\u001b[39m0\u001b[39m, \u001b[39m1\u001b[39m]) \u001b[39m==\u001b[39m \u001b[39m2\u001b[39m\n\u001b[1;32m      <a href='vscode-notebook-cell:/Users/minhquang/Desktop/ml/teach/lesson_2/warm_up.ipynb#X64sZmlsZQ%3D%3D?line=2'>3</a>\u001b[0m \u001b[39massert\u001b[39;00m missing_number([\u001b[39m9\u001b[39m, \u001b[39m6\u001b[39m, \u001b[39m4\u001b[39m, \u001b[39m2\u001b[39m, \u001b[39m3\u001b[39m, \u001b[39m5\u001b[39m, \u001b[39m7\u001b[39m, \u001b[39m0\u001b[39m, \u001b[39m1\u001b[39m]) \u001b[39m==\u001b[39m \u001b[39m8\u001b[39m\n",
      "\u001b[0;31mAssertionError\u001b[0m: "
     ]
    }
   ],
   "source": [
    "assert missing_number([3, 0, 1]) == 2\n",
    "assert missing_number([0, 1]) == 2\n",
    "assert missing_number([9, 6, 4, 2, 3, 5, 7, 0, 1]) == 8"
   ]
  },
  {
   "cell_type": "code",
   "execution_count": 12,
   "metadata": {},
   "outputs": [],
   "source": [
    "# Solution\n",
    "def missing_number(nums):\n",
    "    n = len(nums)\n",
    "    for i in range(n+1):\n",
    "        if i not in nums:\n",
    "            return i"
   ]
  },
  {
   "cell_type": "markdown",
   "metadata": {},
   "source": [
    "3. Cho 1 số `num`, trả về `num` dòng của tam giác Pascal\n",
    "\n",
    "![hey](https://upload.wikimedia.org/wikipedia/commons/0/0d/PascalTriangleAnimated2.gif)\n",
    "\n",
    "```\n",
    "Input: num = 5\n",
    "Output: [[1],[1,1],[1,2,1],[1,3,3,1],[1,4,6,4,1]]\n",
    "```\n",
    "\n",
    "```\n",
    "Input: num = 1\n",
    "Output: [[1]]\n",
    "```"
   ]
  },
  {
   "cell_type": "code",
   "execution_count": null,
   "metadata": {},
   "outputs": [],
   "source": [
    "def pascal_triangle(num):\n",
    "    pass"
   ]
  },
  {
   "cell_type": "code",
   "execution_count": null,
   "metadata": {},
   "outputs": [],
   "source": [
    "assert pascal_triangle(5) == [[1], [1, 1], [1, 2, 1], [\n",
    "    1, 3, 3, 1], [1, 4, 6, 4, 1]]\n",
    "assert pascal_triangle(4) == [[1], [1, 1], [1, 2, 1], [1, 3, 3, 1]]\n",
    "assert pascal_triangle(1) == [[1]]"
   ]
  },
  {
   "cell_type": "code",
   "execution_count": 1,
   "metadata": {},
   "outputs": [],
   "source": [
    "# Solution\n",
    "def pascal_triangle(num):\n",
    "    result = []\n",
    "    for i in range(1, num+1):\n",
    "        if i == 1:\n",
    "            cur_row = [1]\n",
    "        else:\n",
    "            cur_row = [1] + [result[-1][i] + result[-1][i + 1]\n",
    "                             for i in range(i - 2)] + [1]\n",
    "        result.append(cur_row)\n",
    "\n",
    "        if i == num:\n",
    "            return result"
   ]
  },
  {
   "cell_type": "markdown",
   "metadata": {},
   "source": []
  }
 ],
 "metadata": {
  "kernelspec": {
   "display_name": "ml",
   "language": "python",
   "name": "python3"
  },
  "language_info": {
   "codemirror_mode": {
    "name": "ipython",
    "version": 3
   },
   "file_extension": ".py",
   "mimetype": "text/x-python",
   "name": "python",
   "nbconvert_exporter": "python",
   "pygments_lexer": "ipython3",
   "version": "3.9.15"
  },
  "orig_nbformat": 4
 },
 "nbformat": 4,
 "nbformat_minor": 2
}
