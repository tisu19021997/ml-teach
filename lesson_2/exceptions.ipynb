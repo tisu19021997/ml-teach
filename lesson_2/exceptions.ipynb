{
 "cells": [
  {
   "cell_type": "markdown",
   "id": "92525a9a-a17d-4580-b2f0-9a83cdda0920",
   "metadata": {},
   "source": [
    "# Exceptions\n",
    "https://docs.python.org/3/tutorial/errors.html"
   ]
  },
  {
   "cell_type": "code",
   "execution_count": null,
   "id": "272ac458-078b-4a00-8d13-f5f76c91e340",
   "metadata": {},
   "outputs": [],
   "source": [
    "# Print this line of code.\n",
    "print(\"hello, world)"
   ]
  },
  {
   "cell_type": "markdown",
   "id": "e889ea60",
   "metadata": {},
   "source": [
    "# Runtime Errors"
   ]
  },
  {
   "cell_type": "markdown",
   "id": "c6612537",
   "metadata": {},
   "source": [
    "* Runtime errors refer to those created by unexpected behavior within your code.\n",
    "* Give an example of Runtime Errors:"
   ]
  },
  {
   "cell_type": "code",
   "execution_count": null,
   "id": "cae7426d",
   "metadata": {},
   "outputs": [],
   "source": []
  },
  {
   "cell_type": "markdown",
   "id": "715c4c63",
   "metadata": {},
   "source": [
    "* Input a `int` then input an `str` to see the difference"
   ]
  },
  {
   "cell_type": "code",
   "execution_count": null,
   "id": "a1782efe",
   "metadata": {},
   "outputs": [],
   "source": [
    "x = int(input(\"What's x? \"))\n",
    "print(f\"x is {x}\")\n",
    "\n",
    "y = int(input(\"What's y? \"))\n",
    "print(f\"y is {y}\")"
   ]
  },
  {
   "cell_type": "markdown",
   "id": "0f84daa4",
   "metadata": {},
   "source": [
    "# `try`"
   ]
  },
  {
   "cell_type": "markdown",
   "id": "500e8a97",
   "metadata": {},
   "source": [
    "* Program runs `try` => then runs `except` if any errors occured "
   ]
  },
  {
   "cell_type": "code",
   "execution_count": null,
   "id": "aba4fc89",
   "metadata": {},
   "outputs": [],
   "source": [
    "try:\n",
    "    x = int(input(\"What's x?\"))\n",
    "    print(f\"x is {x}\")\n",
    "except ValueError:\n",
    "    print(\"x is not an integer\")\n",
    "\n",
    "del x"
   ]
  },
  {
   "cell_type": "markdown",
   "id": "e1efe948",
   "metadata": {},
   "source": [
    "* Guess the out put of the following code when input \"cat\""
   ]
  },
  {
   "cell_type": "code",
   "execution_count": 4,
   "id": "56abc432",
   "metadata": {},
   "outputs": [
    {
     "name": "stdout",
     "output_type": "stream",
     "text": [
      "x is not an integer\n"
     ]
    },
    {
     "ename": "NameError",
     "evalue": "name 'x' is not defined",
     "output_type": "error",
     "traceback": [
      "\u001b[0;31m---------------------------------------------------------------------------\u001b[0m",
      "\u001b[0;31mNameError\u001b[0m                                 Traceback (most recent call last)",
      "\u001b[1;32m/Users/minhquang/Desktop/ml/teach/lesson_2/exceptions.ipynb Cell 12\u001b[0m in \u001b[0;36m7\n\u001b[1;32m      <a href='vscode-notebook-cell:/Users/minhquang/Desktop/ml/teach/lesson_2/exceptions.ipynb#X14sZmlsZQ%3D%3D?line=3'>4</a>\u001b[0m \u001b[39mexcept\u001b[39;00m \u001b[39mValueError\u001b[39;00m:\n\u001b[1;32m      <a href='vscode-notebook-cell:/Users/minhquang/Desktop/ml/teach/lesson_2/exceptions.ipynb#X14sZmlsZQ%3D%3D?line=4'>5</a>\u001b[0m     \u001b[39mprint\u001b[39m(\u001b[39m\"\u001b[39m\u001b[39mx is not an integer\u001b[39m\u001b[39m\"\u001b[39m)\n\u001b[0;32m----> <a href='vscode-notebook-cell:/Users/minhquang/Desktop/ml/teach/lesson_2/exceptions.ipynb#X14sZmlsZQ%3D%3D?line=6'>7</a>\u001b[0m \u001b[39mprint\u001b[39m(\u001b[39mf\u001b[39m\u001b[39m\"\u001b[39m\u001b[39mx is \u001b[39m\u001b[39m{\u001b[39;00mx\u001b[39m}\u001b[39;00m\u001b[39m\"\u001b[39m)\n\u001b[1;32m      <a href='vscode-notebook-cell:/Users/minhquang/Desktop/ml/teach/lesson_2/exceptions.ipynb#X14sZmlsZQ%3D%3D?line=8'>9</a>\u001b[0m \u001b[39mdel\u001b[39;00m x\n",
      "\u001b[0;31mNameError\u001b[0m: name 'x' is not defined"
     ]
    }
   ],
   "source": [
    "try:\n",
    "    x = int(input(\"What's x?\"))\n",
    "    print(f\"x is {x}\")\n",
    "except ValueError:\n",
    "    print(\"x is not an integer\")\n",
    "\n",
    "print(f\"x is {x}\")\n",
    "\n",
    "del x"
   ]
  },
  {
   "cell_type": "markdown",
   "id": "17847fe2",
   "metadata": {},
   "source": [
    "* Q: Why `x` is not defined when x is not int? In which order did the code run?\n",
    "* A: "
   ]
  },
  {
   "cell_type": "code",
   "execution_count": 10,
   "id": "e4c87929",
   "metadata": {},
   "outputs": [
    {
     "name": "stdout",
     "output_type": "stream",
     "text": [
      "x is zero\n",
      "x is 0\n"
     ]
    }
   ],
   "source": [
    "# Multiple exceptions\n",
    "try:\n",
    "    x = int(input(\"What's x?\"))\n",
    "    y = 10 / x\n",
    "    print(f\"x is {x}\")\n",
    "except ValueError:\n",
    "    print(\"x is not an integer\")\n",
    "except ZeroDivisionError:\n",
    "    print(\"x is zero\")\n",
    "\n",
    "print(f\"x is {x}\")\n",
    "\n",
    "del x"
   ]
  },
  {
   "cell_type": "markdown",
   "id": "7a20856a",
   "metadata": {},
   "source": [
    "# `else`"
   ]
  },
  {
   "cell_type": "markdown",
   "id": "0e299ea1",
   "metadata": {},
   "source": [
    "* Try to run the below code for different inputs to see the differences"
   ]
  },
  {
   "cell_type": "code",
   "execution_count": 12,
   "id": "d7d53ace",
   "metadata": {},
   "outputs": [
    {
     "name": "stdout",
     "output_type": "stream",
     "text": [
      "x is not an integer\n"
     ]
    }
   ],
   "source": [
    "try:\n",
    "    x = int(input(\"What's x?\"))\n",
    "except ValueError:\n",
    "    print(\"x is not an integer\")\n",
    "else:\n",
    "    print(f\"x is {x}\")\n",
    "    del x"
   ]
  },
  {
   "cell_type": "markdown",
   "id": "a2edb233",
   "metadata": {},
   "source": [
    "* Using a `while` loop to force the user to correct their input"
   ]
  },
  {
   "cell_type": "code",
   "execution_count": null,
   "id": "f47653be",
   "metadata": {},
   "outputs": [],
   "source": [
    "while True: \n",
    "..."
   ]
  },
  {
   "cell_type": "markdown",
   "id": "244cc8f3",
   "metadata": {},
   "source": [
    "* Modify the above code to only allows user to retry 5 times only "
   ]
  },
  {
   "cell_type": "code",
   "execution_count": null,
   "id": "bc68fa67",
   "metadata": {},
   "outputs": [],
   "source": [
    "while True: \n",
    "..."
   ]
  },
  {
   "cell_type": "code",
   "execution_count": null,
   "id": "6e8919c3",
   "metadata": {},
   "outputs": [],
   "source": [
    "# Solution\n",
    "n_wrong = 0\n",
    "while True:\n",
    "    try:\n",
    "        x = int(input(\"What's x?\"))\n",
    "    except ValueError:\n",
    "        print(\"x is not an integer\")\n",
    "        n_wrong += 1\n",
    "        if n_wrong == 5:\n",
    "            print(\"input wrong 5 times\")\n",
    "            break\n",
    "    else:\n",
    "        break"
   ]
  },
  {
   "cell_type": "markdown",
   "id": "1bf508f0",
   "metadata": {},
   "source": [
    "# Creating a function to get an integer"
   ]
  },
  {
   "cell_type": "code",
   "execution_count": null,
   "id": "5bd8c08b",
   "metadata": {},
   "outputs": [],
   "source": [
    "def main():\n",
    "    x = get_int()\n",
    "    print(f\"x is {x}\")\n",
    "\n",
    "\n",
    "def get_int():\n",
    "    # Using above code\n",
    "\n",
    "    return x\n",
    "\n",
    "\n",
    "main()"
   ]
  },
  {
   "cell_type": "code",
   "execution_count": null,
   "id": "89921b2b",
   "metadata": {},
   "outputs": [],
   "source": []
  },
  {
   "cell_type": "markdown",
   "id": "f5c637df",
   "metadata": {},
   "source": [
    "# `finally`"
   ]
  },
  {
   "cell_type": "code",
   "execution_count": 2,
   "id": "2945f760",
   "metadata": {},
   "outputs": [
    {
     "name": "stdout",
     "output_type": "stream",
     "text": [
      "x is 10\n",
      "This runs anyway\n"
     ]
    }
   ],
   "source": [
    "try:\n",
    "    x = int(input(\"What's x?\"))\n",
    "except ValueError:\n",
    "    print(\"x is not an integer\")\n",
    "else:\n",
    "    print(f\"x is {x}\")\n",
    "    del x\n",
    "finally:\n",
    "    print(\"This runs anyway!!\")"
   ]
  },
  {
   "cell_type": "markdown",
   "id": "4886af53",
   "metadata": {},
   "source": [
    "# `pass`"
   ]
  },
  {
   "cell_type": "markdown",
   "id": "d38edfc0",
   "metadata": {},
   "source": [
    "* Modify the code to simple `pass` if the input is not integer"
   ]
  },
  {
   "cell_type": "code",
   "execution_count": null,
   "id": "df906541",
   "metadata": {},
   "outputs": [],
   "source": [
    "def main():\n",
    "    x = get_int()\n",
    "    print(f\"x is {x}\")\n",
    "\n",
    "\n",
    "def get_int():\n",
    "    ..."
   ]
  },
  {
   "cell_type": "markdown",
   "id": "048b3944",
   "metadata": {},
   "source": [
    "* Modify the code make the `input` a parameter of the `get_int` function"
   ]
  },
  {
   "cell_type": "code",
   "execution_count": null,
   "id": "b0ceb0df",
   "metadata": {},
   "outputs": [],
   "source": [
    "def main():\n",
    "    x = get_int(\"What's x?\")\n",
    "    print(f\"x is {x}\")\n",
    "\n",
    "\n",
    "def get_int(prompt):\n",
    "    ..."
   ]
  },
  {
   "cell_type": "markdown",
   "id": "b4b133a2",
   "metadata": {},
   "source": [
    "# Summary"
   ]
  },
  {
   "cell_type": "markdown",
   "id": "4c8d15a3",
   "metadata": {},
   "source": [
    "```python\n",
    "try:\n",
    "       # Some Code.... \n",
    "\n",
    "except:\n",
    "       # optional block\n",
    "       # Handling of exception (if required)\n",
    "\n",
    "else:\n",
    "       # execute if no exception\n",
    "\n",
    "finally:\n",
    "      # Some code .....(always executed)\n",
    "```"
   ]
  },
  {
   "cell_type": "markdown",
   "id": "4f3c3790",
   "metadata": {},
   "source": [
    "# Exercise"
   ]
  },
  {
   "cell_type": "markdown",
   "id": "22c7f3c6",
   "metadata": {},
   "source": [
    "1. https://www.hackerrank.com/challenges/incorrect-regex/problem?isFullScreen=true\n",
    "2. https://www.hackerrank.com/challenges/exceptions/problem?isFullScreen=true"
   ]
  },
  {
   "cell_type": "markdown",
   "id": "ab8efe45",
   "metadata": {},
   "source": []
  }
 ],
 "metadata": {
  "kernelspec": {
   "display_name": "ml",
   "language": "python",
   "name": "python3"
  },
  "language_info": {
   "codemirror_mode": {
    "name": "ipython",
    "version": 3
   },
   "file_extension": ".py",
   "mimetype": "text/x-python",
   "name": "python",
   "nbconvert_exporter": "python",
   "pygments_lexer": "ipython3",
   "version": "3.9.15"
  }
 },
 "nbformat": 4,
 "nbformat_minor": 5
}
