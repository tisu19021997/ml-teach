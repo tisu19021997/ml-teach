{
 "cells": [
  {
   "cell_type": "markdown",
   "metadata": {},
   "source": [
    "# Libraries"
   ]
  },
  {
   "cell_type": "markdown",
   "metadata": {},
   "source": [
    "* Libraries are code written by you or others for you to use in your program"
   ]
  },
  {
   "cell_type": "markdown",
   "metadata": {},
   "source": [
    "# Common libraries"
   ]
  },
  {
   "cell_type": "markdown",
   "metadata": {},
   "source": [
    "## random"
   ]
  },
  {
   "cell_type": "code",
   "execution_count": 1,
   "metadata": {},
   "outputs": [
    {
     "name": "stdout",
     "output_type": "stream",
     "text": [
      "tails\n"
     ]
    }
   ],
   "source": [
    "import random\n",
    "\n",
    "coin = random.choice(['heads', 'tails'])\n",
    "print(coin)"
   ]
  },
  {
   "cell_type": "markdown",
   "metadata": {},
   "source": [
    "* Toss the coin for 50 times"
   ]
  },
  {
   "cell_type": "code",
   "execution_count": 2,
   "metadata": {},
   "outputs": [],
   "source": [
    "# Your code here"
   ]
  },
  {
   "cell_type": "markdown",
   "metadata": {},
   "source": [
    "* The above `import` imports all the contents of the package. \n",
    "* Using `from` to only import part of the package."
   ]
  },
  {
   "cell_type": "code",
   "execution_count": 4,
   "metadata": {},
   "outputs": [
    {
     "name": "stdout",
     "output_type": "stream",
     "text": [
      "heads\n"
     ]
    }
   ],
   "source": [
    "from random import choice\n",
    "\n",
    "coin = choice(['heads', 'tails'])\n",
    "print(coin)"
   ]
  },
  {
   "cell_type": "markdown",
   "metadata": {},
   "source": [
    "* `randint` is used to generate a random number between `start` and `end`."
   ]
  },
  {
   "cell_type": "code",
   "execution_count": 5,
   "metadata": {},
   "outputs": [
    {
     "data": {
      "text/plain": [
       "7"
      ]
     },
     "execution_count": 5,
     "metadata": {},
     "output_type": "execute_result"
    }
   ],
   "source": [
    "random.randint(0, 10)"
   ]
  },
  {
   "cell_type": "markdown",
   "metadata": {},
   "source": [
    "* `shuffle` is used to shuffle a list into random order"
   ]
  },
  {
   "cell_type": "code",
   "execution_count": 6,
   "metadata": {},
   "outputs": [
    {
     "name": "stdout",
     "output_type": "stream",
     "text": [
      "['J', 'Q', 'A', 'K']\n"
     ]
    }
   ],
   "source": [
    "cards = ['A', 'J', 'K', 'Q']\n",
    "random.shuffle(cards)\n",
    "\n",
    "print(cards)"
   ]
  },
  {
   "cell_type": "markdown",
   "metadata": {},
   "source": [
    "> Exercise: Write a function to randomly assign study group for each person in class. \n",
    "* Avaiable study group: \"Tiger\", \"Lion\", \"Rabbit\"\n",
    "* Return the result in the format {person: group} "
   ]
  },
  {
   "cell_type": "code",
   "execution_count": 8,
   "metadata": {},
   "outputs": [],
   "source": [
    "people = [\"Dang\", \"Athony\", \"Phuong\", \"Quang\", \"Quynh\", \"Thanh\", \"Duy\"]\n",
    "groups = [\"Tiger\", \"Lion\", \"Rabbit\"]\n",
    "\n",
    "# Your code here"
   ]
  },
  {
   "cell_type": "code",
   "execution_count": null,
   "metadata": {},
   "outputs": [],
   "source": [
    "# Solution\n",
    "person_group = {}\n",
    "for person in people:\n",
    "    person_group[person] = random.choice(groups)\n",
    "\n",
    "person_group"
   ]
  },
  {
   "cell_type": "markdown",
   "metadata": {},
   "source": [
    "---"
   ]
  },
  {
   "cell_type": "markdown",
   "metadata": {},
   "source": [
    "# statistics"
   ]
  },
  {
   "cell_type": "code",
   "execution_count": 9,
   "metadata": {},
   "outputs": [
    {
     "name": "stdout",
     "output_type": "stream",
     "text": [
      "95\n"
     ]
    }
   ],
   "source": [
    "import statistics\n",
    "\n",
    "print(statistics.mean([100, 90]))"
   ]
  },
  {
   "cell_type": "markdown",
   "metadata": {},
   "source": [
    "* Using alias `as` to shorten the module name "
   ]
  },
  {
   "cell_type": "code",
   "execution_count": 10,
   "metadata": {},
   "outputs": [
    {
     "name": "stdout",
     "output_type": "stream",
     "text": [
      "95\n"
     ]
    }
   ],
   "source": [
    "import statistics as sts\n",
    "\n",
    "print(sts.mean([100, 90]))"
   ]
  },
  {
   "cell_type": "markdown",
   "metadata": {},
   "source": [
    "> Exercise: Generate a list of number from 0 to 100 with length 50. Calculate `mean`. Run the code for 10 times to see the differences."
   ]
  },
  {
   "cell_type": "code",
   "execution_count": null,
   "metadata": {},
   "outputs": [],
   "source": []
  },
  {
   "cell_type": "code",
   "execution_count": null,
   "metadata": {},
   "outputs": [],
   "source": [
    "# Solution\n",
    "for _ in range(10):\n",
    "    numbers = [random.randint(0, 100) for _ in range(50)]\n",
    "    print(sts.mean(numbers))"
   ]
  },
  {
   "cell_type": "markdown",
   "metadata": {},
   "source": [
    "# APIs"
   ]
  },
  {
   "cell_type": "markdown",
   "metadata": {},
   "source": [
    "* APIs or “application program interfaces” allow you to connect to the code of others."
   ]
  },
  {
   "cell_type": "code",
   "execution_count": 25,
   "metadata": {},
   "outputs": [
    {
     "data": {
      "text/plain": [
       "{'resultCount': 1,\n",
       " 'results': [{'wrapperType': 'track',\n",
       "   'kind': 'song',\n",
       "   'artistId': 329275,\n",
       "   'collectionId': 207315427,\n",
       "   'trackId': 207316133,\n",
       "   'artistName': 'Joe Diffie',\n",
       "   'collectionName': '16 Biggest Hits: Joe Diffie',\n",
       "   'trackName': 'Bigger Than the Beatles',\n",
       "   'collectionCensoredName': '16 Biggest Hits: Joe Diffie',\n",
       "   'trackCensoredName': 'Bigger Than the Beatles',\n",
       "   'artistViewUrl': 'https://music.apple.com/us/artist/joe-diffie/329275?uo=4',\n",
       "   'collectionViewUrl': 'https://music.apple.com/us/album/bigger-than-the-beatles/207315427?i=207316133&uo=4',\n",
       "   'trackViewUrl': 'https://music.apple.com/us/album/bigger-than-the-beatles/207315427?i=207316133&uo=4',\n",
       "   'previewUrl': 'https://audio-ssl.itunes.apple.com/itunes-assets/AudioPreview125/v4/5e/fc/99/5efc9994-9ef8-6ed4-ed09-946b9949cf37/mzaf_10395587702733332197.plus.aac.p.m4a',\n",
       "   'artworkUrl30': 'https://is4-ssl.mzstatic.com/image/thumb/Features115/v4/f7/69/95/f7699529-e7a5-6b5c-10b0-0f1299777f4e/dj.zeytwggc.jpg/30x30bb.jpg',\n",
       "   'artworkUrl60': 'https://is4-ssl.mzstatic.com/image/thumb/Features115/v4/f7/69/95/f7699529-e7a5-6b5c-10b0-0f1299777f4e/dj.zeytwggc.jpg/60x60bb.jpg',\n",
       "   'artworkUrl100': 'https://is4-ssl.mzstatic.com/image/thumb/Features115/v4/f7/69/95/f7699529-e7a5-6b5c-10b0-0f1299777f4e/dj.zeytwggc.jpg/100x100bb.jpg',\n",
       "   'collectionPrice': 9.99,\n",
       "   'trackPrice': 1.29,\n",
       "   'releaseDate': '1995-11-27T08:00:00Z',\n",
       "   'collectionExplicitness': 'notExplicit',\n",
       "   'trackExplicitness': 'notExplicit',\n",
       "   'discCount': 1,\n",
       "   'discNumber': 1,\n",
       "   'trackCount': 16,\n",
       "   'trackNumber': 13,\n",
       "   'trackTimeMillis': 235427,\n",
       "   'country': 'USA',\n",
       "   'currency': 'USD',\n",
       "   'primaryGenreName': 'Country',\n",
       "   'isStreamable': True}]}"
      ]
     },
     "execution_count": 25,
     "metadata": {},
     "output_type": "execute_result"
    }
   ],
   "source": [
    "import requests\n",
    "import sys\n",
    "\n",
    "search = 'beatles'\n",
    "response = requests.get(\n",
    "    f\"https://itunes.apple.com/search?entity=song&limit=1&term={search}\")\n",
    "response.json()"
   ]
  },
  {
   "cell_type": "code",
   "execution_count": null,
   "metadata": {},
   "outputs": [],
   "source": []
  }
 ],
 "metadata": {
  "kernelspec": {
   "display_name": "ml",
   "language": "python",
   "name": "python3"
  },
  "language_info": {
   "codemirror_mode": {
    "name": "ipython",
    "version": 3
   },
   "file_extension": ".py",
   "mimetype": "text/x-python",
   "name": "python",
   "nbconvert_exporter": "python",
   "pygments_lexer": "ipython3",
   "version": "3.9.15"
  },
  "orig_nbformat": 4
 },
 "nbformat": 4,
 "nbformat_minor": 2
}
